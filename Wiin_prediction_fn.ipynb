{
 "cells": [
  {
   "cell_type": "code",
   "execution_count": 1,
   "id": "e853fda9",
   "metadata": {},
   "outputs": [],
   "source": [
    "import pandas as pd\n",
    "import matplotlib.pyplot as plt\n",
    "import numpy as np\n",
    "import seaborn as sns\n",
    "#Visualization\n",
    "#import sweetviz as sv\n",
    "#label encoding\n",
    "from sklearn import preprocessing\n",
    "label_ecoder = preprocessing.LabelEncoder()\n",
    "#CHI 2 Test \n",
    "import scipy.stats as stats\n",
    "from scipy.stats import chi2\n",
    "from scipy.stats import chi2_contingency \n",
    "#Train test split\n",
    "from sklearn.model_selection import train_test_split\n",
    "#Logistic Regression function-=-=-=-=-=-=-=-=-=-=-=-=-=-=------------------\n",
    "import statsmodels.api as smapi \n",
    "from sklearn import metrics\n",
    "from sklearn.metrics import classification_report\n",
    "#Decision Tree\n",
    "from sklearn.tree import DecisionTreeClassifier\n",
    "#Grid Search\n",
    "from sklearn.model_selection import GridSearchCV\n",
    "#Random Forest\n",
    "from sklearn.ensemble import RandomForestClassifier\n"
   ]
  },
  {
   "cell_type": "code",
   "execution_count": 2,
   "id": "4a0d55e3",
   "metadata": {},
   "outputs": [],
   "source": [
    "pd.set_option('max_columns', None)\n",
    "#pd.set_option('max_rows', None)\n",
    "pd.set_option('max_colwidth', None)\n"
   ]
  },
  {
   "cell_type": "code",
   "execution_count": 3,
   "id": "bfbb2f03",
   "metadata": {},
   "outputs": [],
   "source": [
    "path = \"C:/Users/aksha/Desktop/Phython_spyder/projects/Win Prediction/Win_Prediction_Data.csv\"\n",
    "df = pd.read_csv(path)"
   ]
  },
  {
   "cell_type": "code",
   "execution_count": 4,
   "id": "5d5fdbd3",
   "metadata": {},
   "outputs": [
    {
     "data": {
      "text/html": [
       "<div>\n",
       "<style scoped>\n",
       "    .dataframe tbody tr th:only-of-type {\n",
       "        vertical-align: middle;\n",
       "    }\n",
       "\n",
       "    .dataframe tbody tr th {\n",
       "        vertical-align: top;\n",
       "    }\n",
       "\n",
       "    .dataframe thead th {\n",
       "        text-align: right;\n",
       "    }\n",
       "</style>\n",
       "<table border=\"1\" class=\"dataframe\">\n",
       "  <thead>\n",
       "    <tr style=\"text-align: right;\">\n",
       "      <th></th>\n",
       "      <th>Client_Category</th>\n",
       "      <th>Solution_Type</th>\n",
       "      <th>Deal_Date</th>\n",
       "      <th>Sector</th>\n",
       "      <th>Location</th>\n",
       "      <th>VP_Name</th>\n",
       "      <th>Manager_Name</th>\n",
       "      <th>Deal_Cost</th>\n",
       "      <th>Deal_Status_Code</th>\n",
       "    </tr>\n",
       "  </thead>\n",
       "  <tbody>\n",
       "    <tr>\n",
       "      <th>0</th>\n",
       "      <td>Telecom</td>\n",
       "      <td>Solution 7</td>\n",
       "      <td>27-Mar-12</td>\n",
       "      <td>Sector 24</td>\n",
       "      <td>L5</td>\n",
       "      <td>Ekta Zutshi</td>\n",
       "      <td>Gopa Trilochana</td>\n",
       "      <td>150000.00</td>\n",
       "      <td>Won</td>\n",
       "    </tr>\n",
       "    <tr>\n",
       "      <th>1</th>\n",
       "      <td>Telecom</td>\n",
       "      <td>Solution 7</td>\n",
       "      <td>25-Sep-12</td>\n",
       "      <td>Sector 24</td>\n",
       "      <td>L5</td>\n",
       "      <td>Ekta Zutshi</td>\n",
       "      <td>Gopa Trilochana</td>\n",
       "      <td>744705.88</td>\n",
       "      <td>Won</td>\n",
       "    </tr>\n",
       "    <tr>\n",
       "      <th>2</th>\n",
       "      <td>Internal</td>\n",
       "      <td>Solution 59</td>\n",
       "      <td>01-Aug-11</td>\n",
       "      <td>Sector 20</td>\n",
       "      <td>Others</td>\n",
       "      <td>Ekta Zutshi</td>\n",
       "      <td>Russell Dahlen</td>\n",
       "      <td>60000.00</td>\n",
       "      <td>Lost</td>\n",
       "    </tr>\n",
       "    <tr>\n",
       "      <th>3</th>\n",
       "      <td>Internal</td>\n",
       "      <td>Solution 59</td>\n",
       "      <td>28-Apr-11</td>\n",
       "      <td>Sector 20</td>\n",
       "      <td>Others</td>\n",
       "      <td>Ekta Zutshi</td>\n",
       "      <td>Russell Dahlen</td>\n",
       "      <td>60000.00</td>\n",
       "      <td>Lost</td>\n",
       "    </tr>\n",
       "    <tr>\n",
       "      <th>4</th>\n",
       "      <td>Internal</td>\n",
       "      <td>Solution 32</td>\n",
       "      <td>03-Jun-11</td>\n",
       "      <td>Sector 20</td>\n",
       "      <td>Others</td>\n",
       "      <td>Ekta Zutshi</td>\n",
       "      <td>Russell Dahlen</td>\n",
       "      <td>80882.35</td>\n",
       "      <td>Lost</td>\n",
       "    </tr>\n",
       "  </tbody>\n",
       "</table>\n",
       "</div>"
      ],
      "text/plain": [
       "  Client_Category Solution_Type  Deal_Date     Sector Location      VP_Name  \\\n",
       "0         Telecom    Solution 7  27-Mar-12  Sector 24       L5  Ekta Zutshi   \n",
       "1         Telecom    Solution 7  25-Sep-12  Sector 24       L5  Ekta Zutshi   \n",
       "2        Internal   Solution 59  01-Aug-11  Sector 20   Others  Ekta Zutshi   \n",
       "3        Internal   Solution 59  28-Apr-11  Sector 20   Others  Ekta Zutshi   \n",
       "4        Internal   Solution 32  03-Jun-11  Sector 20   Others  Ekta Zutshi   \n",
       "\n",
       "      Manager_Name  Deal_Cost Deal_Status_Code  \n",
       "0  Gopa Trilochana  150000.00              Won  \n",
       "1  Gopa Trilochana  744705.88              Won  \n",
       "2   Russell Dahlen   60000.00             Lost  \n",
       "3   Russell Dahlen   60000.00             Lost  \n",
       "4   Russell Dahlen   80882.35             Lost  "
      ]
     },
     "execution_count": 4,
     "metadata": {},
     "output_type": "execute_result"
    }
   ],
   "source": [
    "df.head()"
   ]
  },
  {
   "cell_type": "code",
   "execution_count": 5,
   "id": "6a6ed554",
   "metadata": {},
   "outputs": [
    {
     "name": "stdout",
     "output_type": "stream",
     "text": [
      "<class 'pandas.core.frame.DataFrame'>\n",
      "RangeIndex: 10061 entries, 0 to 10060\n",
      "Data columns (total 9 columns):\n",
      " #   Column            Non-Null Count  Dtype  \n",
      "---  ------            --------------  -----  \n",
      " 0   Client_Category   9982 non-null   object \n",
      " 1   Solution_Type     10061 non-null  object \n",
      " 2   Deal_Date         10061 non-null  object \n",
      " 3   Sector            10061 non-null  object \n",
      " 4   Location          10061 non-null  object \n",
      " 5   VP_Name           10061 non-null  object \n",
      " 6   Manager_Name      10061 non-null  object \n",
      " 7   Deal_Cost         10061 non-null  float64\n",
      " 8   Deal_Status_Code  10061 non-null  object \n",
      "dtypes: float64(1), object(8)\n",
      "memory usage: 707.5+ KB\n"
     ]
    },
    {
     "data": {
      "text/plain": [
       "Index(['Client_Category', 'Solution_Type', 'Deal_Date', 'Sector', 'Location',\n",
       "       'VP_Name', 'Manager_Name', 'Deal_Cost', 'Deal_Status_Code'],\n",
       "      dtype='object')"
      ]
     },
     "execution_count": 5,
     "metadata": {},
     "output_type": "execute_result"
    }
   ],
   "source": [
    "df.shape\n",
    "df.info()\n",
    "df.columns"
   ]
  },
  {
   "cell_type": "code",
   "execution_count": 6,
   "id": "67dffcc3",
   "metadata": {},
   "outputs": [
    {
     "data": {
      "text/plain": [
       "Client_Category     79\n",
       "Solution_Type        0\n",
       "Deal_Date            0\n",
       "Sector               0\n",
       "Location             0\n",
       "VP_Name              0\n",
       "Manager_Name         0\n",
       "Deal_Cost            0\n",
       "Deal_Status_Code     0\n",
       "dtype: int64"
      ]
     },
     "execution_count": 6,
     "metadata": {},
     "output_type": "execute_result"
    }
   ],
   "source": [
    "\"\"\"##check for nulls\n",
    "\n",
    "\"\"\"\n",
    "\n",
    "df.isnull().sum()"
   ]
  },
  {
   "cell_type": "code",
   "execution_count": 34,
   "id": "b9973677",
   "metadata": {},
   "outputs": [
    {
     "data": {
      "text/plain": [
       "0"
      ]
     },
     "execution_count": 34,
     "metadata": {},
     "output_type": "execute_result"
    }
   ],
   "source": [
    "\"\"\"##Check for 0 in Deal Cost\"\"\"\n",
    "\n",
    "df['Deal_Cost'][df.Deal_Cost==0].count().sum()\n",
    "#246"
   ]
  },
  {
   "cell_type": "code",
   "execution_count": 8,
   "id": "b6edf2bd",
   "metadata": {},
   "outputs": [
    {
     "data": {
      "text/plain": [
       "Lost    6306\n",
       "Won     3755\n",
       "Name: Deal_Status_Code, dtype: int64"
      ]
     },
     "execution_count": 8,
     "metadata": {},
     "output_type": "execute_result"
    }
   ],
   "source": [
    "\"\"\"##check distribution of win and loss\"\"\"\n",
    "\n",
    "df['Deal_Status_Code'].value_counts()"
   ]
  },
  {
   "cell_type": "code",
   "execution_count": 9,
   "id": "2b23b336",
   "metadata": {},
   "outputs": [
    {
     "data": {
      "text/plain": [
       "0        1\n",
       "1        1\n",
       "2        0\n",
       "3        0\n",
       "4        0\n",
       "        ..\n",
       "10056    0\n",
       "10057    1\n",
       "10058    0\n",
       "10059    1\n",
       "10060    0\n",
       "Name: Deal_Status_Code, Length: 10061, dtype: int32"
      ]
     },
     "execution_count": 9,
     "metadata": {},
     "output_type": "execute_result"
    }
   ],
   "source": [
    "#label encoding Deal_Status_Code\n",
    "df['Deal_Status_Code'] =  label_ecoder.fit_transform(df['Deal_Status_Code'])\n",
    "\n",
    "df['Deal_Status_Code']"
   ]
  },
  {
   "cell_type": "markdown",
   "id": "9be2454b",
   "metadata": {},
   "source": [
    "## Visualization function\n"
   ]
  },
  {
   "cell_type": "code",
   "execution_count": 10,
   "id": "7d9268b4",
   "metadata": {},
   "outputs": [],
   "source": [
    "#count graph\n",
    "\n",
    "\n",
    "def count_grph(data,x):\n",
    "  fig = plt.gcf()\n",
    "  fig.set_size_inches(17, 8)\n",
    "\n",
    "  plt.hist(x=data[x],rwidth=0.7,bins=len(data[x].unique()))\n",
    "  plt.xticks(data[x],rotation='vertical',size=13)\n",
    "  plt.show()\n"
   ]
  },
  {
   "cell_type": "code",
   "execution_count": 144,
   "id": "477be6de",
   "metadata": {},
   "outputs": [],
   "source": [
    "\"\"\"Comparing X with Deal_Status_count\n",
    "\n",
    "\"\"\"\n",
    "\n",
    "def vs_dealstatus(data,x):\n",
    "  cs = data.groupby(x).Deal_Status_Code.value_counts(normalize=False)\n",
    "  #cs\n",
    "  cs.unstack()\n",
    "  cs.unstack().plot(kind='bar',figsize=(17, 9))\n",
    "  return(cs.unstack())\n",
    "\n"
   ]
  },
  {
   "cell_type": "code",
   "execution_count": 79,
   "id": "642ba401",
   "metadata": {},
   "outputs": [],
   "source": [
    "def boxplot(data,c):\n",
    "     sns.boxplot(y= data[c],data=data)\n",
    "     plt.show()\n",
    "     return(1)"
   ]
  },
  {
   "cell_type": "markdown",
   "id": "60d7b077",
   "metadata": {},
   "source": [
    "## CLIENT CATEGORY"
   ]
  },
  {
   "cell_type": "code",
   "execution_count": 12,
   "id": "f746f1f6",
   "metadata": {},
   "outputs": [
    {
     "data": {
      "text/plain": [
       "L10    79\n",
       "Name: Location, dtype: int64"
      ]
     },
     "execution_count": 12,
     "metadata": {},
     "output_type": "execute_result"
    }
   ],
   "source": [
    "df['Location'][df.Client_Category.isnull()].value_counts()\n",
    "#All location is L10 where Client_Category is null\n"
   ]
  },
  {
   "cell_type": "code",
   "execution_count": 13,
   "id": "fb5c2162",
   "metadata": {},
   "outputs": [],
   "source": [
    "df.Client_Category[df.Location=='L10'].mode()\n",
    "#Mode is Others\n",
    "\n",
    "#converting the nulls to Others value as location L10 has Others as mode of Client_Category mode*\n",
    "df.Client_Category = df.Client_Category.fillna('Others')\n"
   ]
  },
  {
   "cell_type": "code",
   "execution_count": 14,
   "id": "eb0745cf",
   "metadata": {},
   "outputs": [
    {
     "data": {
      "text/plain": [
       "Client_Category     0\n",
       "Solution_Type       0\n",
       "Deal_Date           0\n",
       "Sector              0\n",
       "Location            0\n",
       "VP_Name             0\n",
       "Manager_Name        0\n",
       "Deal_Cost           0\n",
       "Deal_Status_Code    0\n",
       "dtype: int64"
      ]
     },
     "execution_count": 14,
     "metadata": {},
     "output_type": "execute_result"
    }
   ],
   "source": [
    "df.isnull().sum()\n"
   ]
  },
  {
   "cell_type": "code",
   "execution_count": 15,
   "id": "84e4aa9e",
   "metadata": {},
   "outputs": [
    {
     "data": {
      "image/png": "[encoded data removed]",
      "text/plain": [
       "<Figure size 1224x576 with 1 Axes>"
      ]
     },
     "metadata": {
      "needs_background": "light"
     },
     "output_type": "display_data"
    }
   ],
   "source": [
    "#Distribution of Client_Category\n",
    "fig = plt.gcf()\n",
    "fig.set_size_inches(17, 8)\n",
    "\n",
    "plt.hist(x=df.Client_Category,rwidth=0.7,bins=len(df.Client_Category.unique()))\n",
    "plt.xticks(df.Client_Category,rotation='vertical',size=13)\n",
    "plt.show()"
   ]
  },
  {
   "cell_type": "code",
   "execution_count": 16,
   "id": "7c787b5d",
   "metadata": {},
   "outputs": [
    {
     "data": {
      "text/plain": [
       "41"
      ]
     },
     "execution_count": 16,
     "metadata": {},
     "output_type": "execute_result"
    }
   ],
   "source": [
    "len(df.Client_Category.unique()) #41 #high cardinality"
   ]
  },
  {
   "cell_type": "code",
   "execution_count": 17,
   "id": "1b391a4f",
   "metadata": {},
   "outputs": [
    {
     "data": {
      "image/png": "[encoded data removed]",
      "text/plain": [
       "<Figure size 1224x648 with 1 Axes>"
      ]
     },
     "metadata": {
      "needs_background": "light"
     },
     "output_type": "display_data"
    }
   ],
   "source": [
    "cs_Client_Category = vs_dealstatus(data=df,x='Client_Category')"
   ]
  },
  {
   "cell_type": "markdown",
   "id": "5098c0fe",
   "metadata": {},
   "source": [
    "#### there are more wins then loss for client category \"Internal\" and \"Share market\"\n",
    "#### on observing counts and CS.unstack bar we can keep 10 frequent values for encoding and add other values to 'Others'"
   ]
  },
  {
   "cell_type": "code",
   "execution_count": 22,
   "id": "0bb33364",
   "metadata": {},
   "outputs": [],
   "source": [
    "#keep only 15  (41 - 15)\n",
    "bottom31 = [x for x in df.Client_Category.value_counts().sort_values(ascending=False).tail(41-17).index]\n"
   ]
  },
  {
   "cell_type": "code",
   "execution_count": 23,
   "id": "af4b65a2",
   "metadata": {},
   "outputs": [
    {
     "data": {
      "text/plain": [
       "['Govt',\n",
       " 'Hospitality',\n",
       " 'Manufacturing',\n",
       " 'Pharma',\n",
       " 'Healthcare',\n",
       " 'Electronics',\n",
       " 'Media_Journal',\n",
       " 'Industries',\n",
       " 'Research Development',\n",
       " 'Energy',\n",
       " 'Knowledge',\n",
       " 'Management',\n",
       " 'Govt Bank Special',\n",
       " 'Payment',\n",
       " 'Energy ',\n",
       " 'e-commerce',\n",
       " 'Airpline',\n",
       " 'Holding',\n",
       " 'International Org',\n",
       " 'Logistics',\n",
       " 'Real Estate',\n",
       " 'Share_market',\n",
       " 'Tax_audit',\n",
       " 'Medical ']"
      ]
     },
     "execution_count": 23,
     "metadata": {},
     "output_type": "execute_result"
    }
   ],
   "source": [
    "bottom31"
   ]
  },
  {
   "cell_type": "code",
   "execution_count": 24,
   "id": "c8d68b4f",
   "metadata": {},
   "outputs": [
    {
     "data": {
      "text/plain": [
       "Others                   3131\n",
       "Internal                 1454\n",
       "Services_based           1202\n",
       "Tech                      913\n",
       "Domestic Public Bank      419\n",
       "International Bank        376\n",
       "Consulting                352\n",
       "Finance                   339\n",
       "Telecom                   327\n",
       "Power ind                 264\n",
       "Domestic Private Bank     262\n",
       "Insurance                 247\n",
       "Consumer Good             185\n",
       "Automobiles               178\n",
       "Infrastructure            152\n",
       "Domestic Bank             134\n",
       "Retail_market             126\n",
       "Name: Client_Category, dtype: int64"
      ]
     },
     "execution_count": 24,
     "metadata": {},
     "output_type": "execute_result"
    }
   ],
   "source": [
    "for label in bottom31:\n",
    "    df['Client_Category'] = df['Client_Category'].replace(label,'Others')\n",
    "\n",
    "df.Client_Category.value_counts()\n"
   ]
  },
  {
   "cell_type": "code",
   "execution_count": 25,
   "id": "9a0d767b",
   "metadata": {},
   "outputs": [
    {
     "data": {
      "image/png": "[encoded data removed]",
      "text/plain": [
       "<Figure size 1224x648 with 1 Axes>"
      ]
     },
     "metadata": {
      "needs_background": "light"
     },
     "output_type": "display_data"
    }
   ],
   "source": [
    "cs_Client_Category1 = vs_dealstatus(data=df,x='Client_Category')\n"
   ]
  },
  {
   "cell_type": "markdown",
   "id": "6a078576",
   "metadata": {},
   "source": [
    "## Deal Cost"
   ]
  },
  {
   "cell_type": "code",
   "execution_count": 26,
   "id": "75434933",
   "metadata": {},
   "outputs": [
    {
     "data": {
      "text/plain": [
       "count    1.006100e+04\n",
       "mean     7.668969e+05\n",
       "std      1.619894e+06\n",
       "min      0.000000e+00\n",
       "25%      1.897059e+05\n",
       "50%      3.823529e+05\n",
       "75%      7.647059e+05\n",
       "max      3.676471e+07\n",
       "Name: Deal_Cost, dtype: float64"
      ]
     },
     "execution_count": 26,
     "metadata": {},
     "output_type": "execute_result"
    }
   ],
   "source": [
    "df[\"Deal_Cost\"].describe()"
   ]
  },
  {
   "cell_type": "code",
   "execution_count": 30,
   "id": "e105ea4e",
   "metadata": {},
   "outputs": [
    {
     "data": {
      "image/png": "[encoded data removed]",
      "text/plain": [
       "<Figure size 432x288 with 1 Axes>"
      ]
     },
     "metadata": {
      "needs_background": "light"
     },
     "output_type": "display_data"
    },
    {
     "data": {
      "text/plain": [
       "1"
      ]
     },
     "execution_count": 30,
     "metadata": {},
     "output_type": "execute_result"
    }
   ],
   "source": [
    "boxplot(df, \"Deal_Cost\")\n"
   ]
  },
  {
   "cell_type": "markdown",
   "id": "1af152a6",
   "metadata": {},
   "source": [
    "#### many outliers #### perform np log transformation incase we apply logistic regression"
   ]
  },
  {
   "cell_type": "code",
   "execution_count": 32,
   "id": "a44574dd",
   "metadata": {},
   "outputs": [
    {
     "data": {
      "text/plain": [
       "Deal_Status_Code\n",
       "0    426470.59\n",
       "1    345000.59\n",
       "Name: Deal_Cost, dtype: float64"
      ]
     },
     "execution_count": 32,
     "metadata": {},
     "output_type": "execute_result"
    }
   ],
   "source": [
    "df['Deal_Status_Code'][df.Deal_Cost==0].value_counts()\n",
    "#only 4 are won in 246\n",
    "df.groupby('Deal_Status_Code').Deal_Cost.median()\n"
   ]
  },
  {
   "cell_type": "code",
   "execution_count": 33,
   "id": "2dcc66a5",
   "metadata": {},
   "outputs": [
    {
     "name": "stderr",
     "output_type": "stream",
     "text": [
      "<ipython-input-33-260cab482fd3>:1: SettingWithCopyWarning: \n",
      "A value is trying to be set on a copy of a slice from a DataFrame\n",
      "\n",
      "See the caveats in the documentation: https://pandas.pydata.org/pandas-docs/stable/user_guide/indexing.html#returning-a-view-versus-a-copy\n",
      "  df['Deal_Cost'][(df.Deal_Cost==0) & (df.Deal_Status_Code == 0)] = 426470.59\n"
     ]
    }
   ],
   "source": [
    "df['Deal_Cost'][(df.Deal_Cost==0) & (df.Deal_Status_Code == 0)] = 426470.59\n",
    "df['Deal_Cost'][(df.Deal_Cost==0) & (df.Deal_Status_Code == 1)] = 345000.59"
   ]
  },
  {
   "cell_type": "markdown",
   "id": "2bd35114",
   "metadata": {},
   "source": [
    "##### check impact on Deal status Code"
   ]
  },
  {
   "cell_type": "code",
   "execution_count": 35,
   "id": "10a7b7d5",
   "metadata": {},
   "outputs": [
    {
     "data": {
      "image/png": "[encoded data removed]",
      "text/plain": [
       "<Figure size 432x288 with 1 Axes>"
      ]
     },
     "metadata": {
      "needs_background": "light"
     },
     "output_type": "display_data"
    }
   ],
   "source": [
    "groupedvalues  = df.groupby('Deal_Status_Code')['Deal_Cost'].median().reset_index()\n",
    "groupedvalues.sort_values(by=['Deal_Cost'])\n",
    "\n",
    "\n",
    "g = sns.barplot(x=groupedvalues[\"Deal_Status_Code\"],y=groupedvalues[\"Deal_Cost\"],data=groupedvalues)\n"
   ]
  },
  {
   "cell_type": "markdown",
   "id": "db0eabd6",
   "metadata": {},
   "source": []
  },
  {
   "cell_type": "markdown",
   "id": "33a5a45f",
   "metadata": {},
   "source": [
    "#### Anova test to check significane of Deal Staus Code and Deal Cost"
   ]
  },
  {
   "cell_type": "code",
   "execution_count": 36,
   "id": "baadfea8",
   "metadata": {},
   "outputs": [],
   "source": [
    "import statsmodels.api as sm\n",
    "from statsmodels.formula.api import ols\n"
   ]
  },
  {
   "cell_type": "code",
   "execution_count": 37,
   "id": "0080e614",
   "metadata": {},
   "outputs": [
    {
     "data": {
      "text/plain": [
       "0.6963075253465635"
      ]
     },
     "execution_count": 37,
     "metadata": {},
     "output_type": "execute_result"
    }
   ],
   "source": [
    "model = ols('Deal_Cost~Deal_Status_Code',data=df).fit()\n",
    "anova = sm.stats.anova_lm(model,typ = 2)\n",
    "pval = anova['PR(>F)'][0]\n",
    "pval"
   ]
  },
  {
   "cell_type": "code",
   "execution_count": 38,
   "id": "1e3e672c",
   "metadata": {},
   "outputs": [
    {
     "name": "stdout",
     "output_type": "stream",
     "text": [
      "Deal_cost is not significant\n"
     ]
    }
   ],
   "source": [
    "if pval < 0.05:\n",
    "    print('Deal_cost is significant')\n",
    "else:\n",
    "    print('Deal_cost is not significant')"
   ]
  },
  {
   "cell_type": "markdown",
   "id": "f383e7ac",
   "metadata": {},
   "source": [
    "## Solution Type"
   ]
  },
  {
   "cell_type": "code",
   "execution_count": 40,
   "id": "748cf4fd",
   "metadata": {},
   "outputs": [
    {
     "data": {
      "text/plain": [
       "67"
      ]
     },
     "execution_count": 40,
     "metadata": {},
     "output_type": "execute_result"
    }
   ],
   "source": [
    "len(df['Solution_Type'].unique())"
   ]
  },
  {
   "cell_type": "code",
   "execution_count": 41,
   "id": "0c070452",
   "metadata": {},
   "outputs": [
    {
     "name": "stdout",
     "output_type": "stream",
     "text": [
      "Solution 32    1439\n",
      "Solution 9     1418\n",
      "Solution 10    1016\n",
      "Solution 39     585\n",
      "Solution 67     584\n",
      "Solution 37     502\n",
      "Solution 59     478\n",
      "Solution 12     440\n",
      "Solution 8      374\n",
      "Solution 29     343\n",
      "Solution 6      327\n",
      "Solution 13     312\n",
      "Solution 31     274\n",
      "Solution 4      257\n",
      "Solution 28     222\n",
      "Name: Solution_Type, dtype: int64\n"
     ]
    }
   ],
   "source": [
    "print(df['Solution_Type'].value_counts().head(15))"
   ]
  },
  {
   "cell_type": "code",
   "execution_count": 42,
   "id": "5dcd514c",
   "metadata": {},
   "outputs": [
    {
     "data": {
      "image/png": "[encoded data removed]",
      "text/plain": [
       "<Figure size 1224x648 with 1 Axes>"
      ]
     },
     "metadata": {
      "needs_background": "light"
     },
     "output_type": "display_data"
    }
   ],
   "source": [
    "cs_slntype = vs_dealstatus(data=df,x='Solution_Type')"
   ]
  },
  {
   "cell_type": "markdown",
   "id": "76c20acb",
   "metadata": {},
   "source": [
    "#### Solution 32 has mode win rate\n",
    "#### converting low counts to Others"
   ]
  },
  {
   "cell_type": "code",
   "execution_count": 43,
   "id": "d868d1ff",
   "metadata": {},
   "outputs": [],
   "source": [
    "bottom_54 = [x for x in df['Solution_Type'].value_counts().sort_values(ascending=False).tail(67-15).index]\n",
    "\n",
    "for label in bottom_54:\n",
    "    df['Solution_Type'] = df['Solution_Type'].replace(label,'Other_Soln')\n"
   ]
  },
  {
   "cell_type": "code",
   "execution_count": 45,
   "id": "c5fac58c",
   "metadata": {},
   "outputs": [
    {
     "data": {
      "image/png": "[encoded data removed]",
      "text/plain": [
       "<Figure size 1224x648 with 1 Axes>"
      ]
     },
     "metadata": {
      "needs_background": "light"
     },
     "output_type": "display_data"
    }
   ],
   "source": [
    "cs_slntype1 = vs_dealstatus(data=df,x='Solution_Type')"
   ]
  },
  {
   "cell_type": "markdown",
   "id": "ed9160e9",
   "metadata": {},
   "source": [
    "## Sector"
   ]
  },
  {
   "cell_type": "code",
   "execution_count": 46,
   "id": "88dcd187",
   "metadata": {},
   "outputs": [
    {
     "data": {
      "text/plain": [
       "25"
      ]
     },
     "execution_count": 46,
     "metadata": {},
     "output_type": "execute_result"
    }
   ],
   "source": [
    "len(df.Sector.unique())"
   ]
  },
  {
   "cell_type": "code",
   "execution_count": 47,
   "id": "503d8c76",
   "metadata": {},
   "outputs": [
    {
     "data": {
      "image/png": "[encoded data removed]",
      "text/plain": [
       "<Figure size 1224x648 with 1 Axes>"
      ]
     },
     "metadata": {
      "needs_background": "light"
     },
     "output_type": "display_data"
    }
   ],
   "source": [
    "cs_sector = vs_dealstatus(data=df,x='Sector')"
   ]
  },
  {
   "cell_type": "markdown",
   "id": "ecfc7d1a",
   "metadata": {},
   "source": [
    "#### converting Sector with low count to 'others'"
   ]
  },
  {
   "cell_type": "code",
   "execution_count": 48,
   "id": "bd6094dd",
   "metadata": {},
   "outputs": [],
   "source": [
    "df.Sector = df.Sector.replace(['Sector 3','Sector 4',\n",
    "                               'Sector 11','Sector 14','Sector 6',\n",
    "                               'Sector 5','Sector 8','Sector 21','Sector 7',\n",
    "                               'Sector 10'],'Other_Sector')"
   ]
  },
  {
   "cell_type": "code",
   "execution_count": 49,
   "id": "a47e72c0",
   "metadata": {},
   "outputs": [
    {
     "data": {
      "image/png": "[encoded data removed]",
      "text/plain": [
       "<Figure size 1224x648 with 1 Axes>"
      ]
     },
     "metadata": {
      "needs_background": "light"
     },
     "output_type": "display_data"
    }
   ],
   "source": [
    "cs_sector1 = vs_dealstatus(data=df,x='Sector')"
   ]
  },
  {
   "cell_type": "markdown",
   "id": "25b69656",
   "metadata": {},
   "source": [
    "## Location"
   ]
  },
  {
   "cell_type": "code",
   "execution_count": 50,
   "id": "48d7a2ca",
   "metadata": {},
   "outputs": [
    {
     "data": {
      "text/plain": [
       "L10       3360\n",
       "L5        2328\n",
       "L1        1572\n",
       "Others     817\n",
       "L3         556\n",
       "L11        367\n",
       "L12        276\n",
       "L9         240\n",
       "L7         238\n",
       "L4         188\n",
       "L6         100\n",
       "L8          11\n",
       "L2           8\n",
       "Name: Location, dtype: int64"
      ]
     },
     "execution_count": 50,
     "metadata": {},
     "output_type": "execute_result"
    }
   ],
   "source": [
    "df.Location.value_counts()"
   ]
  },
  {
   "cell_type": "code",
   "execution_count": 51,
   "id": "4f36903a",
   "metadata": {},
   "outputs": [],
   "source": [
    "df.Location = df.Location.replace(['L8','L2','L6','L4','L7'],'Others')"
   ]
  },
  {
   "cell_type": "code",
   "execution_count": 52,
   "id": "bbab109c",
   "metadata": {},
   "outputs": [
    {
     "data": {
      "image/png": "[encoded data removed]",
      "text/plain": [
       "<Figure size 1224x648 with 1 Axes>"
      ]
     },
     "metadata": {
      "needs_background": "light"
     },
     "output_type": "display_data"
    }
   ],
   "source": [
    "cs_location = vs_dealstatus(data=df,x='Location')"
   ]
  },
  {
   "cell_type": "markdown",
   "id": "76a31ee7",
   "metadata": {},
   "source": [
    "## Chi2 Test\n",
    "### creating a for loop for  chi- square code"
   ]
  },
  {
   "cell_type": "code",
   "execution_count": 54,
   "id": "8fc0a035",
   "metadata": {},
   "outputs": [
    {
     "name": "stdout",
     "output_type": "stream",
     "text": [
      "['Client_Category' 'Solution_Type' 'Deal_Date' 'Sector' 'Location'\n",
      " 'VP_Name' 'Manager_Name']\n"
     ]
    }
   ],
   "source": [
    "fc = df.select_dtypes(include='object').columns.values\n",
    "print(fc)"
   ]
  },
  {
   "cell_type": "code",
   "execution_count": 55,
   "id": "f60c408d",
   "metadata": {},
   "outputs": [
    {
     "name": "stdout",
     "output_type": "stream",
     "text": [
      "reject H0,there is a relationship between Client_Category and target variable\n",
      "reject H0,there is a relationship between Solution_Type and target variable\n",
      "reject H0,there is a relationship between Deal_Date and target variable\n",
      "reject H0,there is a relationship between Sector and target variable\n",
      "reject H0,there is a relationship between Location and target variable\n",
      "reject H0,there is a relationship between VP_Name and target variable\n",
      "reject H0,there is a relationship between Manager_Name and target variable\n"
     ]
    },
    {
     "name": "stderr",
     "output_type": "stream",
     "text": [
      "<ipython-input-55-100b450e34a5>:20: RuntimeWarning: divide by zero encountered in true_divide\n",
      "  chi_square = sum([(o-e)**2/e for e,o in zip(observed_values,expected_val)])\n",
      "<ipython-input-55-100b450e34a5>:20: RuntimeWarning: divide by zero encountered in true_divide\n",
      "  chi_square = sum([(o-e)**2/e for e,o in zip(observed_values,expected_val)])\n",
      "<ipython-input-55-100b450e34a5>:20: RuntimeWarning: divide by zero encountered in true_divide\n",
      "  chi_square = sum([(o-e)**2/e for e,o in zip(observed_values,expected_val)])\n"
     ]
    }
   ],
   "source": [
    "for features in fc:\n",
    "    ct = pd.crosstab(df[features],df['Deal_Status_Code'])\n",
    "    #observer value\n",
    "    observed_values = ct.values\n",
    "    \n",
    "    #expected value\n",
    "    val = chi2_contingency(ct)\n",
    "    expected_val = val[3]\n",
    "    \n",
    "    #degree of freedom\n",
    "    no_of_columns = len(df['Deal_Status_Code'].unique())\n",
    "    no_of_rows = len(df[features].unique())\n",
    "    ddof = (no_of_rows-1)*(no_of_columns-1)\n",
    "    #print('degree of freedom',ddof)\n",
    "    \n",
    "    #variacne ratio : learning rate\n",
    "    alpha = 0.05\n",
    "    \n",
    "    #chi2 formula\n",
    "    chi_square = sum([(o-e)**2/e for e,o in zip(observed_values,expected_val)])\n",
    "    \n",
    "    #chisquare statistics\n",
    "    chi_sq_statistics = chi_square[0] +chi_square[1]\n",
    "    #print(chi_sq_statistics)\n",
    "    \n",
    "    #critical value\n",
    "    critical_value = chi2.ppf(q=1-alpha,df=ddof)\n",
    "    critical_value\n",
    "    \n",
    "    #if condition stating the relation with target variable\n",
    "    if chi_sq_statistics >= critical_value:\n",
    "        print('reject H0,there is a relationship between {} and target variable'.format(features))\n",
    "    else:\n",
    "        print('retain H0,there is no relationship between {} and target variable'.format(features))\n"
   ]
  },
  {
   "cell_type": "markdown",
   "id": "57fc5db5",
   "metadata": {},
   "source": [
    "## Deal_Date"
   ]
  },
  {
   "cell_type": "code",
   "execution_count": 56,
   "id": "02800f07",
   "metadata": {},
   "outputs": [],
   "source": [
    "#converting string to Date format\n",
    "df['Deal_Date'] = pd.to_datetime(df.Deal_Date)\n"
   ]
  },
  {
   "cell_type": "markdown",
   "id": "9da96d7f",
   "metadata": {},
   "source": [
    "### Year"
   ]
  },
  {
   "cell_type": "code",
   "execution_count": 57,
   "id": "87a73d45",
   "metadata": {},
   "outputs": [],
   "source": [
    "df['deal_year'] = pd.DatetimeIndex(df['Deal_Date']).year"
   ]
  },
  {
   "cell_type": "code",
   "execution_count": 58,
   "id": "d5774d84",
   "metadata": {},
   "outputs": [
    {
     "data": {
      "text/html": [
       "<div>\n",
       "<style scoped>\n",
       "    .dataframe tbody tr th:only-of-type {\n",
       "        vertical-align: middle;\n",
       "    }\n",
       "\n",
       "    .dataframe tbody tr th {\n",
       "        vertical-align: top;\n",
       "    }\n",
       "\n",
       "    .dataframe thead th {\n",
       "        text-align: right;\n",
       "    }\n",
       "</style>\n",
       "<table border=\"1\" class=\"dataframe\">\n",
       "  <thead>\n",
       "    <tr style=\"text-align: right;\">\n",
       "      <th>Deal_Status_Code</th>\n",
       "      <th>0</th>\n",
       "      <th>1</th>\n",
       "    </tr>\n",
       "    <tr>\n",
       "      <th>deal_year</th>\n",
       "      <th></th>\n",
       "      <th></th>\n",
       "    </tr>\n",
       "  </thead>\n",
       "  <tbody>\n",
       "    <tr>\n",
       "      <th>2011</th>\n",
       "      <td>44</td>\n",
       "      <td>41</td>\n",
       "    </tr>\n",
       "    <tr>\n",
       "      <th>2012</th>\n",
       "      <td>320</td>\n",
       "      <td>262</td>\n",
       "    </tr>\n",
       "    <tr>\n",
       "      <th>2013</th>\n",
       "      <td>466</td>\n",
       "      <td>363</td>\n",
       "    </tr>\n",
       "    <tr>\n",
       "      <th>2014</th>\n",
       "      <td>755</td>\n",
       "      <td>402</td>\n",
       "    </tr>\n",
       "    <tr>\n",
       "      <th>2015</th>\n",
       "      <td>1155</td>\n",
       "      <td>514</td>\n",
       "    </tr>\n",
       "    <tr>\n",
       "      <th>2016</th>\n",
       "      <td>1067</td>\n",
       "      <td>570</td>\n",
       "    </tr>\n",
       "    <tr>\n",
       "      <th>2017</th>\n",
       "      <td>1089</td>\n",
       "      <td>649</td>\n",
       "    </tr>\n",
       "    <tr>\n",
       "      <th>2018</th>\n",
       "      <td>1277</td>\n",
       "      <td>843</td>\n",
       "    </tr>\n",
       "    <tr>\n",
       "      <th>2019</th>\n",
       "      <td>133</td>\n",
       "      <td>111</td>\n",
       "    </tr>\n",
       "  </tbody>\n",
       "</table>\n",
       "</div>"
      ],
      "text/plain": [
       "Deal_Status_Code     0    1\n",
       "deal_year                  \n",
       "2011                44   41\n",
       "2012               320  262\n",
       "2013               466  363\n",
       "2014               755  402\n",
       "2015              1155  514\n",
       "2016              1067  570\n",
       "2017              1089  649\n",
       "2018              1277  843\n",
       "2019               133  111"
      ]
     },
     "execution_count": 58,
     "metadata": {},
     "output_type": "execute_result"
    },
    {
     "data": {
      "image/png": "[encoded data removed]",
      "text/plain": [
       "<Figure size 1224x648 with 1 Axes>"
      ]
     },
     "metadata": {
      "needs_background": "light"
     },
     "output_type": "display_data"
    }
   ],
   "source": [
    "#check relation of year / month on deal_status_code\n",
    "\n",
    "cs_year = vs_dealstatus(data=df,x='deal_year')\n",
    "\n",
    "cs_year"
   ]
  },
  {
   "cell_type": "code",
   "execution_count": 59,
   "id": "2e15bfea",
   "metadata": {},
   "outputs": [],
   "source": [
    "# data is less for year 2011 and 2019**\n",
    "#replace 2011 with 2012 and 2019 with 2018\n",
    "df['deal_year'] = df['deal_year'].replace(2011,2012)\n",
    "df['deal_year'] = df['deal_year'].replace(2019,2018)"
   ]
  },
  {
   "cell_type": "code",
   "execution_count": 60,
   "id": "77f86987",
   "metadata": {},
   "outputs": [],
   "source": [
    "cs_year['percent'] = cs_year[1]/(cs_year[0]+cs_year[1])"
   ]
  },
  {
   "cell_type": "code",
   "execution_count": 61,
   "id": "533ff9b6",
   "metadata": {},
   "outputs": [
    {
     "data": {
      "text/plain": [
       "<AxesSubplot:xlabel='deal_year', ylabel='percent'>"
      ]
     },
     "execution_count": 61,
     "metadata": {},
     "output_type": "execute_result"
    },
    {
     "data": {
      "image/png": "[encoded data removed]",
      "text/plain": [
       "<Figure size 432x288 with 1 Axes>"
      ]
     },
     "metadata": {
      "needs_background": "light"
     },
     "output_type": "display_data"
    }
   ],
   "source": [
    "sns.lineplot(y=cs_year['percent'],x=cs_year.index ,ci=None)\n",
    "#highest win percentage was for year 2011\n",
    "#lowest was for 2015"
   ]
  },
  {
   "cell_type": "code",
   "execution_count": 62,
   "id": "b63be612",
   "metadata": {},
   "outputs": [
    {
     "name": "stderr",
     "output_type": "stream",
     "text": [
      "C:\\ProgramData\\Anaconda3\\lib\\site-packages\\seaborn\\_decorators.py:36: FutureWarning: Pass the following variable as a keyword arg: x. From version 0.12, the only valid positional argument will be `data`, and passing other arguments without an explicit keyword will result in an error or misinterpretation.\n",
      "  warnings.warn(\n"
     ]
    },
    {
     "data": {
      "image/png": "[encoded data removed]",
      "text/plain": [
       "<Figure size 432x288 with 1 Axes>"
      ]
     },
     "metadata": {
      "needs_background": "light"
     },
     "output_type": "display_data"
    }
   ],
   "source": [
    "sns.countplot(df.deal_year)\n",
    "plt.show()"
   ]
  },
  {
   "cell_type": "markdown",
   "id": "0667c068",
   "metadata": {},
   "source": [
    "#### Number of deals increase from 2012 to 2015 .   remains stables from 2015 to 2017 .   again increase in 2018"
   ]
  },
  {
   "cell_type": "markdown",
   "id": "f0ca501a",
   "metadata": {},
   "source": [
    "### Month"
   ]
  },
  {
   "cell_type": "code",
   "execution_count": 63,
   "id": "e50fe93f",
   "metadata": {},
   "outputs": [],
   "source": [
    "df['deal_month'] = pd.DatetimeIndex(df['Deal_Date']).month"
   ]
  },
  {
   "cell_type": "code",
   "execution_count": 64,
   "id": "c1123420",
   "metadata": {},
   "outputs": [
    {
     "name": "stderr",
     "output_type": "stream",
     "text": [
      "<ipython-input-64-3d3ba823ecdd>:11: SettingWithCopyWarning: \n",
      "A value is trying to be set on a copy of a slice from a DataFrame\n",
      "\n",
      "See the caveats in the documentation: https://pandas.pydata.org/pandas-docs/stable/user_guide/indexing.html#returning-a-view-versus-a-copy\n",
      "  df['deal_month'][df['deal_month'] == i] = val\n"
     ]
    },
    {
     "data": {
      "text/plain": [
       "array(['Q1', 'Q3', 'Q2', 'Q4'], dtype=object)"
      ]
     },
     "execution_count": 64,
     "metadata": {},
     "output_type": "execute_result"
    }
   ],
   "source": [
    "for i in df['deal_month'].unique():\n",
    "    if i in range(1,4):\n",
    "        val = 'Q1'\n",
    "    elif i in range(4,7):\n",
    "        val = 'Q2'\n",
    "    elif i in range(7,10):\n",
    "        val = 'Q3'\n",
    "    else:\n",
    "        val = 'Q4'\n",
    "    \n",
    "    df['deal_month'][df['deal_month'] == i] = val\n",
    "\n",
    "df['deal_month'].unique()"
   ]
  },
  {
   "cell_type": "markdown",
   "id": "7fa3fce6",
   "metadata": {},
   "source": [
    "### group by year and month to get the investment idea in quaters"
   ]
  },
  {
   "cell_type": "code",
   "execution_count": 66,
   "id": "ed088208",
   "metadata": {},
   "outputs": [
    {
     "data": {
      "text/plain": [
       "(28, 2)"
      ]
     },
     "execution_count": 66,
     "metadata": {},
     "output_type": "execute_result"
    },
    {
     "data": {
      "image/png": "[encoded data removed]",
      "text/plain": [
       "<Figure size 1224x648 with 1 Axes>"
      ]
     },
     "metadata": {
      "needs_background": "light"
     },
     "output_type": "display_data"
    }
   ],
   "source": [
    "cs_yr_mnth = df.groupby(['deal_year','deal_month']).Deal_Status_Code.value_counts(normalize=False)\n",
    "cs_yr_mnth = cs_yr_mnth.unstack()\n",
    "cs_yr_mnth.plot(kind='bar',figsize=(17, 9))\n",
    "cs_yr_mnth.shape"
   ]
  },
  {
   "cell_type": "markdown",
   "id": "b85cac3b",
   "metadata": {},
   "source": [
    "#### as per the line plot when there is profit investors bid more in next qaurter\n",
    "#### when there is loss investors bid less in next qaurter\n",
    "#### more invest more risk\n",
    "#### droping deal month since it will be of no significance\n"
   ]
  },
  {
   "cell_type": "code",
   "execution_count": 67,
   "id": "f7762efe",
   "metadata": {},
   "outputs": [],
   "source": [
    "cs_yr_mnth['percent'] = (cs_yr_mnth[1]/(cs_yr_mnth[1]+cs_yr_mnth[0]))*1000"
   ]
  },
  {
   "cell_type": "code",
   "execution_count": 72,
   "id": "c39605ae",
   "metadata": {},
   "outputs": [],
   "source": [
    "cs_yr_mnth = cs_yr_mnth.reset_index()"
   ]
  },
  {
   "cell_type": "code",
   "execution_count": 74,
   "id": "b8e9b979",
   "metadata": {},
   "outputs": [
    {
     "data": {
      "text/plain": [
       "<AxesSubplot:xlabel='deal_year', ylabel='percent'>"
      ]
     },
     "execution_count": 74,
     "metadata": {},
     "output_type": "execute_result"
    },
    {
     "data": {
      "image/png": "[encoded data removed]",
      "text/plain": [
       "<Figure size 432x288 with 1 Axes>"
      ]
     },
     "metadata": {
      "needs_background": "light"
     },
     "output_type": "display_data"
    }
   ],
   "source": [
    "sns.lineplot(y=cs_yr_mnth['percent'],x=cs_yr_mnth.deal_year ,ci=None)"
   ]
  },
  {
   "cell_type": "markdown",
   "id": "76a7c38f",
   "metadata": {},
   "source": [
    "### The above line plot gives the win percent over the years"
   ]
  },
  {
   "cell_type": "code",
   "execution_count": 75,
   "id": "ce0339ab",
   "metadata": {},
   "outputs": [],
   "source": [
    "#droping unwanted columns\n",
    "df.drop(columns=['Deal_Date','deal_month'],axis=1,inplace=True)"
   ]
  },
  {
   "cell_type": "code",
   "execution_count": 76,
   "id": "aab691e2",
   "metadata": {},
   "outputs": [],
   "source": [
    "#converting year to age\n",
    "df.deal_year = 2021 - df.deal_year\n"
   ]
  },
  {
   "cell_type": "code",
   "execution_count": 77,
   "id": "bf1df8aa",
   "metadata": {},
   "outputs": [],
   "source": [
    "df1 = df.copy()\n",
    "#BACKUP"
   ]
  },
  {
   "cell_type": "markdown",
   "id": "ac27d3b7",
   "metadata": {},
   "source": [
    "## Manager Name"
   ]
  },
  {
   "cell_type": "code",
   "execution_count": 83,
   "id": "88e4248d",
   "metadata": {},
   "outputs": [
    {
     "data": {
      "text/plain": [
       "278"
      ]
     },
     "execution_count": 83,
     "metadata": {},
     "output_type": "execute_result"
    }
   ],
   "source": [
    "len(df.Manager_Name.unique()) #278"
   ]
  },
  {
   "cell_type": "code",
   "execution_count": 90,
   "id": "e91745fa",
   "metadata": {},
   "outputs": [
    {
     "data": {
      "image/png": "[encoded data removed]",
      "text/plain": [
       "<Figure size 1224x648 with 1 Axes>"
      ]
     },
     "metadata": {
      "needs_background": "light"
     },
     "output_type": "display_data"
    }
   ],
   "source": [
    "cs_manager = vs_dealstatus(data=df,x='Manager_Name')"
   ]
  },
  {
   "cell_type": "code",
   "execution_count": 91,
   "id": "84a27543",
   "metadata": {},
   "outputs": [
    {
     "data": {
      "text/html": [
       "<div>\n",
       "<style scoped>\n",
       "    .dataframe tbody tr th:only-of-type {\n",
       "        vertical-align: middle;\n",
       "    }\n",
       "\n",
       "    .dataframe tbody tr th {\n",
       "        vertical-align: top;\n",
       "    }\n",
       "\n",
       "    .dataframe thead th {\n",
       "        text-align: right;\n",
       "    }\n",
       "</style>\n",
       "<table border=\"1\" class=\"dataframe\">\n",
       "  <thead>\n",
       "    <tr style=\"text-align: right;\">\n",
       "      <th>Deal_Status_Code</th>\n",
       "      <th>0</th>\n",
       "      <th>1</th>\n",
       "      <th>win_precnt</th>\n",
       "    </tr>\n",
       "    <tr>\n",
       "      <th>Manager_Name</th>\n",
       "      <th></th>\n",
       "      <th></th>\n",
       "      <th></th>\n",
       "    </tr>\n",
       "  </thead>\n",
       "  <tbody>\n",
       "    <tr>\n",
       "      <th>Long Bergstrom</th>\n",
       "      <td>2.0</td>\n",
       "      <td>8.0</td>\n",
       "      <td>0.800000</td>\n",
       "    </tr>\n",
       "    <tr>\n",
       "      <th>Evalyn Rayner</th>\n",
       "      <td>4.0</td>\n",
       "      <td>15.0</td>\n",
       "      <td>0.789474</td>\n",
       "    </tr>\n",
       "    <tr>\n",
       "      <th>Rateesh Singh</th>\n",
       "      <td>2.0</td>\n",
       "      <td>7.0</td>\n",
       "      <td>0.777778</td>\n",
       "    </tr>\n",
       "    <tr>\n",
       "      <th>Varsha Arora</th>\n",
       "      <td>2.0</td>\n",
       "      <td>7.0</td>\n",
       "      <td>0.777778</td>\n",
       "    </tr>\n",
       "    <tr>\n",
       "      <th>Neha Sharma</th>\n",
       "      <td>4.0</td>\n",
       "      <td>13.0</td>\n",
       "      <td>0.764706</td>\n",
       "    </tr>\n",
       "    <tr>\n",
       "      <th>...</th>\n",
       "      <td>...</td>\n",
       "      <td>...</td>\n",
       "      <td>...</td>\n",
       "    </tr>\n",
       "    <tr>\n",
       "      <th>rijul aggarwal</th>\n",
       "      <td>2.0</td>\n",
       "      <td>NaN</td>\n",
       "      <td>NaN</td>\n",
       "    </tr>\n",
       "    <tr>\n",
       "      <th>shafibul</th>\n",
       "      <td>12.0</td>\n",
       "      <td>NaN</td>\n",
       "      <td>NaN</td>\n",
       "    </tr>\n",
       "    <tr>\n",
       "      <th>shiv kumar</th>\n",
       "      <td>6.0</td>\n",
       "      <td>NaN</td>\n",
       "      <td>NaN</td>\n",
       "    </tr>\n",
       "    <tr>\n",
       "      <th>shiv shakti singh</th>\n",
       "      <td>2.0</td>\n",
       "      <td>NaN</td>\n",
       "      <td>NaN</td>\n",
       "    </tr>\n",
       "    <tr>\n",
       "      <th>som dutt</th>\n",
       "      <td>NaN</td>\n",
       "      <td>3.0</td>\n",
       "      <td>NaN</td>\n",
       "    </tr>\n",
       "  </tbody>\n",
       "</table>\n",
       "<p>278 rows × 3 columns</p>\n",
       "</div>"
      ],
      "text/plain": [
       "Deal_Status_Code      0     1  win_precnt\n",
       "Manager_Name                             \n",
       "Long Bergstrom      2.0   8.0    0.800000\n",
       "Evalyn Rayner       4.0  15.0    0.789474\n",
       "Rateesh Singh       2.0   7.0    0.777778\n",
       "Varsha Arora        2.0   7.0    0.777778\n",
       "Neha Sharma         4.0  13.0    0.764706\n",
       "...                 ...   ...         ...\n",
       "rijul aggarwal      2.0   NaN         NaN\n",
       "shafibul           12.0   NaN         NaN\n",
       "shiv kumar          6.0   NaN         NaN\n",
       "shiv shakti singh   2.0   NaN         NaN\n",
       "som dutt            NaN   3.0         NaN\n",
       "\n",
       "[278 rows x 3 columns]"
      ]
     },
     "execution_count": 91,
     "metadata": {},
     "output_type": "execute_result"
    }
   ],
   "source": [
    "cs_manager['win_precnt']= cs_manager[1]/(cs_manager[1] + cs_manager[0])\n",
    "cs_manager.sort_values('win_precnt',ascending=False)"
   ]
  },
  {
   "cell_type": "code",
   "execution_count": 92,
   "id": "f70b8554",
   "metadata": {},
   "outputs": [],
   "source": [
    "#best manger : not considering the 0 loss mangers"
   ]
  },
  {
   "cell_type": "code",
   "execution_count": 93,
   "id": "d4fd6b28",
   "metadata": {},
   "outputs": [],
   "source": [
    "cs_manager = cs_manager.sort_values(1,ascending=False)"
   ]
  },
  {
   "cell_type": "code",
   "execution_count": 94,
   "id": "192c6116",
   "metadata": {},
   "outputs": [
    {
     "data": {
      "text/html": [
       "<div>\n",
       "<style scoped>\n",
       "    .dataframe tbody tr th:only-of-type {\n",
       "        vertical-align: middle;\n",
       "    }\n",
       "\n",
       "    .dataframe tbody tr th {\n",
       "        vertical-align: top;\n",
       "    }\n",
       "\n",
       "    .dataframe thead th {\n",
       "        text-align: right;\n",
       "    }\n",
       "</style>\n",
       "<table border=\"1\" class=\"dataframe\">\n",
       "  <thead>\n",
       "    <tr style=\"text-align: right;\">\n",
       "      <th>Deal_Status_Code</th>\n",
       "      <th>0</th>\n",
       "      <th>1</th>\n",
       "      <th>win_precnt</th>\n",
       "    </tr>\n",
       "    <tr>\n",
       "      <th>Manager_Name</th>\n",
       "      <th></th>\n",
       "      <th></th>\n",
       "      <th></th>\n",
       "    </tr>\n",
       "  </thead>\n",
       "  <tbody>\n",
       "    <tr>\n",
       "      <th>Molly Eakes</th>\n",
       "      <td>214.0</td>\n",
       "      <td>109.0</td>\n",
       "      <td>0.337461</td>\n",
       "    </tr>\n",
       "    <tr>\n",
       "      <th>Rudraksh Sharma</th>\n",
       "      <td>176.0</td>\n",
       "      <td>94.0</td>\n",
       "      <td>0.348148</td>\n",
       "    </tr>\n",
       "    <tr>\n",
       "      <th>Russell Dahlen</th>\n",
       "      <td>52.0</td>\n",
       "      <td>91.0</td>\n",
       "      <td>0.636364</td>\n",
       "    </tr>\n",
       "    <tr>\n",
       "      <th>Rayford Durgan</th>\n",
       "      <td>94.0</td>\n",
       "      <td>76.0</td>\n",
       "      <td>0.447059</td>\n",
       "    </tr>\n",
       "    <tr>\n",
       "      <th>Manpreet Singh</th>\n",
       "      <td>106.0</td>\n",
       "      <td>75.0</td>\n",
       "      <td>0.414365</td>\n",
       "    </tr>\n",
       "    <tr>\n",
       "      <th>...</th>\n",
       "      <td>...</td>\n",
       "      <td>...</td>\n",
       "      <td>...</td>\n",
       "    </tr>\n",
       "    <tr>\n",
       "      <th>pankaj kumar</th>\n",
       "      <td>2.0</td>\n",
       "      <td>NaN</td>\n",
       "      <td>NaN</td>\n",
       "    </tr>\n",
       "    <tr>\n",
       "      <th>rijul aggarwal</th>\n",
       "      <td>2.0</td>\n",
       "      <td>NaN</td>\n",
       "      <td>NaN</td>\n",
       "    </tr>\n",
       "    <tr>\n",
       "      <th>shafibul</th>\n",
       "      <td>12.0</td>\n",
       "      <td>NaN</td>\n",
       "      <td>NaN</td>\n",
       "    </tr>\n",
       "    <tr>\n",
       "      <th>shiv kumar</th>\n",
       "      <td>6.0</td>\n",
       "      <td>NaN</td>\n",
       "      <td>NaN</td>\n",
       "    </tr>\n",
       "    <tr>\n",
       "      <th>shiv shakti singh</th>\n",
       "      <td>2.0</td>\n",
       "      <td>NaN</td>\n",
       "      <td>NaN</td>\n",
       "    </tr>\n",
       "  </tbody>\n",
       "</table>\n",
       "<p>278 rows × 3 columns</p>\n",
       "</div>"
      ],
      "text/plain": [
       "Deal_Status_Code       0      1  win_precnt\n",
       "Manager_Name                               \n",
       "Molly Eakes        214.0  109.0    0.337461\n",
       "Rudraksh Sharma    176.0   94.0    0.348148\n",
       "Russell Dahlen      52.0   91.0    0.636364\n",
       "Rayford Durgan      94.0   76.0    0.447059\n",
       "Manpreet Singh     106.0   75.0    0.414365\n",
       "...                  ...    ...         ...\n",
       "pankaj kumar         2.0    NaN         NaN\n",
       "rijul aggarwal       2.0    NaN         NaN\n",
       "shafibul            12.0    NaN         NaN\n",
       "shiv kumar           6.0    NaN         NaN\n",
       "shiv shakti singh    2.0    NaN         NaN\n",
       "\n",
       "[278 rows x 3 columns]"
      ]
     },
     "execution_count": 94,
     "metadata": {},
     "output_type": "execute_result"
    }
   ],
   "source": [
    "cs_manager"
   ]
  },
  {
   "cell_type": "markdown",
   "id": "0a4ac10e",
   "metadata": {},
   "source": [
    "## VP_Name"
   ]
  },
  {
   "cell_type": "code",
   "execution_count": 95,
   "id": "1bef3fcf",
   "metadata": {},
   "outputs": [
    {
     "data": {
      "image/png": "[encoded data removed]",
      "text/plain": [
       "<Figure size 1224x648 with 1 Axes>"
      ]
     },
     "metadata": {
      "needs_background": "light"
     },
     "output_type": "display_data"
    }
   ],
   "source": [
    "\n",
    "len(df.VP_Name.unique()) #43\n",
    "\n",
    "cs_vp = vs_dealstatus(data=df,x='VP_Name')"
   ]
  },
  {
   "cell_type": "markdown",
   "id": "12339a59",
   "metadata": {},
   "source": [
    "### There are few VP with more win rate Ekta Zutshi , Long Bergstrom"
   ]
  },
  {
   "cell_type": "code",
   "execution_count": 96,
   "id": "70360a83",
   "metadata": {},
   "outputs": [],
   "source": [
    "cs_vp = cs_vp.sort_values(1,ascending=False)\n",
    "\n",
    "win_vp = cs_vp.head(15).index\n",
    "#will keep top 15 mangers with most win to include only these in dataframe\n"
   ]
  },
  {
   "cell_type": "markdown",
   "id": "718e9151",
   "metadata": {},
   "source": [
    "## Top Manager and VP combination "
   ]
  },
  {
   "cell_type": "code",
   "execution_count": 98,
   "id": "9d4d9c09",
   "metadata": {},
   "outputs": [],
   "source": [
    "won_cs = df.groupby(['VP_Name','Manager_Name']).Deal_Status_Code.value_counts(normalize=False)\n",
    "won_cs = won_cs.unstack()"
   ]
  },
  {
   "cell_type": "code",
   "execution_count": 99,
   "id": "a3e001c9",
   "metadata": {},
   "outputs": [
    {
     "data": {
      "text/html": [
       "<div>\n",
       "<style scoped>\n",
       "    .dataframe tbody tr th:only-of-type {\n",
       "        vertical-align: middle;\n",
       "    }\n",
       "\n",
       "    .dataframe tbody tr th {\n",
       "        vertical-align: top;\n",
       "    }\n",
       "\n",
       "    .dataframe thead th {\n",
       "        text-align: right;\n",
       "    }\n",
       "</style>\n",
       "<table border=\"1\" class=\"dataframe\">\n",
       "  <thead>\n",
       "    <tr style=\"text-align: right;\">\n",
       "      <th></th>\n",
       "      <th>Deal_Status_Code</th>\n",
       "      <th>0</th>\n",
       "      <th>1</th>\n",
       "      <th>win_percent</th>\n",
       "    </tr>\n",
       "    <tr>\n",
       "      <th>VP_Name</th>\n",
       "      <th>Manager_Name</th>\n",
       "      <th></th>\n",
       "      <th></th>\n",
       "      <th></th>\n",
       "    </tr>\n",
       "  </thead>\n",
       "  <tbody>\n",
       "    <tr>\n",
       "      <th>Ekta Zutshi</th>\n",
       "      <th>Manpreet Singh</th>\n",
       "      <td>2.0</td>\n",
       "      <td>20.0</td>\n",
       "      <td>0.909091</td>\n",
       "    </tr>\n",
       "    <tr>\n",
       "      <th>Long Bergstrom</th>\n",
       "      <th>Akshit Khanna</th>\n",
       "      <td>2.0</td>\n",
       "      <td>16.0</td>\n",
       "      <td>0.888889</td>\n",
       "    </tr>\n",
       "    <tr>\n",
       "      <th>Rahul Bajpai</th>\n",
       "      <th>Jitendra Choudhary</th>\n",
       "      <td>2.0</td>\n",
       "      <td>15.0</td>\n",
       "      <td>0.882353</td>\n",
       "    </tr>\n",
       "    <tr>\n",
       "      <th>Ekta Zutshi</th>\n",
       "      <th>neeraj kumar</th>\n",
       "      <td>6.0</td>\n",
       "      <td>40.0</td>\n",
       "      <td>0.869565</td>\n",
       "    </tr>\n",
       "    <tr>\n",
       "      <th>Hardeep Suksma</th>\n",
       "      <th>Atul Chaudhary</th>\n",
       "      <td>2.0</td>\n",
       "      <td>13.0</td>\n",
       "      <td>0.866667</td>\n",
       "    </tr>\n",
       "    <tr>\n",
       "      <th>Long Bergstrom</th>\n",
       "      <th>Rayford Durgan</th>\n",
       "      <td>4.0</td>\n",
       "      <td>23.0</td>\n",
       "      <td>0.851852</td>\n",
       "    </tr>\n",
       "    <tr>\n",
       "      <th>Earline Langton</th>\n",
       "      <th>Neha Sharma</th>\n",
       "      <td>2.0</td>\n",
       "      <td>9.0</td>\n",
       "      <td>0.818182</td>\n",
       "    </tr>\n",
       "    <tr>\n",
       "      <th>Hardeep Suksma</th>\n",
       "      <th>ram kumar</th>\n",
       "      <td>2.0</td>\n",
       "      <td>9.0</td>\n",
       "      <td>0.818182</td>\n",
       "    </tr>\n",
       "    <tr>\n",
       "      <th>Ekta Zutshi</th>\n",
       "      <th>Chanchal sharma</th>\n",
       "      <td>4.0</td>\n",
       "      <td>17.0</td>\n",
       "      <td>0.809524</td>\n",
       "    </tr>\n",
       "    <tr>\n",
       "      <th>Long Bergstrom</th>\n",
       "      <th>Naveen Dogra</th>\n",
       "      <td>2.0</td>\n",
       "      <td>8.0</td>\n",
       "      <td>0.800000</td>\n",
       "    </tr>\n",
       "  </tbody>\n",
       "</table>\n",
       "</div>"
      ],
      "text/plain": [
       "Deal_Status_Code                      0     1  win_percent\n",
       "VP_Name         Manager_Name                              \n",
       "Ekta Zutshi     Manpreet Singh      2.0  20.0     0.909091\n",
       "Long Bergstrom  Akshit Khanna       2.0  16.0     0.888889\n",
       "Rahul Bajpai    Jitendra Choudhary  2.0  15.0     0.882353\n",
       "Ekta Zutshi     neeraj kumar        6.0  40.0     0.869565\n",
       "Hardeep Suksma  Atul Chaudhary      2.0  13.0     0.866667\n",
       "Long Bergstrom  Rayford Durgan      4.0  23.0     0.851852\n",
       "Earline Langton Neha Sharma         2.0   9.0     0.818182\n",
       "Hardeep Suksma  ram kumar           2.0   9.0     0.818182\n",
       "Ekta Zutshi     Chanchal sharma     4.0  17.0     0.809524\n",
       "Long Bergstrom  Naveen Dogra        2.0   8.0     0.800000"
      ]
     },
     "execution_count": 99,
     "metadata": {},
     "output_type": "execute_result"
    }
   ],
   "source": [
    "#calculate win percentage and store in other column\n",
    "won_cs['win_percent'] = won_cs[1]/(won_cs[0]+won_cs[1])\n",
    "\n",
    "won_cs.sort_values('win_percent',ascending=False).head(10)"
   ]
  },
  {
   "cell_type": "code",
   "execution_count": 100,
   "id": "c78d3820",
   "metadata": {},
   "outputs": [
    {
     "name": "stdout",
     "output_type": "stream",
     "text": [
      "Top 10 VP and Manager combination with highest winning probability\n",
      "MultiIndex([(    'Ekta Zutshi',     'Manpreet Singh'),\n",
      "            ( 'Long Bergstrom',      'Akshit Khanna'),\n",
      "            (   'Rahul Bajpai', 'Jitendra Choudhary'),\n",
      "            (    'Ekta Zutshi',       'neeraj kumar'),\n",
      "            ( 'Hardeep Suksma',     'Atul Chaudhary'),\n",
      "            ( 'Long Bergstrom',     'Rayford Durgan'),\n",
      "            ('Earline Langton',        'Neha Sharma'),\n",
      "            ( 'Hardeep Suksma',          'ram kumar'),\n",
      "            (    'Ekta Zutshi',    'Chanchal sharma'),\n",
      "            ( 'Long Bergstrom',       'Naveen Dogra')],\n",
      "           names=['VP_Name', 'Manager_Name'])\n"
     ]
    }
   ],
   "source": [
    "#8)SBU Head-Bid Manager pair which will have the highest winning probability for the bid.\n",
    "print('Top 10 VP and Manager combination with highest winning probability\\n{}'.format(won_cs.sort_values('win_percent',ascending=False).head(10).index))\n"
   ]
  },
  {
   "cell_type": "markdown",
   "id": "24d33756",
   "metadata": {},
   "source": [
    "### EDA part done"
   ]
  },
  {
   "cell_type": "code",
   "execution_count": 103,
   "id": "6595d332",
   "metadata": {},
   "outputs": [
    {
     "name": "stdout",
     "output_type": "stream",
     "text": [
      "['Client_Category' 'Solution_Type' 'Sector' 'Location' 'VP_Name'\n",
      " 'Manager_Name']\n"
     ]
    }
   ],
   "source": [
    "fc = df.select_dtypes(include='object').columns.values\n",
    "print(fc)"
   ]
  },
  {
   "cell_type": "markdown",
   "id": "5c373e62",
   "metadata": {},
   "source": [
    "## One Hot Encoding "
   ]
  },
  {
   "cell_type": "markdown",
   "id": "b38dcd3c",
   "metadata": {},
   "source": [
    "### Encoding Manager and VP"
   ]
  },
  {
   "cell_type": "code",
   "execution_count": 105,
   "id": "bc00b8c1",
   "metadata": {},
   "outputs": [],
   "source": [
    "\n",
    "top_managers = df.Manager_Name.value_counts().head(14).index\n",
    "for manager in top_managers:\n",
    "    df[manager] = np.where(df['Manager_Name']==manager,1,0)\n",
    "    \n",
    "df.head()\n",
    "df.drop('Manager_Name',axis=1,inplace=True)\n",
    "\n",
    "\n",
    "top_vp = df.VP_Name.value_counts().head(14).index\n",
    "for vp in top_vp:\n",
    "    df[vp] = np.where(df['VP_Name']==vp,1,0)\n",
    "\n",
    "df.head()\n",
    "df.drop('VP_Name',axis=1,inplace=True)\n"
   ]
  },
  {
   "cell_type": "code",
   "execution_count": 106,
   "id": "2bc8844a",
   "metadata": {},
   "outputs": [],
   "source": [
    "fc = df.select_dtypes(include = 'object').columns.values"
   ]
  },
  {
   "cell_type": "code",
   "execution_count": 107,
   "id": "0dbc3600",
   "metadata": {},
   "outputs": [],
   "source": [
    "for c in fc:\n",
    "    dummy = pd.get_dummies(df[c],drop_first = True , prefix = c)\n",
    "    df = df.join(dummy)\n",
    "\n",
    "df.drop(fc,axis=1,inplace=True)"
   ]
  },
  {
   "cell_type": "code",
   "execution_count": 108,
   "id": "995a634b",
   "metadata": {},
   "outputs": [
    {
     "data": {
      "text/plain": [
       "(10061, 83)"
      ]
     },
     "execution_count": 108,
     "metadata": {},
     "output_type": "execute_result"
    }
   ],
   "source": [
    "df.shape"
   ]
  },
  {
   "cell_type": "markdown",
   "id": "f8988d64",
   "metadata": {},
   "source": [
    "## Funtions for model Building"
   ]
  },
  {
   "cell_type": "code",
   "execution_count": 109,
   "id": "70ecc115",
   "metadata": {},
   "outputs": [],
   "source": [
    "#train test split\n",
    "def splitdata(data,y,tst_size):\n",
    "    xtrain,xtest,ytrain,ytest = train_test_split(data.drop(y,axis=1),data[y],test_size=tst_size)\n",
    "    return (xtrain,xtest,ytrain,ytest)"
   ]
  },
  {
   "cell_type": "code",
   "execution_count": 110,
   "id": "45ea6854",
   "metadata": {},
   "outputs": [],
   "source": [
    "#Logistic Regression \n",
    "def buildmodel(trainx,trainy):\n",
    "    model = smapi.Logit(trainy,trainx).fit()\n",
    "    return(model)"
   ]
  },
  {
   "cell_type": "code",
   "execution_count": 111,
   "id": "5501dbac",
   "metadata": {},
   "outputs": [],
   "source": [
    "#Prediction  cutoff function\n",
    "def predToClass(preds,cutoff):\n",
    "    P = preds.copy()\n",
    "    P[P < cutoff] = 0\n",
    "    P[P > cutoff] = 1\n",
    "    return(P.astype(int))"
   ]
  },
  {
   "cell_type": "code",
   "execution_count": 112,
   "id": "405515d9",
   "metadata": {},
   "outputs": [],
   "source": [
    "\n",
    "#Confusion matrix crosstab and ROC AUC curve\n",
    "\n",
    "def cm_auc(actual,predicted):\n",
    "    # cross tab method\n",
    "    df1 = pd.DataFrame({'actual':actual,'predicted':predicted})\n",
    "    print(pd.crosstab(df1.actual,df1.predicted,margins=True))\n",
    "    \n",
    "    # classification report\n",
    "    print(classification_report(actual,predicted))\n",
    "    \n",
    "    # ROC and AUC\n",
    "    fpr,tpr,_ = metrics.roc_curve(actual,predicted)\n",
    "    # area under the curve measure\n",
    "    roc_auc = metrics.auc(fpr,tpr)\n",
    "    \n",
    "    plt.title('ROC')\n",
    "    plt.plot(fpr,tpr,'b',label='AUC={}%'.format(round(roc_auc*100,3)))\n",
    "    plt.plot([0,1],[0,1],'r--')\n",
    "    plt.xlim([0,1])\n",
    "    plt.ylim([0,1])\n",
    "    plt.xlabel('1- False Positive Rate')\n",
    "    plt.ylabel('True Positive Rate')\n",
    "    plt.legend()\n"
   ]
  },
  {
   "cell_type": "markdown",
   "id": "e051ed78",
   "metadata": {},
   "source": [
    "## Model 1 : Logistic Rregression"
   ]
  },
  {
   "cell_type": "code",
   "execution_count": 113,
   "id": "cfe840f1",
   "metadata": {},
   "outputs": [
    {
     "name": "stdout",
     "output_type": "stream",
     "text": [
      "(3019, 82) (7042, 82)\n"
     ]
    }
   ],
   "source": [
    "Xtrain1, Xtest1,ytrain1,ytest1 = splitdata(df,'Deal_Status_Code',0.3)\n",
    "print(Xtest1.shape,Xtrain1.shape)"
   ]
  },
  {
   "cell_type": "code",
   "execution_count": 114,
   "id": "d455f1a3",
   "metadata": {},
   "outputs": [
    {
     "name": "stdout",
     "output_type": "stream",
     "text": [
      "Optimization terminated successfully.\n",
      "         Current function value: 0.597555\n",
      "         Iterations 6\n"
     ]
    }
   ],
   "source": [
    "lr_m1 = smapi.Logit(ytrain1,Xtrain1).fit()"
   ]
  },
  {
   "cell_type": "code",
   "execution_count": 115,
   "id": "9892d124",
   "metadata": {},
   "outputs": [
    {
     "data": {
      "text/html": [
       "<table class=\"simpletable\">\n",
       "<caption>Logit Regression Results</caption>\n",
       "<tr>\n",
       "  <th>Dep. Variable:</th>   <td>Deal_Status_Code</td> <th>  No. Observations:  </th>   <td>  7042</td>  \n",
       "</tr>\n",
       "<tr>\n",
       "  <th>Model:</th>                 <td>Logit</td>      <th>  Df Residuals:      </th>   <td>  6960</td>  \n",
       "</tr>\n",
       "<tr>\n",
       "  <th>Method:</th>                 <td>MLE</td>       <th>  Df Model:          </th>   <td>    81</td>  \n",
       "</tr>\n",
       "<tr>\n",
       "  <th>Date:</th>            <td>Tue, 05 Oct 2021</td> <th>  Pseudo R-squ.:     </th>   <td>0.09618</td> \n",
       "</tr>\n",
       "<tr>\n",
       "  <th>Time:</th>                <td>13:26:00</td>     <th>  Log-Likelihood:    </th>  <td> -4208.0</td> \n",
       "</tr>\n",
       "<tr>\n",
       "  <th>converged:</th>             <td>True</td>       <th>  LL-Null:           </th>  <td> -4655.8</td> \n",
       "</tr>\n",
       "<tr>\n",
       "  <th>Covariance Type:</th>     <td>nonrobust</td>    <th>  LLR p-value:       </th> <td>1.483e-137</td>\n",
       "</tr>\n",
       "</table>\n",
       "<table class=\"simpletable\">\n",
       "<tr>\n",
       "                    <td></td>                       <th>coef</th>     <th>std err</th>      <th>z</th>      <th>P>|z|</th>  <th>[0.025</th>    <th>0.975]</th>  \n",
       "</tr>\n",
       "<tr>\n",
       "  <th>Deal_Cost</th>                             <td>-4.534e-08</td> <td> 1.83e-08</td> <td>   -2.483</td> <td> 0.013</td> <td>-8.11e-08</td> <td>-9.55e-09</td>\n",
       "</tr>\n",
       "<tr>\n",
       "  <th>deal_year</th>                             <td>   -0.0138</td> <td>    0.020</td> <td>   -0.703</td> <td> 0.482</td> <td>   -0.052</td> <td>    0.025</td>\n",
       "</tr>\n",
       "<tr>\n",
       "  <th>Molly Eakes</th>                           <td>   -0.9706</td> <td>    0.172</td> <td>   -5.644</td> <td> 0.000</td> <td>   -1.308</td> <td>   -0.634</td>\n",
       "</tr>\n",
       "<tr>\n",
       "  <th>Rudraksh Sharma</th>                       <td>   -0.0453</td> <td>    0.199</td> <td>   -0.228</td> <td> 0.820</td> <td>   -0.435</td> <td>    0.345</td>\n",
       "</tr>\n",
       "<tr>\n",
       "  <th>Desmond Krout</th>                         <td>   -0.2255</td> <td>    0.220</td> <td>   -1.024</td> <td> 0.306</td> <td>   -0.657</td> <td>    0.206</td>\n",
       "</tr>\n",
       "<tr>\n",
       "  <th>Gayle Molter</th>                          <td>   -0.0602</td> <td>    0.230</td> <td>   -0.262</td> <td> 0.794</td> <td>   -0.512</td> <td>    0.391</td>\n",
       "</tr>\n",
       "<tr>\n",
       "  <th>Manpreet Singh</th>                        <td>    0.5909</td> <td>    0.204</td> <td>    2.899</td> <td> 0.004</td> <td>    0.191</td> <td>    0.990</td>\n",
       "</tr>\n",
       "<tr>\n",
       "  <th>Rosana Yokum</th>                          <td>    0.6814</td> <td>    0.198</td> <td>    3.440</td> <td> 0.001</td> <td>    0.293</td> <td>    1.070</td>\n",
       "</tr>\n",
       "<tr>\n",
       "  <th>Rayford Durgan</th>                        <td>   -0.0354</td> <td>    0.225</td> <td>   -0.157</td> <td> 0.875</td> <td>   -0.477</td> <td>    0.406</td>\n",
       "</tr>\n",
       "<tr>\n",
       "  <th>Manish Saundriyal</th>                     <td>    0.1773</td> <td>    0.253</td> <td>    0.701</td> <td> 0.483</td> <td>   -0.319</td> <td>    0.673</td>\n",
       "</tr>\n",
       "<tr>\n",
       "  <th>Jewell Tunstall</th>                       <td>   -0.1212</td> <td>    0.235</td> <td>   -0.515</td> <td> 0.607</td> <td>   -0.583</td> <td>    0.340</td>\n",
       "</tr>\n",
       "<tr>\n",
       "  <th>Hardeep Suksma</th>                        <td>    0.2199</td> <td>    0.203</td> <td>    1.084</td> <td> 0.278</td> <td>   -0.178</td> <td>    0.618</td>\n",
       "</tr>\n",
       "<tr>\n",
       "  <th>ram kumar</th>                             <td>   -0.4229</td> <td>    0.264</td> <td>   -1.604</td> <td> 0.109</td> <td>   -0.940</td> <td>    0.094</td>\n",
       "</tr>\n",
       "<tr>\n",
       "  <th>Rahul Kocher</th>                          <td>    0.1934</td> <td>    0.228</td> <td>    0.849</td> <td> 0.396</td> <td>   -0.253</td> <td>    0.640</td>\n",
       "</tr>\n",
       "<tr>\n",
       "  <th>Russell Dahlen</th>                        <td>    0.2809</td> <td>    0.225</td> <td>    1.248</td> <td> 0.212</td> <td>   -0.160</td> <td>    0.722</td>\n",
       "</tr>\n",
       "<tr>\n",
       "  <th>Marcella Mo</th>                           <td>   -0.4493</td> <td>    0.266</td> <td>   -1.689</td> <td> 0.091</td> <td>   -0.971</td> <td>    0.072</td>\n",
       "</tr>\n",
       "<tr>\n",
       "  <th>Mervin Harwood</th>                        <td>   -0.0319</td> <td>    0.126</td> <td>   -0.254</td> <td> 0.799</td> <td>   -0.278</td> <td>    0.214</td>\n",
       "</tr>\n",
       "<tr>\n",
       "  <th>Ankita Aggarwal</th>                       <td>   -0.5837</td> <td>    0.134</td> <td>   -4.367</td> <td> 0.000</td> <td>   -0.846</td> <td>   -0.322</td>\n",
       "</tr>\n",
       "<tr>\n",
       "  <th>Sargar Deep Rao</th>                       <td>   -0.1183</td> <td>    0.126</td> <td>   -0.942</td> <td> 0.346</td> <td>   -0.364</td> <td>    0.128</td>\n",
       "</tr>\n",
       "<tr>\n",
       "  <th>Long Bergstrom</th>                        <td>    0.3631</td> <td>    0.127</td> <td>    2.855</td> <td> 0.004</td> <td>    0.114</td> <td>    0.612</td>\n",
       "</tr>\n",
       "<tr>\n",
       "  <th>Mangesh K. Singh</th>                      <td>   -0.3486</td> <td>    0.134</td> <td>   -2.607</td> <td> 0.009</td> <td>   -0.611</td> <td>   -0.087</td>\n",
       "</tr>\n",
       "<tr>\n",
       "  <th>Rosanna Maynez</th>                        <td>   -0.4854</td> <td>    0.143</td> <td>   -3.405</td> <td> 0.001</td> <td>   -0.765</td> <td>   -0.206</td>\n",
       "</tr>\n",
       "<tr>\n",
       "  <th>Ekta Zutshi</th>                           <td>    0.6297</td> <td>    0.152</td> <td>    4.142</td> <td> 0.000</td> <td>    0.332</td> <td>    0.928</td>\n",
       "</tr>\n",
       "<tr>\n",
       "  <th>Rahul Bajpai</th>                          <td>   -0.1886</td> <td>    0.156</td> <td>   -1.211</td> <td> 0.226</td> <td>   -0.494</td> <td>    0.117</td>\n",
       "</tr>\n",
       "<tr>\n",
       "  <th>neeraj kumar</th>                          <td>   -0.0066</td> <td>    0.155</td> <td>   -0.043</td> <td> 0.966</td> <td>   -0.310</td> <td>    0.297</td>\n",
       "</tr>\n",
       "<tr>\n",
       "  <th>Son Mcconnaughy</th>                       <td>   -0.2165</td> <td>    0.201</td> <td>   -1.077</td> <td> 0.282</td> <td>   -0.611</td> <td>    0.178</td>\n",
       "</tr>\n",
       "<tr>\n",
       "  <th>som dutt</th>                              <td>   -0.0762</td> <td>    0.196</td> <td>   -0.388</td> <td> 0.698</td> <td>   -0.461</td> <td>    0.309</td>\n",
       "</tr>\n",
       "<tr>\n",
       "  <th>Brendon Wycoff</th>                        <td>   -0.7065</td> <td>    0.221</td> <td>   -3.191</td> <td> 0.001</td> <td>   -1.140</td> <td>   -0.273</td>\n",
       "</tr>\n",
       "<tr>\n",
       "  <th>Clinton Mani</th>                          <td>   -0.1846</td> <td>    0.217</td> <td>   -0.851</td> <td> 0.395</td> <td>   -0.610</td> <td>    0.241</td>\n",
       "</tr>\n",
       "<tr>\n",
       "  <th>Client_Category_Consulting</th>            <td>   -0.2380</td> <td>    0.203</td> <td>   -1.173</td> <td> 0.241</td> <td>   -0.636</td> <td>    0.160</td>\n",
       "</tr>\n",
       "<tr>\n",
       "  <th>Client_Category_Consumer Good</th>         <td>    0.4941</td> <td>    0.265</td> <td>    1.861</td> <td> 0.063</td> <td>   -0.026</td> <td>    1.014</td>\n",
       "</tr>\n",
       "<tr>\n",
       "  <th>Client_Category_Domestic Bank</th>         <td>    0.1508</td> <td>    0.289</td> <td>    0.521</td> <td> 0.602</td> <td>   -0.416</td> <td>    0.718</td>\n",
       "</tr>\n",
       "<tr>\n",
       "  <th>Client_Category_Domestic Private Bank</th> <td>   -0.0394</td> <td>    0.244</td> <td>   -0.161</td> <td> 0.872</td> <td>   -0.517</td> <td>    0.438</td>\n",
       "</tr>\n",
       "<tr>\n",
       "  <th>Client_Category_Domestic Public Bank</th>  <td>   -0.4711</td> <td>    0.235</td> <td>   -2.002</td> <td> 0.045</td> <td>   -0.932</td> <td>   -0.010</td>\n",
       "</tr>\n",
       "<tr>\n",
       "  <th>Client_Category_Finance</th>               <td>   -0.3097</td> <td>    0.215</td> <td>   -1.441</td> <td> 0.150</td> <td>   -0.731</td> <td>    0.112</td>\n",
       "</tr>\n",
       "<tr>\n",
       "  <th>Client_Category_Infrastructure</th>        <td>    0.3164</td> <td>    0.253</td> <td>    1.251</td> <td> 0.211</td> <td>   -0.179</td> <td>    0.812</td>\n",
       "</tr>\n",
       "<tr>\n",
       "  <th>Client_Category_Insurance</th>             <td>   -0.4794</td> <td>    0.305</td> <td>   -1.572</td> <td> 0.116</td> <td>   -1.077</td> <td>    0.118</td>\n",
       "</tr>\n",
       "<tr>\n",
       "  <th>Client_Category_Internal</th>              <td>    0.7783</td> <td>    0.173</td> <td>    4.497</td> <td> 0.000</td> <td>    0.439</td> <td>    1.118</td>\n",
       "</tr>\n",
       "<tr>\n",
       "  <th>Client_Category_International Bank</th>    <td>    0.0025</td> <td>    0.221</td> <td>    0.011</td> <td> 0.991</td> <td>   -0.430</td> <td>    0.435</td>\n",
       "</tr>\n",
       "<tr>\n",
       "  <th>Client_Category_Others</th>                <td>   -0.3451</td> <td>    0.149</td> <td>   -2.313</td> <td> 0.021</td> <td>   -0.638</td> <td>   -0.053</td>\n",
       "</tr>\n",
       "<tr>\n",
       "  <th>Client_Category_Power ind</th>             <td>    0.0499</td> <td>    0.217</td> <td>    0.230</td> <td> 0.818</td> <td>   -0.375</td> <td>    0.475</td>\n",
       "</tr>\n",
       "<tr>\n",
       "  <th>Client_Category_Retail_market</th>         <td>   -1.2723</td> <td>    0.350</td> <td>   -3.632</td> <td> 0.000</td> <td>   -1.959</td> <td>   -0.586</td>\n",
       "</tr>\n",
       "<tr>\n",
       "  <th>Client_Category_Services_based</th>        <td>   -0.4423</td> <td>    0.167</td> <td>   -2.644</td> <td> 0.008</td> <td>   -0.770</td> <td>   -0.114</td>\n",
       "</tr>\n",
       "<tr>\n",
       "  <th>Client_Category_Tech</th>                  <td>   -0.3969</td> <td>    0.179</td> <td>   -2.222</td> <td> 0.026</td> <td>   -0.747</td> <td>   -0.047</td>\n",
       "</tr>\n",
       "<tr>\n",
       "  <th>Client_Category_Telecom</th>               <td>    0.1809</td> <td>    0.241</td> <td>    0.751</td> <td> 0.453</td> <td>   -0.291</td> <td>    0.653</td>\n",
       "</tr>\n",
       "<tr>\n",
       "  <th>Solution_Type_Solution 10</th>             <td>   -0.1082</td> <td>    0.118</td> <td>   -0.917</td> <td> 0.359</td> <td>   -0.340</td> <td>    0.123</td>\n",
       "</tr>\n",
       "<tr>\n",
       "  <th>Solution_Type_Solution 12</th>             <td>   -0.6048</td> <td>    0.156</td> <td>   -3.887</td> <td> 0.000</td> <td>   -0.910</td> <td>   -0.300</td>\n",
       "</tr>\n",
       "<tr>\n",
       "  <th>Solution_Type_Solution 13</th>             <td>   -0.2746</td> <td>    0.172</td> <td>   -1.599</td> <td> 0.110</td> <td>   -0.611</td> <td>    0.062</td>\n",
       "</tr>\n",
       "<tr>\n",
       "  <th>Solution_Type_Solution 28</th>             <td>   -0.3556</td> <td>    0.228</td> <td>   -1.558</td> <td> 0.119</td> <td>   -0.803</td> <td>    0.092</td>\n",
       "</tr>\n",
       "<tr>\n",
       "  <th>Solution_Type_Solution 29</th>             <td>   -0.1811</td> <td>    0.170</td> <td>   -1.065</td> <td> 0.287</td> <td>   -0.514</td> <td>    0.152</td>\n",
       "</tr>\n",
       "<tr>\n",
       "  <th>Solution_Type_Solution 31</th>             <td>   -0.3458</td> <td>    0.186</td> <td>   -1.859</td> <td> 0.063</td> <td>   -0.710</td> <td>    0.019</td>\n",
       "</tr>\n",
       "<tr>\n",
       "  <th>Solution_Type_Solution 32</th>             <td>    0.8304</td> <td>    0.117</td> <td>    7.110</td> <td> 0.000</td> <td>    0.601</td> <td>    1.059</td>\n",
       "</tr>\n",
       "<tr>\n",
       "  <th>Solution_Type_Solution 37</th>             <td>    0.1562</td> <td>    0.139</td> <td>    1.123</td> <td> 0.262</td> <td>   -0.117</td> <td>    0.429</td>\n",
       "</tr>\n",
       "<tr>\n",
       "  <th>Solution_Type_Solution 39</th>             <td>    0.3455</td> <td>    0.130</td> <td>    2.661</td> <td> 0.008</td> <td>    0.091</td> <td>    0.600</td>\n",
       "</tr>\n",
       "<tr>\n",
       "  <th>Solution_Type_Solution 4</th>              <td>    0.5043</td> <td>    0.173</td> <td>    2.912</td> <td> 0.004</td> <td>    0.165</td> <td>    0.844</td>\n",
       "</tr>\n",
       "<tr>\n",
       "  <th>Solution_Type_Solution 59</th>             <td>   -0.1899</td> <td>    0.148</td> <td>   -1.286</td> <td> 0.199</td> <td>   -0.479</td> <td>    0.100</td>\n",
       "</tr>\n",
       "<tr>\n",
       "  <th>Solution_Type_Solution 6</th>              <td>   -0.3833</td> <td>    0.165</td> <td>   -2.318</td> <td> 0.020</td> <td>   -0.707</td> <td>   -0.059</td>\n",
       "</tr>\n",
       "<tr>\n",
       "  <th>Solution_Type_Solution 67</th>             <td>   -0.3883</td> <td>    0.158</td> <td>   -2.455</td> <td> 0.014</td> <td>   -0.698</td> <td>   -0.078</td>\n",
       "</tr>\n",
       "<tr>\n",
       "  <th>Solution_Type_Solution 8</th>              <td>    0.3449</td> <td>    0.157</td> <td>    2.198</td> <td> 0.028</td> <td>    0.037</td> <td>    0.652</td>\n",
       "</tr>\n",
       "<tr>\n",
       "  <th>Solution_Type_Solution 9</th>              <td>   -0.4270</td> <td>    0.102</td> <td>   -4.180</td> <td> 0.000</td> <td>   -0.627</td> <td>   -0.227</td>\n",
       "</tr>\n",
       "<tr>\n",
       "  <th>Sector_Sector 1</th>                       <td>   -0.0039</td> <td>    0.195</td> <td>   -0.020</td> <td> 0.984</td> <td>   -0.386</td> <td>    0.378</td>\n",
       "</tr>\n",
       "<tr>\n",
       "  <th>Sector_Sector 12</th>                      <td>    0.2703</td> <td>    0.166</td> <td>    1.629</td> <td> 0.103</td> <td>   -0.055</td> <td>    0.595</td>\n",
       "</tr>\n",
       "<tr>\n",
       "  <th>Sector_Sector 13</th>                      <td>   -0.4940</td> <td>    0.264</td> <td>   -1.874</td> <td> 0.061</td> <td>   -1.011</td> <td>    0.023</td>\n",
       "</tr>\n",
       "<tr>\n",
       "  <th>Sector_Sector 15</th>                      <td>    0.5065</td> <td>    0.163</td> <td>    3.115</td> <td> 0.002</td> <td>    0.188</td> <td>    0.825</td>\n",
       "</tr>\n",
       "<tr>\n",
       "  <th>Sector_Sector 16</th>                      <td>    0.2660</td> <td>    0.212</td> <td>    1.256</td> <td> 0.209</td> <td>   -0.149</td> <td>    0.681</td>\n",
       "</tr>\n",
       "<tr>\n",
       "  <th>Sector_Sector 17</th>                      <td>    0.5315</td> <td>    0.166</td> <td>    3.206</td> <td> 0.001</td> <td>    0.207</td> <td>    0.856</td>\n",
       "</tr>\n",
       "<tr>\n",
       "  <th>Sector_Sector 18</th>                      <td>    0.1927</td> <td>    0.205</td> <td>    0.939</td> <td> 0.348</td> <td>   -0.209</td> <td>    0.595</td>\n",
       "</tr>\n",
       "<tr>\n",
       "  <th>Sector_Sector 19</th>                      <td>    0.7978</td> <td>    0.238</td> <td>    3.357</td> <td> 0.001</td> <td>    0.332</td> <td>    1.264</td>\n",
       "</tr>\n",
       "<tr>\n",
       "  <th>Sector_Sector 2</th>                       <td>    0.2053</td> <td>    0.143</td> <td>    1.434</td> <td> 0.152</td> <td>   -0.075</td> <td>    0.486</td>\n",
       "</tr>\n",
       "<tr>\n",
       "  <th>Sector_Sector 20</th>                      <td>    0.5952</td> <td>    0.162</td> <td>    3.684</td> <td> 0.000</td> <td>    0.278</td> <td>    0.912</td>\n",
       "</tr>\n",
       "<tr>\n",
       "  <th>Sector_Sector 22</th>                      <td>    0.1070</td> <td>    0.261</td> <td>    0.410</td> <td> 0.682</td> <td>   -0.405</td> <td>    0.619</td>\n",
       "</tr>\n",
       "<tr>\n",
       "  <th>Sector_Sector 23</th>                      <td>    0.1596</td> <td>    0.127</td> <td>    1.257</td> <td> 0.209</td> <td>   -0.089</td> <td>    0.408</td>\n",
       "</tr>\n",
       "<tr>\n",
       "  <th>Sector_Sector 24</th>                      <td>    0.0860</td> <td>    0.178</td> <td>    0.484</td> <td> 0.628</td> <td>   -0.262</td> <td>    0.435</td>\n",
       "</tr>\n",
       "<tr>\n",
       "  <th>Sector_Sector 25</th>                      <td>    0.1231</td> <td>    0.194</td> <td>    0.634</td> <td> 0.526</td> <td>   -0.258</td> <td>    0.504</td>\n",
       "</tr>\n",
       "<tr>\n",
       "  <th>Sector_Sector 9</th>                       <td>    0.4842</td> <td>    0.174</td> <td>    2.785</td> <td> 0.005</td> <td>    0.143</td> <td>    0.825</td>\n",
       "</tr>\n",
       "<tr>\n",
       "  <th>Location_L10</th>                          <td>   -0.6520</td> <td>    0.102</td> <td>   -6.382</td> <td> 0.000</td> <td>   -0.852</td> <td>   -0.452</td>\n",
       "</tr>\n",
       "<tr>\n",
       "  <th>Location_L11</th>                          <td>   -0.6232</td> <td>    0.177</td> <td>   -3.512</td> <td> 0.000</td> <td>   -0.971</td> <td>   -0.275</td>\n",
       "</tr>\n",
       "<tr>\n",
       "  <th>Location_L12</th>                          <td>   -1.0423</td> <td>    0.195</td> <td>   -5.336</td> <td> 0.000</td> <td>   -1.425</td> <td>   -0.659</td>\n",
       "</tr>\n",
       "<tr>\n",
       "  <th>Location_L3</th>                           <td>   -0.5938</td> <td>    0.154</td> <td>   -3.846</td> <td> 0.000</td> <td>   -0.896</td> <td>   -0.291</td>\n",
       "</tr>\n",
       "<tr>\n",
       "  <th>Location_L5</th>                           <td>   -0.1562</td> <td>    0.106</td> <td>   -1.475</td> <td> 0.140</td> <td>   -0.364</td> <td>    0.051</td>\n",
       "</tr>\n",
       "<tr>\n",
       "  <th>Location_L9</th>                           <td>   -1.1197</td> <td>    0.227</td> <td>   -4.940</td> <td> 0.000</td> <td>   -1.564</td> <td>   -0.675</td>\n",
       "</tr>\n",
       "<tr>\n",
       "  <th>Location_Others</th>                       <td>   -0.6208</td> <td>    0.127</td> <td>   -4.891</td> <td> 0.000</td> <td>   -0.870</td> <td>   -0.372</td>\n",
       "</tr>\n",
       "</table>"
      ],
      "text/plain": [
       "<class 'statsmodels.iolib.summary.Summary'>\n",
       "\"\"\"\n",
       "                           Logit Regression Results                           \n",
       "==============================================================================\n",
       "Dep. Variable:       Deal_Status_Code   No. Observations:                 7042\n",
       "Model:                          Logit   Df Residuals:                     6960\n",
       "Method:                           MLE   Df Model:                           81\n",
       "Date:                Tue, 05 Oct 2021   Pseudo R-squ.:                 0.09618\n",
       "Time:                        13:26:00   Log-Likelihood:                -4208.0\n",
       "converged:                       True   LL-Null:                       -4655.8\n",
       "Covariance Type:            nonrobust   LLR p-value:                1.483e-137\n",
       "=========================================================================================================\n",
       "                                            coef    std err          z      P>|z|      [0.025      0.975]\n",
       "---------------------------------------------------------------------------------------------------------\n",
       "Deal_Cost                             -4.534e-08   1.83e-08     -2.483      0.013   -8.11e-08   -9.55e-09\n",
       "deal_year                                -0.0138      0.020     -0.703      0.482      -0.052       0.025\n",
       "Molly Eakes                              -0.9706      0.172     -5.644      0.000      -1.308      -0.634\n",
       "Rudraksh Sharma                          -0.0453      0.199     -0.228      0.820      -0.435       0.345\n",
       "Desmond Krout                            -0.2255      0.220     -1.024      0.306      -0.657       0.206\n",
       "Gayle Molter                             -0.0602      0.230     -0.262      0.794      -0.512       0.391\n",
       "Manpreet Singh                            0.5909      0.204      2.899      0.004       0.191       0.990\n",
       "Rosana Yokum                              0.6814      0.198      3.440      0.001       0.293       1.070\n",
       "Rayford Durgan                           -0.0354      0.225     -0.157      0.875      -0.477       0.406\n",
       "Manish Saundriyal                         0.1773      0.253      0.701      0.483      -0.319       0.673\n",
       "Jewell Tunstall                          -0.1212      0.235     -0.515      0.607      -0.583       0.340\n",
       "Hardeep Suksma                            0.2199      0.203      1.084      0.278      -0.178       0.618\n",
       "ram kumar                                -0.4229      0.264     -1.604      0.109      -0.940       0.094\n",
       "Rahul Kocher                              0.1934      0.228      0.849      0.396      -0.253       0.640\n",
       "Russell Dahlen                            0.2809      0.225      1.248      0.212      -0.160       0.722\n",
       "Marcella Mo                              -0.4493      0.266     -1.689      0.091      -0.971       0.072\n",
       "Mervin Harwood                           -0.0319      0.126     -0.254      0.799      -0.278       0.214\n",
       "Ankita Aggarwal                          -0.5837      0.134     -4.367      0.000      -0.846      -0.322\n",
       "Sargar Deep Rao                          -0.1183      0.126     -0.942      0.346      -0.364       0.128\n",
       "Long Bergstrom                            0.3631      0.127      2.855      0.004       0.114       0.612\n",
       "Mangesh K. Singh                         -0.3486      0.134     -2.607      0.009      -0.611      -0.087\n",
       "Rosanna Maynez                           -0.4854      0.143     -3.405      0.001      -0.765      -0.206\n",
       "Ekta Zutshi                               0.6297      0.152      4.142      0.000       0.332       0.928\n",
       "Rahul Bajpai                             -0.1886      0.156     -1.211      0.226      -0.494       0.117\n",
       "neeraj kumar                             -0.0066      0.155     -0.043      0.966      -0.310       0.297\n",
       "Son Mcconnaughy                          -0.2165      0.201     -1.077      0.282      -0.611       0.178\n",
       "som dutt                                 -0.0762      0.196     -0.388      0.698      -0.461       0.309\n",
       "Brendon Wycoff                           -0.7065      0.221     -3.191      0.001      -1.140      -0.273\n",
       "Clinton Mani                             -0.1846      0.217     -0.851      0.395      -0.610       0.241\n",
       "Client_Category_Consulting               -0.2380      0.203     -1.173      0.241      -0.636       0.160\n",
       "Client_Category_Consumer Good             0.4941      0.265      1.861      0.063      -0.026       1.014\n",
       "Client_Category_Domestic Bank             0.1508      0.289      0.521      0.602      -0.416       0.718\n",
       "Client_Category_Domestic Private Bank    -0.0394      0.244     -0.161      0.872      -0.517       0.438\n",
       "Client_Category_Domestic Public Bank     -0.4711      0.235     -2.002      0.045      -0.932      -0.010\n",
       "Client_Category_Finance                  -0.3097      0.215     -1.441      0.150      -0.731       0.112\n",
       "Client_Category_Infrastructure            0.3164      0.253      1.251      0.211      -0.179       0.812\n",
       "Client_Category_Insurance                -0.4794      0.305     -1.572      0.116      -1.077       0.118\n",
       "Client_Category_Internal                  0.7783      0.173      4.497      0.000       0.439       1.118\n",
       "Client_Category_International Bank        0.0025      0.221      0.011      0.991      -0.430       0.435\n",
       "Client_Category_Others                   -0.3451      0.149     -2.313      0.021      -0.638      -0.053\n",
       "Client_Category_Power ind                 0.0499      0.217      0.230      0.818      -0.375       0.475\n",
       "Client_Category_Retail_market            -1.2723      0.350     -3.632      0.000      -1.959      -0.586\n",
       "Client_Category_Services_based           -0.4423      0.167     -2.644      0.008      -0.770      -0.114\n",
       "Client_Category_Tech                     -0.3969      0.179     -2.222      0.026      -0.747      -0.047\n",
       "Client_Category_Telecom                   0.1809      0.241      0.751      0.453      -0.291       0.653\n",
       "Solution_Type_Solution 10                -0.1082      0.118     -0.917      0.359      -0.340       0.123\n",
       "Solution_Type_Solution 12                -0.6048      0.156     -3.887      0.000      -0.910      -0.300\n",
       "Solution_Type_Solution 13                -0.2746      0.172     -1.599      0.110      -0.611       0.062\n",
       "Solution_Type_Solution 28                -0.3556      0.228     -1.558      0.119      -0.803       0.092\n",
       "Solution_Type_Solution 29                -0.1811      0.170     -1.065      0.287      -0.514       0.152\n",
       "Solution_Type_Solution 31                -0.3458      0.186     -1.859      0.063      -0.710       0.019\n",
       "Solution_Type_Solution 32                 0.8304      0.117      7.110      0.000       0.601       1.059\n",
       "Solution_Type_Solution 37                 0.1562      0.139      1.123      0.262      -0.117       0.429\n",
       "Solution_Type_Solution 39                 0.3455      0.130      2.661      0.008       0.091       0.600\n",
       "Solution_Type_Solution 4                  0.5043      0.173      2.912      0.004       0.165       0.844\n",
       "Solution_Type_Solution 59                -0.1899      0.148     -1.286      0.199      -0.479       0.100\n",
       "Solution_Type_Solution 6                 -0.3833      0.165     -2.318      0.020      -0.707      -0.059\n",
       "Solution_Type_Solution 67                -0.3883      0.158     -2.455      0.014      -0.698      -0.078\n",
       "Solution_Type_Solution 8                  0.3449      0.157      2.198      0.028       0.037       0.652\n",
       "Solution_Type_Solution 9                 -0.4270      0.102     -4.180      0.000      -0.627      -0.227\n",
       "Sector_Sector 1                          -0.0039      0.195     -0.020      0.984      -0.386       0.378\n",
       "Sector_Sector 12                          0.2703      0.166      1.629      0.103      -0.055       0.595\n",
       "Sector_Sector 13                         -0.4940      0.264     -1.874      0.061      -1.011       0.023\n",
       "Sector_Sector 15                          0.5065      0.163      3.115      0.002       0.188       0.825\n",
       "Sector_Sector 16                          0.2660      0.212      1.256      0.209      -0.149       0.681\n",
       "Sector_Sector 17                          0.5315      0.166      3.206      0.001       0.207       0.856\n",
       "Sector_Sector 18                          0.1927      0.205      0.939      0.348      -0.209       0.595\n",
       "Sector_Sector 19                          0.7978      0.238      3.357      0.001       0.332       1.264\n",
       "Sector_Sector 2                           0.2053      0.143      1.434      0.152      -0.075       0.486\n",
       "Sector_Sector 20                          0.5952      0.162      3.684      0.000       0.278       0.912\n",
       "Sector_Sector 22                          0.1070      0.261      0.410      0.682      -0.405       0.619\n",
       "Sector_Sector 23                          0.1596      0.127      1.257      0.209      -0.089       0.408\n",
       "Sector_Sector 24                          0.0860      0.178      0.484      0.628      -0.262       0.435\n",
       "Sector_Sector 25                          0.1231      0.194      0.634      0.526      -0.258       0.504\n",
       "Sector_Sector 9                           0.4842      0.174      2.785      0.005       0.143       0.825\n",
       "Location_L10                             -0.6520      0.102     -6.382      0.000      -0.852      -0.452\n",
       "Location_L11                             -0.6232      0.177     -3.512      0.000      -0.971      -0.275\n",
       "Location_L12                             -1.0423      0.195     -5.336      0.000      -1.425      -0.659\n",
       "Location_L3                              -0.5938      0.154     -3.846      0.000      -0.896      -0.291\n",
       "Location_L5                              -0.1562      0.106     -1.475      0.140      -0.364       0.051\n",
       "Location_L9                              -1.1197      0.227     -4.940      0.000      -1.564      -0.675\n",
       "Location_Others                          -0.6208      0.127     -4.891      0.000      -0.870      -0.372\n",
       "=========================================================================================================\n",
       "\"\"\""
      ]
     },
     "execution_count": 115,
     "metadata": {},
     "output_type": "execute_result"
    }
   ],
   "source": [
    "lr_m1.summary()"
   ]
  },
  {
   "cell_type": "markdown",
   "id": "88e8f0cf",
   "metadata": {},
   "source": [
    "### Deal Year has p value > 0.05 removing it from next model"
   ]
  },
  {
   "cell_type": "code",
   "execution_count": 116,
   "id": "87fd0d60",
   "metadata": {},
   "outputs": [
    {
     "name": "stdout",
     "output_type": "stream",
     "text": [
      "predicted     0     1   All\n",
      "actual                     \n",
      "0          1228   671  1899\n",
      "1           429   691  1120\n",
      "All        1657  1362  3019\n",
      "              precision    recall  f1-score   support\n",
      "\n",
      "           0       0.74      0.65      0.69      1899\n",
      "           1       0.51      0.62      0.56      1120\n",
      "\n",
      "    accuracy                           0.64      3019\n",
      "   macro avg       0.62      0.63      0.62      3019\n",
      "weighted avg       0.65      0.64      0.64      3019\n",
      "\n"
     ]
    },
    {
     "data": {
      "image/png": "[encoded data removed]",
      "text/plain": [
       "<Figure size 432x288 with 1 Axes>"
      ]
     },
     "metadata": {
      "needs_background": "light"
     },
     "output_type": "display_data"
    }
   ],
   "source": [
    "p1 = lr_m1.predict(Xtest1)\n",
    "p1 = predToClass(p1, 0.37)    \n",
    "cm_auc(ytest1,p1)"
   ]
  },
  {
   "cell_type": "markdown",
   "id": "96f85f29",
   "metadata": {},
   "source": [
    "### Model Summary"
   ]
  },
  {
   "cell_type": "code",
   "execution_count": 117,
   "id": "707955be",
   "metadata": {},
   "outputs": [],
   "source": [
    "#model Summary\n",
    "model_summary = pd.DataFrame([('Log Reg 1','lr_m1',65,62,64,63.18)],\n",
    "                             columns=('Algorithm','ModelName','0%','1%','acc %','AUC'))"
   ]
  },
  {
   "cell_type": "code",
   "execution_count": 118,
   "id": "28c8bbc0",
   "metadata": {},
   "outputs": [
    {
     "data": {
      "text/html": [
       "<div>\n",
       "<style scoped>\n",
       "    .dataframe tbody tr th:only-of-type {\n",
       "        vertical-align: middle;\n",
       "    }\n",
       "\n",
       "    .dataframe tbody tr th {\n",
       "        vertical-align: top;\n",
       "    }\n",
       "\n",
       "    .dataframe thead th {\n",
       "        text-align: right;\n",
       "    }\n",
       "</style>\n",
       "<table border=\"1\" class=\"dataframe\">\n",
       "  <thead>\n",
       "    <tr style=\"text-align: right;\">\n",
       "      <th></th>\n",
       "      <th>Algorithm</th>\n",
       "      <th>ModelName</th>\n",
       "      <th>0%</th>\n",
       "      <th>1%</th>\n",
       "      <th>acc %</th>\n",
       "      <th>AUC</th>\n",
       "    </tr>\n",
       "  </thead>\n",
       "  <tbody>\n",
       "    <tr>\n",
       "      <th>0</th>\n",
       "      <td>Log Reg 1</td>\n",
       "      <td>lr_m1</td>\n",
       "      <td>65</td>\n",
       "      <td>62</td>\n",
       "      <td>64</td>\n",
       "      <td>63.18</td>\n",
       "    </tr>\n",
       "  </tbody>\n",
       "</table>\n",
       "</div>"
      ],
      "text/plain": [
       "   Algorithm ModelName  0%  1%  acc %    AUC\n",
       "0  Log Reg 1     lr_m1  65  62     64  63.18"
      ]
     },
     "execution_count": 118,
     "metadata": {},
     "output_type": "execute_result"
    }
   ],
   "source": [
    "model_summary"
   ]
  },
  {
   "cell_type": "code",
   "execution_count": 119,
   "id": "167d8cf3",
   "metadata": {},
   "outputs": [
    {
     "data": {
      "text/plain": [
       "'### as per the summary deal year can be removed'"
      ]
     },
     "execution_count": 119,
     "metadata": {},
     "output_type": "execute_result"
    }
   ],
   "source": [
    "\"\"\"### as per the summary deal year can be removed\"\"\""
   ]
  },
  {
   "cell_type": "code",
   "execution_count": 126,
   "id": "f61e9c84",
   "metadata": {},
   "outputs": [
    {
     "data": {
      "text/plain": [
       "(3019, 80)"
      ]
     },
     "execution_count": 126,
     "metadata": {},
     "output_type": "execute_result"
    }
   ],
   "source": [
    "Xtrain2,Xtest2,ytrain2,ytes2 = splitdata(df.drop(['deal_year','Deal_Cost'],axis=1),'Deal_Status_Code',0.3)\n",
    "\n",
    "Xtrain2.shape\n",
    "Xtest2.shape"
   ]
  },
  {
   "cell_type": "code",
   "execution_count": 127,
   "id": "cf7b78f9",
   "metadata": {},
   "outputs": [
    {
     "name": "stdout",
     "output_type": "stream",
     "text": [
      "Optimization terminated successfully.\n",
      "         Current function value: 0.595774\n",
      "         Iterations 6\n"
     ]
    },
    {
     "data": {
      "text/html": [
       "<table class=\"simpletable\">\n",
       "<caption>Logit Regression Results</caption>\n",
       "<tr>\n",
       "  <th>Dep. Variable:</th>   <td>Deal_Status_Code</td> <th>  No. Observations:  </th>   <td>  7042</td>  \n",
       "</tr>\n",
       "<tr>\n",
       "  <th>Model:</th>                 <td>Logit</td>      <th>  Df Residuals:      </th>   <td>  6962</td>  \n",
       "</tr>\n",
       "<tr>\n",
       "  <th>Method:</th>                 <td>MLE</td>       <th>  Df Model:          </th>   <td>    79</td>  \n",
       "</tr>\n",
       "<tr>\n",
       "  <th>Date:</th>            <td>Tue, 05 Oct 2021</td> <th>  Pseudo R-squ.:     </th>   <td>0.09767</td> \n",
       "</tr>\n",
       "<tr>\n",
       "  <th>Time:</th>                <td>15:31:29</td>     <th>  Log-Likelihood:    </th>  <td> -4195.4</td> \n",
       "</tr>\n",
       "<tr>\n",
       "  <th>converged:</th>             <td>True</td>       <th>  LL-Null:           </th>  <td> -4649.6</td> \n",
       "</tr>\n",
       "<tr>\n",
       "  <th>Covariance Type:</th>     <td>nonrobust</td>    <th>  LLR p-value:       </th> <td>4.019e-141</td>\n",
       "</tr>\n",
       "</table>\n",
       "<table class=\"simpletable\">\n",
       "<tr>\n",
       "                    <td></td>                       <th>coef</th>     <th>std err</th>      <th>z</th>      <th>P>|z|</th>  <th>[0.025</th>    <th>0.975]</th>  \n",
       "</tr>\n",
       "<tr>\n",
       "  <th>Molly Eakes</th>                           <td>   -1.0849</td> <td>    0.174</td> <td>   -6.232</td> <td> 0.000</td> <td>   -1.426</td> <td>   -0.744</td>\n",
       "</tr>\n",
       "<tr>\n",
       "  <th>Rudraksh Sharma</th>                       <td>   -0.1255</td> <td>    0.193</td> <td>   -0.651</td> <td> 0.515</td> <td>   -0.503</td> <td>    0.252</td>\n",
       "</tr>\n",
       "<tr>\n",
       "  <th>Desmond Krout</th>                         <td>   -0.3781</td> <td>    0.229</td> <td>   -1.652</td> <td> 0.098</td> <td>   -0.827</td> <td>    0.070</td>\n",
       "</tr>\n",
       "<tr>\n",
       "  <th>Gayle Molter</th>                          <td>   -0.4282</td> <td>    0.227</td> <td>   -1.889</td> <td> 0.059</td> <td>   -0.873</td> <td>    0.016</td>\n",
       "</tr>\n",
       "<tr>\n",
       "  <th>Manpreet Singh</th>                        <td>    0.5800</td> <td>    0.212</td> <td>    2.740</td> <td> 0.006</td> <td>    0.165</td> <td>    0.995</td>\n",
       "</tr>\n",
       "<tr>\n",
       "  <th>Rosana Yokum</th>                          <td>    0.6086</td> <td>    0.200</td> <td>    3.050</td> <td> 0.002</td> <td>    0.217</td> <td>    1.000</td>\n",
       "</tr>\n",
       "<tr>\n",
       "  <th>Rayford Durgan</th>                        <td>   -0.0690</td> <td>    0.229</td> <td>   -0.301</td> <td> 0.763</td> <td>   -0.518</td> <td>    0.380</td>\n",
       "</tr>\n",
       "<tr>\n",
       "  <th>Manish Saundriyal</th>                     <td>    0.0965</td> <td>    0.259</td> <td>    0.372</td> <td> 0.710</td> <td>   -0.412</td> <td>    0.605</td>\n",
       "</tr>\n",
       "<tr>\n",
       "  <th>Jewell Tunstall</th>                       <td>   -0.1067</td> <td>    0.238</td> <td>   -0.449</td> <td> 0.653</td> <td>   -0.573</td> <td>    0.359</td>\n",
       "</tr>\n",
       "<tr>\n",
       "  <th>Hardeep Suksma</th>                        <td>    0.1941</td> <td>    0.197</td> <td>    0.987</td> <td> 0.324</td> <td>   -0.191</td> <td>    0.580</td>\n",
       "</tr>\n",
       "<tr>\n",
       "  <th>ram kumar</th>                             <td>   -0.4981</td> <td>    0.256</td> <td>   -1.945</td> <td> 0.052</td> <td>   -1.000</td> <td>    0.004</td>\n",
       "</tr>\n",
       "<tr>\n",
       "  <th>Rahul Kocher</th>                          <td>    0.0858</td> <td>    0.218</td> <td>    0.394</td> <td> 0.694</td> <td>   -0.342</td> <td>    0.513</td>\n",
       "</tr>\n",
       "<tr>\n",
       "  <th>Russell Dahlen</th>                        <td>    0.5929</td> <td>    0.240</td> <td>    2.473</td> <td> 0.013</td> <td>    0.123</td> <td>    1.063</td>\n",
       "</tr>\n",
       "<tr>\n",
       "  <th>Marcella Mo</th>                           <td>   -0.5501</td> <td>    0.257</td> <td>   -2.143</td> <td> 0.032</td> <td>   -1.053</td> <td>   -0.047</td>\n",
       "</tr>\n",
       "<tr>\n",
       "  <th>Mervin Harwood</th>                        <td>    0.0565</td> <td>    0.119</td> <td>    0.474</td> <td> 0.635</td> <td>   -0.177</td> <td>    0.290</td>\n",
       "</tr>\n",
       "<tr>\n",
       "  <th>Ankita Aggarwal</th>                       <td>   -0.7711</td> <td>    0.136</td> <td>   -5.665</td> <td> 0.000</td> <td>   -1.038</td> <td>   -0.504</td>\n",
       "</tr>\n",
       "<tr>\n",
       "  <th>Sargar Deep Rao</th>                       <td>   -0.0154</td> <td>    0.116</td> <td>   -0.133</td> <td> 0.894</td> <td>   -0.243</td> <td>    0.212</td>\n",
       "</tr>\n",
       "<tr>\n",
       "  <th>Long Bergstrom</th>                        <td>    0.4130</td> <td>    0.121</td> <td>    3.400</td> <td> 0.001</td> <td>    0.175</td> <td>    0.651</td>\n",
       "</tr>\n",
       "<tr>\n",
       "  <th>Mangesh K. Singh</th>                      <td>   -0.3042</td> <td>    0.123</td> <td>   -2.470</td> <td> 0.013</td> <td>   -0.546</td> <td>   -0.063</td>\n",
       "</tr>\n",
       "<tr>\n",
       "  <th>Rosanna Maynez</th>                        <td>   -0.5780</td> <td>    0.136</td> <td>   -4.241</td> <td> 0.000</td> <td>   -0.845</td> <td>   -0.311</td>\n",
       "</tr>\n",
       "<tr>\n",
       "  <th>Ekta Zutshi</th>                           <td>    0.8630</td> <td>    0.142</td> <td>    6.057</td> <td> 0.000</td> <td>    0.584</td> <td>    1.142</td>\n",
       "</tr>\n",
       "<tr>\n",
       "  <th>Rahul Bajpai</th>                          <td>    0.0553</td> <td>    0.152</td> <td>    0.364</td> <td> 0.716</td> <td>   -0.243</td> <td>    0.353</td>\n",
       "</tr>\n",
       "<tr>\n",
       "  <th>neeraj kumar</th>                          <td>   -0.0367</td> <td>    0.153</td> <td>   -0.239</td> <td> 0.811</td> <td>   -0.337</td> <td>    0.264</td>\n",
       "</tr>\n",
       "<tr>\n",
       "  <th>Son Mcconnaughy</th>                       <td>   -0.0034</td> <td>    0.200</td> <td>   -0.017</td> <td> 0.987</td> <td>   -0.396</td> <td>    0.389</td>\n",
       "</tr>\n",
       "<tr>\n",
       "  <th>som dutt</th>                              <td>   -0.1596</td> <td>    0.191</td> <td>   -0.834</td> <td> 0.404</td> <td>   -0.535</td> <td>    0.216</td>\n",
       "</tr>\n",
       "<tr>\n",
       "  <th>Brendon Wycoff</th>                        <td>   -0.5458</td> <td>    0.214</td> <td>   -2.554</td> <td> 0.011</td> <td>   -0.965</td> <td>   -0.127</td>\n",
       "</tr>\n",
       "<tr>\n",
       "  <th>Clinton Mani</th>                          <td>    0.1051</td> <td>    0.209</td> <td>    0.502</td> <td> 0.616</td> <td>   -0.305</td> <td>    0.515</td>\n",
       "</tr>\n",
       "<tr>\n",
       "  <th>Client_Category_Consulting</th>            <td>   -0.3151</td> <td>    0.198</td> <td>   -1.593</td> <td> 0.111</td> <td>   -0.703</td> <td>    0.073</td>\n",
       "</tr>\n",
       "<tr>\n",
       "  <th>Client_Category_Consumer Good</th>         <td>    0.3436</td> <td>    0.254</td> <td>    1.355</td> <td> 0.175</td> <td>   -0.154</td> <td>    0.841</td>\n",
       "</tr>\n",
       "<tr>\n",
       "  <th>Client_Category_Domestic Bank</th>         <td>   -0.0965</td> <td>    0.278</td> <td>   -0.347</td> <td> 0.729</td> <td>   -0.641</td> <td>    0.448</td>\n",
       "</tr>\n",
       "<tr>\n",
       "  <th>Client_Category_Domestic Private Bank</th> <td>    0.0315</td> <td>    0.231</td> <td>    0.137</td> <td> 0.891</td> <td>   -0.421</td> <td>    0.484</td>\n",
       "</tr>\n",
       "<tr>\n",
       "  <th>Client_Category_Domestic Public Bank</th>  <td>   -0.4997</td> <td>    0.232</td> <td>   -2.154</td> <td> 0.031</td> <td>   -0.954</td> <td>   -0.045</td>\n",
       "</tr>\n",
       "<tr>\n",
       "  <th>Client_Category_Finance</th>               <td>   -0.1204</td> <td>    0.202</td> <td>   -0.596</td> <td> 0.551</td> <td>   -0.516</td> <td>    0.276</td>\n",
       "</tr>\n",
       "<tr>\n",
       "  <th>Client_Category_Infrastructure</th>        <td>    0.3409</td> <td>    0.245</td> <td>    1.394</td> <td> 0.163</td> <td>   -0.139</td> <td>    0.820</td>\n",
       "</tr>\n",
       "<tr>\n",
       "  <th>Client_Category_Insurance</th>             <td>   -0.5062</td> <td>    0.302</td> <td>   -1.674</td> <td> 0.094</td> <td>   -1.099</td> <td>    0.087</td>\n",
       "</tr>\n",
       "<tr>\n",
       "  <th>Client_Category_Internal</th>              <td>    0.7758</td> <td>    0.162</td> <td>    4.777</td> <td> 0.000</td> <td>    0.458</td> <td>    1.094</td>\n",
       "</tr>\n",
       "<tr>\n",
       "  <th>Client_Category_International Bank</th>    <td>   -0.0229</td> <td>    0.209</td> <td>   -0.110</td> <td> 0.913</td> <td>   -0.432</td> <td>    0.386</td>\n",
       "</tr>\n",
       "<tr>\n",
       "  <th>Client_Category_Others</th>                <td>   -0.3481</td> <td>    0.135</td> <td>   -2.571</td> <td> 0.010</td> <td>   -0.613</td> <td>   -0.083</td>\n",
       "</tr>\n",
       "<tr>\n",
       "  <th>Client_Category_Power ind</th>             <td>   -0.2232</td> <td>    0.212</td> <td>   -1.052</td> <td> 0.293</td> <td>   -0.639</td> <td>    0.193</td>\n",
       "</tr>\n",
       "<tr>\n",
       "  <th>Client_Category_Retail_market</th>         <td>   -1.1411</td> <td>    0.331</td> <td>   -3.448</td> <td> 0.001</td> <td>   -1.790</td> <td>   -0.492</td>\n",
       "</tr>\n",
       "<tr>\n",
       "  <th>Client_Category_Services_based</th>        <td>   -0.4686</td> <td>    0.156</td> <td>   -3.004</td> <td> 0.003</td> <td>   -0.774</td> <td>   -0.163</td>\n",
       "</tr>\n",
       "<tr>\n",
       "  <th>Client_Category_Tech</th>                  <td>   -0.5110</td> <td>    0.170</td> <td>   -3.001</td> <td> 0.003</td> <td>   -0.845</td> <td>   -0.177</td>\n",
       "</tr>\n",
       "<tr>\n",
       "  <th>Client_Category_Telecom</th>               <td>    0.1757</td> <td>    0.237</td> <td>    0.742</td> <td> 0.458</td> <td>   -0.289</td> <td>    0.640</td>\n",
       "</tr>\n",
       "<tr>\n",
       "  <th>Solution_Type_Solution 10</th>             <td>   -0.0417</td> <td>    0.120</td> <td>   -0.349</td> <td> 0.727</td> <td>   -0.276</td> <td>    0.193</td>\n",
       "</tr>\n",
       "<tr>\n",
       "  <th>Solution_Type_Solution 12</th>             <td>   -0.6486</td> <td>    0.156</td> <td>   -4.157</td> <td> 0.000</td> <td>   -0.954</td> <td>   -0.343</td>\n",
       "</tr>\n",
       "<tr>\n",
       "  <th>Solution_Type_Solution 13</th>             <td>   -0.1858</td> <td>    0.167</td> <td>   -1.110</td> <td> 0.267</td> <td>   -0.514</td> <td>    0.142</td>\n",
       "</tr>\n",
       "<tr>\n",
       "  <th>Solution_Type_Solution 28</th>             <td>   -0.1544</td> <td>    0.240</td> <td>   -0.644</td> <td> 0.519</td> <td>   -0.624</td> <td>    0.315</td>\n",
       "</tr>\n",
       "<tr>\n",
       "  <th>Solution_Type_Solution 29</th>             <td>   -0.0286</td> <td>    0.167</td> <td>   -0.171</td> <td> 0.864</td> <td>   -0.356</td> <td>    0.299</td>\n",
       "</tr>\n",
       "<tr>\n",
       "  <th>Solution_Type_Solution 31</th>             <td>   -0.2624</td> <td>    0.185</td> <td>   -1.419</td> <td> 0.156</td> <td>   -0.625</td> <td>    0.100</td>\n",
       "</tr>\n",
       "<tr>\n",
       "  <th>Solution_Type_Solution 32</th>             <td>    0.7147</td> <td>    0.118</td> <td>    6.064</td> <td> 0.000</td> <td>    0.484</td> <td>    0.946</td>\n",
       "</tr>\n",
       "<tr>\n",
       "  <th>Solution_Type_Solution 37</th>             <td>    0.0040</td> <td>    0.134</td> <td>    0.030</td> <td> 0.976</td> <td>   -0.260</td> <td>    0.268</td>\n",
       "</tr>\n",
       "<tr>\n",
       "  <th>Solution_Type_Solution 39</th>             <td>    0.3486</td> <td>    0.127</td> <td>    2.735</td> <td> 0.006</td> <td>    0.099</td> <td>    0.598</td>\n",
       "</tr>\n",
       "<tr>\n",
       "  <th>Solution_Type_Solution 4</th>              <td>    0.3908</td> <td>    0.177</td> <td>    2.210</td> <td> 0.027</td> <td>    0.044</td> <td>    0.737</td>\n",
       "</tr>\n",
       "<tr>\n",
       "  <th>Solution_Type_Solution 59</th>             <td>   -0.3104</td> <td>    0.149</td> <td>   -2.084</td> <td> 0.037</td> <td>   -0.602</td> <td>   -0.018</td>\n",
       "</tr>\n",
       "<tr>\n",
       "  <th>Solution_Type_Solution 6</th>              <td>   -0.5437</td> <td>    0.170</td> <td>   -3.196</td> <td> 0.001</td> <td>   -0.877</td> <td>   -0.210</td>\n",
       "</tr>\n",
       "<tr>\n",
       "  <th>Solution_Type_Solution 67</th>             <td>   -0.2293</td> <td>    0.152</td> <td>   -1.510</td> <td> 0.131</td> <td>   -0.527</td> <td>    0.068</td>\n",
       "</tr>\n",
       "<tr>\n",
       "  <th>Solution_Type_Solution 8</th>              <td>    0.2411</td> <td>    0.155</td> <td>    1.560</td> <td> 0.119</td> <td>   -0.062</td> <td>    0.544</td>\n",
       "</tr>\n",
       "<tr>\n",
       "  <th>Solution_Type_Solution 9</th>              <td>   -0.3677</td> <td>    0.101</td> <td>   -3.648</td> <td> 0.000</td> <td>   -0.565</td> <td>   -0.170</td>\n",
       "</tr>\n",
       "<tr>\n",
       "  <th>Sector_Sector 1</th>                       <td>   -0.0006</td> <td>    0.191</td> <td>   -0.003</td> <td> 0.998</td> <td>   -0.374</td> <td>    0.373</td>\n",
       "</tr>\n",
       "<tr>\n",
       "  <th>Sector_Sector 12</th>                      <td>    0.2246</td> <td>    0.163</td> <td>    1.377</td> <td> 0.169</td> <td>   -0.095</td> <td>    0.544</td>\n",
       "</tr>\n",
       "<tr>\n",
       "  <th>Sector_Sector 13</th>                      <td>   -0.5798</td> <td>    0.256</td> <td>   -2.263</td> <td> 0.024</td> <td>   -1.082</td> <td>   -0.078</td>\n",
       "</tr>\n",
       "<tr>\n",
       "  <th>Sector_Sector 15</th>                      <td>    0.5517</td> <td>    0.162</td> <td>    3.403</td> <td> 0.001</td> <td>    0.234</td> <td>    0.869</td>\n",
       "</tr>\n",
       "<tr>\n",
       "  <th>Sector_Sector 16</th>                      <td>    0.2777</td> <td>    0.217</td> <td>    1.282</td> <td> 0.200</td> <td>   -0.147</td> <td>    0.702</td>\n",
       "</tr>\n",
       "<tr>\n",
       "  <th>Sector_Sector 17</th>                      <td>    0.6411</td> <td>    0.162</td> <td>    3.958</td> <td> 0.000</td> <td>    0.324</td> <td>    0.959</td>\n",
       "</tr>\n",
       "<tr>\n",
       "  <th>Sector_Sector 18</th>                      <td>    0.1482</td> <td>    0.207</td> <td>    0.715</td> <td> 0.475</td> <td>   -0.258</td> <td>    0.555</td>\n",
       "</tr>\n",
       "<tr>\n",
       "  <th>Sector_Sector 19</th>                      <td>    0.8304</td> <td>    0.237</td> <td>    3.510</td> <td> 0.000</td> <td>    0.367</td> <td>    1.294</td>\n",
       "</tr>\n",
       "<tr>\n",
       "  <th>Sector_Sector 2</th>                       <td>    0.2094</td> <td>    0.142</td> <td>    1.477</td> <td> 0.140</td> <td>   -0.068</td> <td>    0.487</td>\n",
       "</tr>\n",
       "<tr>\n",
       "  <th>Sector_Sector 20</th>                      <td>    0.6255</td> <td>    0.159</td> <td>    3.939</td> <td> 0.000</td> <td>    0.314</td> <td>    0.937</td>\n",
       "</tr>\n",
       "<tr>\n",
       "  <th>Sector_Sector 22</th>                      <td>    0.4244</td> <td>    0.251</td> <td>    1.689</td> <td> 0.091</td> <td>   -0.068</td> <td>    0.917</td>\n",
       "</tr>\n",
       "<tr>\n",
       "  <th>Sector_Sector 23</th>                      <td>    0.1644</td> <td>    0.126</td> <td>    1.300</td> <td> 0.194</td> <td>   -0.084</td> <td>    0.412</td>\n",
       "</tr>\n",
       "<tr>\n",
       "  <th>Sector_Sector 24</th>                      <td>    0.0600</td> <td>    0.180</td> <td>    0.334</td> <td> 0.738</td> <td>   -0.292</td> <td>    0.412</td>\n",
       "</tr>\n",
       "<tr>\n",
       "  <th>Sector_Sector 25</th>                      <td>    0.1108</td> <td>    0.191</td> <td>    0.579</td> <td> 0.563</td> <td>   -0.264</td> <td>    0.486</td>\n",
       "</tr>\n",
       "<tr>\n",
       "  <th>Sector_Sector 9</th>                       <td>    0.6959</td> <td>    0.175</td> <td>    3.984</td> <td> 0.000</td> <td>    0.354</td> <td>    1.038</td>\n",
       "</tr>\n",
       "<tr>\n",
       "  <th>Location_L10</th>                          <td>   -0.7555</td> <td>    0.102</td> <td>   -7.375</td> <td> 0.000</td> <td>   -0.956</td> <td>   -0.555</td>\n",
       "</tr>\n",
       "<tr>\n",
       "  <th>Location_L11</th>                          <td>   -0.7873</td> <td>    0.176</td> <td>   -4.474</td> <td> 0.000</td> <td>   -1.132</td> <td>   -0.442</td>\n",
       "</tr>\n",
       "<tr>\n",
       "  <th>Location_L12</th>                          <td>   -1.1933</td> <td>    0.201</td> <td>   -5.938</td> <td> 0.000</td> <td>   -1.587</td> <td>   -0.799</td>\n",
       "</tr>\n",
       "<tr>\n",
       "  <th>Location_L3</th>                           <td>   -0.6748</td> <td>    0.153</td> <td>   -4.406</td> <td> 0.000</td> <td>   -0.975</td> <td>   -0.375</td>\n",
       "</tr>\n",
       "<tr>\n",
       "  <th>Location_L5</th>                           <td>   -0.3192</td> <td>    0.106</td> <td>   -3.015</td> <td> 0.003</td> <td>   -0.527</td> <td>   -0.112</td>\n",
       "</tr>\n",
       "<tr>\n",
       "  <th>Location_L9</th>                           <td>   -1.5224</td> <td>    0.245</td> <td>   -6.224</td> <td> 0.000</td> <td>   -2.002</td> <td>   -1.043</td>\n",
       "</tr>\n",
       "<tr>\n",
       "  <th>Location_Others</th>                       <td>   -0.8398</td> <td>    0.128</td> <td>   -6.556</td> <td> 0.000</td> <td>   -1.091</td> <td>   -0.589</td>\n",
       "</tr>\n",
       "</table>"
      ],
      "text/plain": [
       "<class 'statsmodels.iolib.summary.Summary'>\n",
       "\"\"\"\n",
       "                           Logit Regression Results                           \n",
       "==============================================================================\n",
       "Dep. Variable:       Deal_Status_Code   No. Observations:                 7042\n",
       "Model:                          Logit   Df Residuals:                     6962\n",
       "Method:                           MLE   Df Model:                           79\n",
       "Date:                Tue, 05 Oct 2021   Pseudo R-squ.:                 0.09767\n",
       "Time:                        15:31:29   Log-Likelihood:                -4195.4\n",
       "converged:                       True   LL-Null:                       -4649.6\n",
       "Covariance Type:            nonrobust   LLR p-value:                4.019e-141\n",
       "=========================================================================================================\n",
       "                                            coef    std err          z      P>|z|      [0.025      0.975]\n",
       "---------------------------------------------------------------------------------------------------------\n",
       "Molly Eakes                              -1.0849      0.174     -6.232      0.000      -1.426      -0.744\n",
       "Rudraksh Sharma                          -0.1255      0.193     -0.651      0.515      -0.503       0.252\n",
       "Desmond Krout                            -0.3781      0.229     -1.652      0.098      -0.827       0.070\n",
       "Gayle Molter                             -0.4282      0.227     -1.889      0.059      -0.873       0.016\n",
       "Manpreet Singh                            0.5800      0.212      2.740      0.006       0.165       0.995\n",
       "Rosana Yokum                              0.6086      0.200      3.050      0.002       0.217       1.000\n",
       "Rayford Durgan                           -0.0690      0.229     -0.301      0.763      -0.518       0.380\n",
       "Manish Saundriyal                         0.0965      0.259      0.372      0.710      -0.412       0.605\n",
       "Jewell Tunstall                          -0.1067      0.238     -0.449      0.653      -0.573       0.359\n",
       "Hardeep Suksma                            0.1941      0.197      0.987      0.324      -0.191       0.580\n",
       "ram kumar                                -0.4981      0.256     -1.945      0.052      -1.000       0.004\n",
       "Rahul Kocher                              0.0858      0.218      0.394      0.694      -0.342       0.513\n",
       "Russell Dahlen                            0.5929      0.240      2.473      0.013       0.123       1.063\n",
       "Marcella Mo                              -0.5501      0.257     -2.143      0.032      -1.053      -0.047\n",
       "Mervin Harwood                            0.0565      0.119      0.474      0.635      -0.177       0.290\n",
       "Ankita Aggarwal                          -0.7711      0.136     -5.665      0.000      -1.038      -0.504\n",
       "Sargar Deep Rao                          -0.0154      0.116     -0.133      0.894      -0.243       0.212\n",
       "Long Bergstrom                            0.4130      0.121      3.400      0.001       0.175       0.651\n",
       "Mangesh K. Singh                         -0.3042      0.123     -2.470      0.013      -0.546      -0.063\n",
       "Rosanna Maynez                           -0.5780      0.136     -4.241      0.000      -0.845      -0.311\n",
       "Ekta Zutshi                               0.8630      0.142      6.057      0.000       0.584       1.142\n",
       "Rahul Bajpai                              0.0553      0.152      0.364      0.716      -0.243       0.353\n",
       "neeraj kumar                             -0.0367      0.153     -0.239      0.811      -0.337       0.264\n",
       "Son Mcconnaughy                          -0.0034      0.200     -0.017      0.987      -0.396       0.389\n",
       "som dutt                                 -0.1596      0.191     -0.834      0.404      -0.535       0.216\n",
       "Brendon Wycoff                           -0.5458      0.214     -2.554      0.011      -0.965      -0.127\n",
       "Clinton Mani                              0.1051      0.209      0.502      0.616      -0.305       0.515\n",
       "Client_Category_Consulting               -0.3151      0.198     -1.593      0.111      -0.703       0.073\n",
       "Client_Category_Consumer Good             0.3436      0.254      1.355      0.175      -0.154       0.841\n",
       "Client_Category_Domestic Bank            -0.0965      0.278     -0.347      0.729      -0.641       0.448\n",
       "Client_Category_Domestic Private Bank     0.0315      0.231      0.137      0.891      -0.421       0.484\n",
       "Client_Category_Domestic Public Bank     -0.4997      0.232     -2.154      0.031      -0.954      -0.045\n",
       "Client_Category_Finance                  -0.1204      0.202     -0.596      0.551      -0.516       0.276\n",
       "Client_Category_Infrastructure            0.3409      0.245      1.394      0.163      -0.139       0.820\n",
       "Client_Category_Insurance                -0.5062      0.302     -1.674      0.094      -1.099       0.087\n",
       "Client_Category_Internal                  0.7758      0.162      4.777      0.000       0.458       1.094\n",
       "Client_Category_International Bank       -0.0229      0.209     -0.110      0.913      -0.432       0.386\n",
       "Client_Category_Others                   -0.3481      0.135     -2.571      0.010      -0.613      -0.083\n",
       "Client_Category_Power ind                -0.2232      0.212     -1.052      0.293      -0.639       0.193\n",
       "Client_Category_Retail_market            -1.1411      0.331     -3.448      0.001      -1.790      -0.492\n",
       "Client_Category_Services_based           -0.4686      0.156     -3.004      0.003      -0.774      -0.163\n",
       "Client_Category_Tech                     -0.5110      0.170     -3.001      0.003      -0.845      -0.177\n",
       "Client_Category_Telecom                   0.1757      0.237      0.742      0.458      -0.289       0.640\n",
       "Solution_Type_Solution 10                -0.0417      0.120     -0.349      0.727      -0.276       0.193\n",
       "Solution_Type_Solution 12                -0.6486      0.156     -4.157      0.000      -0.954      -0.343\n",
       "Solution_Type_Solution 13                -0.1858      0.167     -1.110      0.267      -0.514       0.142\n",
       "Solution_Type_Solution 28                -0.1544      0.240     -0.644      0.519      -0.624       0.315\n",
       "Solution_Type_Solution 29                -0.0286      0.167     -0.171      0.864      -0.356       0.299\n",
       "Solution_Type_Solution 31                -0.2624      0.185     -1.419      0.156      -0.625       0.100\n",
       "Solution_Type_Solution 32                 0.7147      0.118      6.064      0.000       0.484       0.946\n",
       "Solution_Type_Solution 37                 0.0040      0.134      0.030      0.976      -0.260       0.268\n",
       "Solution_Type_Solution 39                 0.3486      0.127      2.735      0.006       0.099       0.598\n",
       "Solution_Type_Solution 4                  0.3908      0.177      2.210      0.027       0.044       0.737\n",
       "Solution_Type_Solution 59                -0.3104      0.149     -2.084      0.037      -0.602      -0.018\n",
       "Solution_Type_Solution 6                 -0.5437      0.170     -3.196      0.001      -0.877      -0.210\n",
       "Solution_Type_Solution 67                -0.2293      0.152     -1.510      0.131      -0.527       0.068\n",
       "Solution_Type_Solution 8                  0.2411      0.155      1.560      0.119      -0.062       0.544\n",
       "Solution_Type_Solution 9                 -0.3677      0.101     -3.648      0.000      -0.565      -0.170\n",
       "Sector_Sector 1                          -0.0006      0.191     -0.003      0.998      -0.374       0.373\n",
       "Sector_Sector 12                          0.2246      0.163      1.377      0.169      -0.095       0.544\n",
       "Sector_Sector 13                         -0.5798      0.256     -2.263      0.024      -1.082      -0.078\n",
       "Sector_Sector 15                          0.5517      0.162      3.403      0.001       0.234       0.869\n",
       "Sector_Sector 16                          0.2777      0.217      1.282      0.200      -0.147       0.702\n",
       "Sector_Sector 17                          0.6411      0.162      3.958      0.000       0.324       0.959\n",
       "Sector_Sector 18                          0.1482      0.207      0.715      0.475      -0.258       0.555\n",
       "Sector_Sector 19                          0.8304      0.237      3.510      0.000       0.367       1.294\n",
       "Sector_Sector 2                           0.2094      0.142      1.477      0.140      -0.068       0.487\n",
       "Sector_Sector 20                          0.6255      0.159      3.939      0.000       0.314       0.937\n",
       "Sector_Sector 22                          0.4244      0.251      1.689      0.091      -0.068       0.917\n",
       "Sector_Sector 23                          0.1644      0.126      1.300      0.194      -0.084       0.412\n",
       "Sector_Sector 24                          0.0600      0.180      0.334      0.738      -0.292       0.412\n",
       "Sector_Sector 25                          0.1108      0.191      0.579      0.563      -0.264       0.486\n",
       "Sector_Sector 9                           0.6959      0.175      3.984      0.000       0.354       1.038\n",
       "Location_L10                             -0.7555      0.102     -7.375      0.000      -0.956      -0.555\n",
       "Location_L11                             -0.7873      0.176     -4.474      0.000      -1.132      -0.442\n",
       "Location_L12                             -1.1933      0.201     -5.938      0.000      -1.587      -0.799\n",
       "Location_L3                              -0.6748      0.153     -4.406      0.000      -0.975      -0.375\n",
       "Location_L5                              -0.3192      0.106     -3.015      0.003      -0.527      -0.112\n",
       "Location_L9                              -1.5224      0.245     -6.224      0.000      -2.002      -1.043\n",
       "Location_Others                          -0.8398      0.128     -6.556      0.000      -1.091      -0.589\n",
       "=========================================================================================================\n",
       "\"\"\""
      ]
     },
     "execution_count": 127,
     "metadata": {},
     "output_type": "execute_result"
    }
   ],
   "source": [
    "lr_m2 = buildmodel(Xtrain2, ytrain2)\n",
    "lr_m2.summary()"
   ]
  },
  {
   "cell_type": "code",
   "execution_count": 129,
   "id": "1bea7b62",
   "metadata": {},
   "outputs": [
    {
     "name": "stdout",
     "output_type": "stream",
     "text": [
      "predicted     0     1   All\n",
      "actual                     \n",
      "0          1179   708  1887\n",
      "1           432   700  1132\n",
      "All        1611  1408  3019\n",
      "              precision    recall  f1-score   support\n",
      "\n",
      "           0       0.73      0.62      0.67      1887\n",
      "           1       0.50      0.62      0.55      1132\n",
      "\n",
      "    accuracy                           0.62      3019\n",
      "   macro avg       0.61      0.62      0.61      3019\n",
      "weighted avg       0.64      0.62      0.63      3019\n",
      "\n"
     ]
    },
    {
     "data": {
      "image/png": "[encoded data removed]",
      "text/plain": [
       "<Figure size 432x288 with 1 Axes>"
      ]
     },
     "metadata": {
      "needs_background": "light"
     },
     "output_type": "display_data"
    }
   ],
   "source": [
    "p2 = lr_m2.predict(Xtest2)\n",
    "p2= predToClass(p2, 0.37)\n",
    "cm_auc(ytes2,p2)"
   ]
  },
  {
   "cell_type": "code",
   "execution_count": 130,
   "id": "5e817f93",
   "metadata": {},
   "outputs": [
    {
     "name": "stdout",
     "output_type": "stream",
     "text": [
      "      Algorithm ModelName  0%  1%  acc %    AUC\n",
      "0     Log Reg 1     lr_m1  65  62     64  63.18\n",
      "1  Linear Reg 2     lr_m2  62  62     62  62.10\n"
     ]
    }
   ],
   "source": [
    "#model summary\n",
    "Model_dict = {'Algorithm':'Linear Reg 2','ModelName':'lr_m2','0%':62,'1%':62,'acc %':62,'AUC':62.1}\n",
    "model_summary= model_summary.append(Model_dict,ignore_index=True)\n",
    "print(model_summary)\n"
   ]
  },
  {
   "cell_type": "markdown",
   "id": "aff53045",
   "metadata": {},
   "source": [
    "## Oversample : Model 3"
   ]
  },
  {
   "cell_type": "code",
   "execution_count": 131,
   "id": "11ba380d",
   "metadata": {},
   "outputs": [],
   "source": [
    "from imblearn.over_sampling import SMOTE\n",
    "\n",
    "sm = SMOTE()\n",
    "chx,chy = sm.fit_resample(df.drop('Deal_Status_Code',1),df.Deal_Status_Code)\n"
   ]
  },
  {
   "cell_type": "code",
   "execution_count": 132,
   "id": "abf8d582",
   "metadata": {},
   "outputs": [
    {
     "data": {
      "text/plain": [
       "0    6306\n",
       "1    6306\n",
       "Name: Deal_Status_Code, dtype: int64"
      ]
     },
     "execution_count": 132,
     "metadata": {},
     "output_type": "execute_result"
    }
   ],
   "source": [
    "df_ovr = chx.join(chy)\n",
    "df_ovr.shape\n",
    "df_ovr.Deal_Status_Code.value_counts()\n"
   ]
  },
  {
   "cell_type": "code",
   "execution_count": 133,
   "id": "631d3d12",
   "metadata": {},
   "outputs": [
    {
     "data": {
      "text/plain": [
       "(3784, 81)"
      ]
     },
     "execution_count": 133,
     "metadata": {},
     "output_type": "execute_result"
    }
   ],
   "source": [
    "#model3 \n",
    "Xtrain3,Xtest3,ytrain3,ytest3 = splitdata(df_ovr.drop('Deal_Cost',1),'Deal_Status_Code',0.3)\n",
    "\n",
    "Xtrain3.shape\n",
    "Xtest3.shape"
   ]
  },
  {
   "cell_type": "code",
   "execution_count": 134,
   "id": "5b50a789",
   "metadata": {},
   "outputs": [
    {
     "name": "stdout",
     "output_type": "stream",
     "text": [
      "Optimization terminated successfully.\n",
      "         Current function value: 0.560980\n",
      "         Iterations 6\n"
     ]
    },
    {
     "data": {
      "text/html": [
       "<table class=\"simpletable\">\n",
       "<caption>Logit Regression Results</caption>\n",
       "<tr>\n",
       "  <th>Dep. Variable:</th>   <td>Deal_Status_Code</td> <th>  No. Observations:  </th>  <td>  8828</td> \n",
       "</tr>\n",
       "<tr>\n",
       "  <th>Model:</th>                 <td>Logit</td>      <th>  Df Residuals:      </th>  <td>  8747</td> \n",
       "</tr>\n",
       "<tr>\n",
       "  <th>Method:</th>                 <td>MLE</td>       <th>  Df Model:          </th>  <td>    80</td> \n",
       "</tr>\n",
       "<tr>\n",
       "  <th>Date:</th>            <td>Tue, 05 Oct 2021</td> <th>  Pseudo R-squ.:     </th>  <td>0.1906</td> \n",
       "</tr>\n",
       "<tr>\n",
       "  <th>Time:</th>                <td>15:34:13</td>     <th>  Log-Likelihood:    </th> <td> -4952.3</td>\n",
       "</tr>\n",
       "<tr>\n",
       "  <th>converged:</th>             <td>True</td>       <th>  LL-Null:           </th> <td> -6118.6</td>\n",
       "</tr>\n",
       "<tr>\n",
       "  <th>Covariance Type:</th>     <td>nonrobust</td>    <th>  LLR p-value:       </th>  <td> 0.000</td> \n",
       "</tr>\n",
       "</table>\n",
       "<table class=\"simpletable\">\n",
       "<tr>\n",
       "                    <td></td>                       <th>coef</th>     <th>std err</th>      <th>z</th>      <th>P>|z|</th>  <th>[0.025</th>    <th>0.975]</th>  \n",
       "</tr>\n",
       "<tr>\n",
       "  <th>deal_year</th>                             <td>    0.3784</td> <td>    0.013</td> <td>   28.665</td> <td> 0.000</td> <td>    0.353</td> <td>    0.404</td>\n",
       "</tr>\n",
       "<tr>\n",
       "  <th>Molly Eakes</th>                           <td>   -1.5017</td> <td>    0.174</td> <td>   -8.636</td> <td> 0.000</td> <td>   -1.843</td> <td>   -1.161</td>\n",
       "</tr>\n",
       "<tr>\n",
       "  <th>Rudraksh Sharma</th>                       <td>   -0.3713</td> <td>    0.196</td> <td>   -1.898</td> <td> 0.058</td> <td>   -0.755</td> <td>    0.012</td>\n",
       "</tr>\n",
       "<tr>\n",
       "  <th>Desmond Krout</th>                         <td>   -0.9703</td> <td>    0.226</td> <td>   -4.293</td> <td> 0.000</td> <td>   -1.413</td> <td>   -0.527</td>\n",
       "</tr>\n",
       "<tr>\n",
       "  <th>Gayle Molter</th>                          <td>   -0.3983</td> <td>    0.231</td> <td>   -1.722</td> <td> 0.085</td> <td>   -0.852</td> <td>    0.055</td>\n",
       "</tr>\n",
       "<tr>\n",
       "  <th>Manpreet Singh</th>                        <td>    0.3155</td> <td>    0.214</td> <td>    1.473</td> <td> 0.141</td> <td>   -0.104</td> <td>    0.736</td>\n",
       "</tr>\n",
       "<tr>\n",
       "  <th>Rosana Yokum</th>                          <td>    0.7907</td> <td>    0.208</td> <td>    3.793</td> <td> 0.000</td> <td>    0.382</td> <td>    1.199</td>\n",
       "</tr>\n",
       "<tr>\n",
       "  <th>Rayford Durgan</th>                        <td>    0.0005</td> <td>    0.220</td> <td>    0.002</td> <td> 0.998</td> <td>   -0.431</td> <td>    0.432</td>\n",
       "</tr>\n",
       "<tr>\n",
       "  <th>Manish Saundriyal</th>                     <td>   -0.3851</td> <td>    0.262</td> <td>   -1.471</td> <td> 0.141</td> <td>   -0.898</td> <td>    0.128</td>\n",
       "</tr>\n",
       "<tr>\n",
       "  <th>Jewell Tunstall</th>                       <td>   -0.3759</td> <td>    0.261</td> <td>   -1.442</td> <td> 0.149</td> <td>   -0.887</td> <td>    0.135</td>\n",
       "</tr>\n",
       "<tr>\n",
       "  <th>Hardeep Suksma</th>                        <td>    0.2227</td> <td>    0.198</td> <td>    1.125</td> <td> 0.261</td> <td>   -0.165</td> <td>    0.611</td>\n",
       "</tr>\n",
       "<tr>\n",
       "  <th>ram kumar</th>                             <td>   -0.8159</td> <td>    0.275</td> <td>   -2.965</td> <td> 0.003</td> <td>   -1.355</td> <td>   -0.277</td>\n",
       "</tr>\n",
       "<tr>\n",
       "  <th>Rahul Kocher</th>                          <td>    0.1093</td> <td>    0.223</td> <td>    0.490</td> <td> 0.624</td> <td>   -0.328</td> <td>    0.547</td>\n",
       "</tr>\n",
       "<tr>\n",
       "  <th>Russell Dahlen</th>                        <td>    0.2899</td> <td>    0.244</td> <td>    1.190</td> <td> 0.234</td> <td>   -0.187</td> <td>    0.767</td>\n",
       "</tr>\n",
       "<tr>\n",
       "  <th>Marcella Mo</th>                           <td>   -0.8238</td> <td>    0.258</td> <td>   -3.188</td> <td> 0.001</td> <td>   -1.330</td> <td>   -0.317</td>\n",
       "</tr>\n",
       "<tr>\n",
       "  <th>Mervin Harwood</th>                        <td>   -0.8371</td> <td>    0.115</td> <td>   -7.300</td> <td> 0.000</td> <td>   -1.062</td> <td>   -0.612</td>\n",
       "</tr>\n",
       "<tr>\n",
       "  <th>Ankita Aggarwal</th>                       <td>   -0.9951</td> <td>    0.124</td> <td>   -8.028</td> <td> 0.000</td> <td>   -1.238</td> <td>   -0.752</td>\n",
       "</tr>\n",
       "<tr>\n",
       "  <th>Sargar Deep Rao</th>                       <td>   -1.1097</td> <td>    0.117</td> <td>   -9.492</td> <td> 0.000</td> <td>   -1.339</td> <td>   -0.881</td>\n",
       "</tr>\n",
       "<tr>\n",
       "  <th>Long Bergstrom</th>                        <td>   -0.6044</td> <td>    0.117</td> <td>   -5.152</td> <td> 0.000</td> <td>   -0.834</td> <td>   -0.374</td>\n",
       "</tr>\n",
       "<tr>\n",
       "  <th>Mangesh K. Singh</th>                      <td>   -1.3459</td> <td>    0.125</td> <td>  -10.801</td> <td> 0.000</td> <td>   -1.590</td> <td>   -1.102</td>\n",
       "</tr>\n",
       "<tr>\n",
       "  <th>Rosanna Maynez</th>                        <td>   -1.5758</td> <td>    0.137</td> <td>  -11.532</td> <td> 0.000</td> <td>   -1.844</td> <td>   -1.308</td>\n",
       "</tr>\n",
       "<tr>\n",
       "  <th>Ekta Zutshi</th>                           <td>   -0.6218</td> <td>    0.142</td> <td>   -4.375</td> <td> 0.000</td> <td>   -0.900</td> <td>   -0.343</td>\n",
       "</tr>\n",
       "<tr>\n",
       "  <th>Rahul Bajpai</th>                          <td>   -0.6219</td> <td>    0.155</td> <td>   -4.018</td> <td> 0.000</td> <td>   -0.925</td> <td>   -0.319</td>\n",
       "</tr>\n",
       "<tr>\n",
       "  <th>neeraj kumar</th>                          <td>   -0.5944</td> <td>    0.149</td> <td>   -3.992</td> <td> 0.000</td> <td>   -0.886</td> <td>   -0.303</td>\n",
       "</tr>\n",
       "<tr>\n",
       "  <th>Son Mcconnaughy</th>                       <td>   -0.5188</td> <td>    0.209</td> <td>   -2.478</td> <td> 0.013</td> <td>   -0.929</td> <td>   -0.108</td>\n",
       "</tr>\n",
       "<tr>\n",
       "  <th>som dutt</th>                              <td>   -1.1021</td> <td>    0.194</td> <td>   -5.671</td> <td> 0.000</td> <td>   -1.483</td> <td>   -0.721</td>\n",
       "</tr>\n",
       "<tr>\n",
       "  <th>Brendon Wycoff</th>                        <td>   -1.1682</td> <td>    0.221</td> <td>   -5.281</td> <td> 0.000</td> <td>   -1.602</td> <td>   -0.735</td>\n",
       "</tr>\n",
       "<tr>\n",
       "  <th>Clinton Mani</th>                          <td>   -0.3550</td> <td>    0.219</td> <td>   -1.619</td> <td> 0.105</td> <td>   -0.785</td> <td>    0.075</td>\n",
       "</tr>\n",
       "<tr>\n",
       "  <th>Client_Category_Consulting</th>            <td>   -0.9822</td> <td>    0.177</td> <td>   -5.547</td> <td> 0.000</td> <td>   -1.329</td> <td>   -0.635</td>\n",
       "</tr>\n",
       "<tr>\n",
       "  <th>Client_Category_Consumer Good</th>         <td>   -0.3642</td> <td>    0.241</td> <td>   -1.513</td> <td> 0.130</td> <td>   -0.836</td> <td>    0.108</td>\n",
       "</tr>\n",
       "<tr>\n",
       "  <th>Client_Category_Domestic Bank</th>         <td>   -0.9772</td> <td>    0.276</td> <td>   -3.535</td> <td> 0.000</td> <td>   -1.519</td> <td>   -0.435</td>\n",
       "</tr>\n",
       "<tr>\n",
       "  <th>Client_Category_Domestic Private Bank</th> <td>   -1.0267</td> <td>    0.216</td> <td>   -4.762</td> <td> 0.000</td> <td>   -1.449</td> <td>   -0.604</td>\n",
       "</tr>\n",
       "<tr>\n",
       "  <th>Client_Category_Domestic Public Bank</th>  <td>   -1.3886</td> <td>    0.206</td> <td>   -6.739</td> <td> 0.000</td> <td>   -1.792</td> <td>   -0.985</td>\n",
       "</tr>\n",
       "<tr>\n",
       "  <th>Client_Category_Finance</th>               <td>   -1.0022</td> <td>    0.184</td> <td>   -5.460</td> <td> 0.000</td> <td>   -1.362</td> <td>   -0.642</td>\n",
       "</tr>\n",
       "<tr>\n",
       "  <th>Client_Category_Infrastructure</th>        <td>   -0.2594</td> <td>    0.234</td> <td>   -1.106</td> <td> 0.269</td> <td>   -0.719</td> <td>    0.200</td>\n",
       "</tr>\n",
       "<tr>\n",
       "  <th>Client_Category_Insurance</th>             <td>   -1.1251</td> <td>    0.277</td> <td>   -4.055</td> <td> 0.000</td> <td>   -1.669</td> <td>   -0.581</td>\n",
       "</tr>\n",
       "<tr>\n",
       "  <th>Client_Category_Internal</th>              <td>    0.1714</td> <td>    0.129</td> <td>    1.331</td> <td> 0.183</td> <td>   -0.081</td> <td>    0.424</td>\n",
       "</tr>\n",
       "<tr>\n",
       "  <th>Client_Category_International Bank</th>    <td>   -0.8451</td> <td>    0.183</td> <td>   -4.611</td> <td> 0.000</td> <td>   -1.204</td> <td>   -0.486</td>\n",
       "</tr>\n",
       "<tr>\n",
       "  <th>Client_Category_Others</th>                <td>   -0.9596</td> <td>    0.100</td> <td>   -9.621</td> <td> 0.000</td> <td>   -1.155</td> <td>   -0.764</td>\n",
       "</tr>\n",
       "<tr>\n",
       "  <th>Client_Category_Power ind</th>             <td>   -0.7807</td> <td>    0.198</td> <td>   -3.944</td> <td> 0.000</td> <td>   -1.169</td> <td>   -0.393</td>\n",
       "</tr>\n",
       "<tr>\n",
       "  <th>Client_Category_Retail_market</th>         <td>   -2.0495</td> <td>    0.312</td> <td>   -6.578</td> <td> 0.000</td> <td>   -2.660</td> <td>   -1.439</td>\n",
       "</tr>\n",
       "<tr>\n",
       "  <th>Client_Category_Services_based</th>        <td>   -1.1743</td> <td>    0.124</td> <td>   -9.457</td> <td> 0.000</td> <td>   -1.418</td> <td>   -0.931</td>\n",
       "</tr>\n",
       "<tr>\n",
       "  <th>Client_Category_Tech</th>                  <td>   -1.1599</td> <td>    0.137</td> <td>   -8.483</td> <td> 0.000</td> <td>   -1.428</td> <td>   -0.892</td>\n",
       "</tr>\n",
       "<tr>\n",
       "  <th>Client_Category_Telecom</th>               <td>   -0.5326</td> <td>    0.216</td> <td>   -2.471</td> <td> 0.013</td> <td>   -0.955</td> <td>   -0.110</td>\n",
       "</tr>\n",
       "<tr>\n",
       "  <th>Solution_Type_Solution 10</th>             <td>   -0.4783</td> <td>    0.113</td> <td>   -4.237</td> <td> 0.000</td> <td>   -0.700</td> <td>   -0.257</td>\n",
       "</tr>\n",
       "<tr>\n",
       "  <th>Solution_Type_Solution 12</th>             <td>   -1.0474</td> <td>    0.156</td> <td>   -6.719</td> <td> 0.000</td> <td>   -1.353</td> <td>   -0.742</td>\n",
       "</tr>\n",
       "<tr>\n",
       "  <th>Solution_Type_Solution 13</th>             <td>   -1.0065</td> <td>    0.170</td> <td>   -5.930</td> <td> 0.000</td> <td>   -1.339</td> <td>   -0.674</td>\n",
       "</tr>\n",
       "<tr>\n",
       "  <th>Solution_Type_Solution 28</th>             <td>   -0.9858</td> <td>    0.225</td> <td>   -4.373</td> <td> 0.000</td> <td>   -1.428</td> <td>   -0.544</td>\n",
       "</tr>\n",
       "<tr>\n",
       "  <th>Solution_Type_Solution 29</th>             <td>   -0.3671</td> <td>    0.165</td> <td>   -2.227</td> <td> 0.026</td> <td>   -0.690</td> <td>   -0.044</td>\n",
       "</tr>\n",
       "<tr>\n",
       "  <th>Solution_Type_Solution 31</th>             <td>   -1.0231</td> <td>    0.185</td> <td>   -5.540</td> <td> 0.000</td> <td>   -1.385</td> <td>   -0.661</td>\n",
       "</tr>\n",
       "<tr>\n",
       "  <th>Solution_Type_Solution 32</th>             <td>    0.4889</td> <td>    0.110</td> <td>    4.464</td> <td> 0.000</td> <td>    0.274</td> <td>    0.704</td>\n",
       "</tr>\n",
       "<tr>\n",
       "  <th>Solution_Type_Solution 37</th>             <td>   -0.5021</td> <td>    0.135</td> <td>   -3.715</td> <td> 0.000</td> <td>   -0.767</td> <td>   -0.237</td>\n",
       "</tr>\n",
       "<tr>\n",
       "  <th>Solution_Type_Solution 39</th>             <td>   -0.1267</td> <td>    0.124</td> <td>   -1.022</td> <td> 0.307</td> <td>   -0.370</td> <td>    0.116</td>\n",
       "</tr>\n",
       "<tr>\n",
       "  <th>Solution_Type_Solution 4</th>              <td>    0.2615</td> <td>    0.168</td> <td>    1.559</td> <td> 0.119</td> <td>   -0.067</td> <td>    0.590</td>\n",
       "</tr>\n",
       "<tr>\n",
       "  <th>Solution_Type_Solution 59</th>             <td>   -1.1549</td> <td>    0.142</td> <td>   -8.141</td> <td> 0.000</td> <td>   -1.433</td> <td>   -0.877</td>\n",
       "</tr>\n",
       "<tr>\n",
       "  <th>Solution_Type_Solution 6</th>              <td>   -0.6445</td> <td>    0.160</td> <td>   -4.030</td> <td> 0.000</td> <td>   -0.958</td> <td>   -0.331</td>\n",
       "</tr>\n",
       "<tr>\n",
       "  <th>Solution_Type_Solution 67</th>             <td>   -0.7787</td> <td>    0.151</td> <td>   -5.164</td> <td> 0.000</td> <td>   -1.074</td> <td>   -0.483</td>\n",
       "</tr>\n",
       "<tr>\n",
       "  <th>Solution_Type_Solution 8</th>              <td>   -0.0934</td> <td>    0.152</td> <td>   -0.615</td> <td> 0.539</td> <td>   -0.391</td> <td>    0.204</td>\n",
       "</tr>\n",
       "<tr>\n",
       "  <th>Solution_Type_Solution 9</th>              <td>   -0.8407</td> <td>    0.097</td> <td>   -8.693</td> <td> 0.000</td> <td>   -1.030</td> <td>   -0.651</td>\n",
       "</tr>\n",
       "<tr>\n",
       "  <th>Sector_Sector 1</th>                       <td>   -0.6147</td> <td>    0.193</td> <td>   -3.190</td> <td> 0.001</td> <td>   -0.992</td> <td>   -0.237</td>\n",
       "</tr>\n",
       "<tr>\n",
       "  <th>Sector_Sector 12</th>                      <td>   -0.1587</td> <td>    0.154</td> <td>   -1.032</td> <td> 0.302</td> <td>   -0.460</td> <td>    0.143</td>\n",
       "</tr>\n",
       "<tr>\n",
       "  <th>Sector_Sector 13</th>                      <td>   -1.1623</td> <td>    0.274</td> <td>   -4.245</td> <td> 0.000</td> <td>   -1.699</td> <td>   -0.626</td>\n",
       "</tr>\n",
       "<tr>\n",
       "  <th>Sector_Sector 15</th>                      <td>    0.2706</td> <td>    0.153</td> <td>    1.770</td> <td> 0.077</td> <td>   -0.029</td> <td>    0.570</td>\n",
       "</tr>\n",
       "<tr>\n",
       "  <th>Sector_Sector 16</th>                      <td>   -0.0449</td> <td>    0.206</td> <td>   -0.217</td> <td> 0.828</td> <td>   -0.449</td> <td>    0.360</td>\n",
       "</tr>\n",
       "<tr>\n",
       "  <th>Sector_Sector 17</th>                      <td>    0.3208</td> <td>    0.150</td> <td>    2.144</td> <td> 0.032</td> <td>    0.028</td> <td>    0.614</td>\n",
       "</tr>\n",
       "<tr>\n",
       "  <th>Sector_Sector 18</th>                      <td>   -0.1652</td> <td>    0.189</td> <td>   -0.875</td> <td> 0.382</td> <td>   -0.535</td> <td>    0.205</td>\n",
       "</tr>\n",
       "<tr>\n",
       "  <th>Sector_Sector 19</th>                      <td>    0.4118</td> <td>    0.236</td> <td>    1.745</td> <td> 0.081</td> <td>   -0.051</td> <td>    0.874</td>\n",
       "</tr>\n",
       "<tr>\n",
       "  <th>Sector_Sector 2</th>                       <td>   -0.0024</td> <td>    0.122</td> <td>   -0.020</td> <td> 0.984</td> <td>   -0.241</td> <td>    0.236</td>\n",
       "</tr>\n",
       "<tr>\n",
       "  <th>Sector_Sector 20</th>                      <td>    0.2731</td> <td>    0.148</td> <td>    1.846</td> <td> 0.065</td> <td>   -0.017</td> <td>    0.563</td>\n",
       "</tr>\n",
       "<tr>\n",
       "  <th>Sector_Sector 22</th>                      <td>    0.0733</td> <td>    0.249</td> <td>    0.294</td> <td> 0.769</td> <td>   -0.415</td> <td>    0.562</td>\n",
       "</tr>\n",
       "<tr>\n",
       "  <th>Sector_Sector 23</th>                      <td>    0.0117</td> <td>    0.103</td> <td>    0.114</td> <td> 0.909</td> <td>   -0.190</td> <td>    0.214</td>\n",
       "</tr>\n",
       "<tr>\n",
       "  <th>Sector_Sector 24</th>                      <td>   -0.3616</td> <td>    0.168</td> <td>   -2.146</td> <td> 0.032</td> <td>   -0.692</td> <td>   -0.031</td>\n",
       "</tr>\n",
       "<tr>\n",
       "  <th>Sector_Sector 25</th>                      <td>   -0.0773</td> <td>    0.182</td> <td>   -0.424</td> <td> 0.671</td> <td>   -0.434</td> <td>    0.280</td>\n",
       "</tr>\n",
       "<tr>\n",
       "  <th>Sector_Sector 9</th>                       <td>    0.2365</td> <td>    0.167</td> <td>    1.417</td> <td> 0.156</td> <td>   -0.091</td> <td>    0.564</td>\n",
       "</tr>\n",
       "<tr>\n",
       "  <th>Location_L10</th>                          <td>   -0.5507</td> <td>    0.085</td> <td>   -6.511</td> <td> 0.000</td> <td>   -0.716</td> <td>   -0.385</td>\n",
       "</tr>\n",
       "<tr>\n",
       "  <th>Location_L11</th>                          <td>   -0.6198</td> <td>    0.175</td> <td>   -3.545</td> <td> 0.000</td> <td>   -0.963</td> <td>   -0.277</td>\n",
       "</tr>\n",
       "<tr>\n",
       "  <th>Location_L12</th>                          <td>   -1.1343</td> <td>    0.194</td> <td>   -5.852</td> <td> 0.000</td> <td>   -1.514</td> <td>   -0.754</td>\n",
       "</tr>\n",
       "<tr>\n",
       "  <th>Location_L3</th>                           <td>   -0.6064</td> <td>    0.148</td> <td>   -4.104</td> <td> 0.000</td> <td>   -0.896</td> <td>   -0.317</td>\n",
       "</tr>\n",
       "<tr>\n",
       "  <th>Location_L5</th>                           <td>   -0.1771</td> <td>    0.090</td> <td>   -1.965</td> <td> 0.049</td> <td>   -0.354</td> <td>   -0.000</td>\n",
       "</tr>\n",
       "<tr>\n",
       "  <th>Location_L9</th>                           <td>   -1.2531</td> <td>    0.235</td> <td>   -5.325</td> <td> 0.000</td> <td>   -1.714</td> <td>   -0.792</td>\n",
       "</tr>\n",
       "<tr>\n",
       "  <th>Location_Others</th>                       <td>   -0.6205</td> <td>    0.114</td> <td>   -5.430</td> <td> 0.000</td> <td>   -0.844</td> <td>   -0.397</td>\n",
       "</tr>\n",
       "</table>"
      ],
      "text/plain": [
       "<class 'statsmodels.iolib.summary.Summary'>\n",
       "\"\"\"\n",
       "                           Logit Regression Results                           \n",
       "==============================================================================\n",
       "Dep. Variable:       Deal_Status_Code   No. Observations:                 8828\n",
       "Model:                          Logit   Df Residuals:                     8747\n",
       "Method:                           MLE   Df Model:                           80\n",
       "Date:                Tue, 05 Oct 2021   Pseudo R-squ.:                  0.1906\n",
       "Time:                        15:34:13   Log-Likelihood:                -4952.3\n",
       "converged:                       True   LL-Null:                       -6118.6\n",
       "Covariance Type:            nonrobust   LLR p-value:                     0.000\n",
       "=========================================================================================================\n",
       "                                            coef    std err          z      P>|z|      [0.025      0.975]\n",
       "---------------------------------------------------------------------------------------------------------\n",
       "deal_year                                 0.3784      0.013     28.665      0.000       0.353       0.404\n",
       "Molly Eakes                              -1.5017      0.174     -8.636      0.000      -1.843      -1.161\n",
       "Rudraksh Sharma                          -0.3713      0.196     -1.898      0.058      -0.755       0.012\n",
       "Desmond Krout                            -0.9703      0.226     -4.293      0.000      -1.413      -0.527\n",
       "Gayle Molter                             -0.3983      0.231     -1.722      0.085      -0.852       0.055\n",
       "Manpreet Singh                            0.3155      0.214      1.473      0.141      -0.104       0.736\n",
       "Rosana Yokum                              0.7907      0.208      3.793      0.000       0.382       1.199\n",
       "Rayford Durgan                            0.0005      0.220      0.002      0.998      -0.431       0.432\n",
       "Manish Saundriyal                        -0.3851      0.262     -1.471      0.141      -0.898       0.128\n",
       "Jewell Tunstall                          -0.3759      0.261     -1.442      0.149      -0.887       0.135\n",
       "Hardeep Suksma                            0.2227      0.198      1.125      0.261      -0.165       0.611\n",
       "ram kumar                                -0.8159      0.275     -2.965      0.003      -1.355      -0.277\n",
       "Rahul Kocher                              0.1093      0.223      0.490      0.624      -0.328       0.547\n",
       "Russell Dahlen                            0.2899      0.244      1.190      0.234      -0.187       0.767\n",
       "Marcella Mo                              -0.8238      0.258     -3.188      0.001      -1.330      -0.317\n",
       "Mervin Harwood                           -0.8371      0.115     -7.300      0.000      -1.062      -0.612\n",
       "Ankita Aggarwal                          -0.9951      0.124     -8.028      0.000      -1.238      -0.752\n",
       "Sargar Deep Rao                          -1.1097      0.117     -9.492      0.000      -1.339      -0.881\n",
       "Long Bergstrom                           -0.6044      0.117     -5.152      0.000      -0.834      -0.374\n",
       "Mangesh K. Singh                         -1.3459      0.125    -10.801      0.000      -1.590      -1.102\n",
       "Rosanna Maynez                           -1.5758      0.137    -11.532      0.000      -1.844      -1.308\n",
       "Ekta Zutshi                              -0.6218      0.142     -4.375      0.000      -0.900      -0.343\n",
       "Rahul Bajpai                             -0.6219      0.155     -4.018      0.000      -0.925      -0.319\n",
       "neeraj kumar                             -0.5944      0.149     -3.992      0.000      -0.886      -0.303\n",
       "Son Mcconnaughy                          -0.5188      0.209     -2.478      0.013      -0.929      -0.108\n",
       "som dutt                                 -1.1021      0.194     -5.671      0.000      -1.483      -0.721\n",
       "Brendon Wycoff                           -1.1682      0.221     -5.281      0.000      -1.602      -0.735\n",
       "Clinton Mani                             -0.3550      0.219     -1.619      0.105      -0.785       0.075\n",
       "Client_Category_Consulting               -0.9822      0.177     -5.547      0.000      -1.329      -0.635\n",
       "Client_Category_Consumer Good            -0.3642      0.241     -1.513      0.130      -0.836       0.108\n",
       "Client_Category_Domestic Bank            -0.9772      0.276     -3.535      0.000      -1.519      -0.435\n",
       "Client_Category_Domestic Private Bank    -1.0267      0.216     -4.762      0.000      -1.449      -0.604\n",
       "Client_Category_Domestic Public Bank     -1.3886      0.206     -6.739      0.000      -1.792      -0.985\n",
       "Client_Category_Finance                  -1.0022      0.184     -5.460      0.000      -1.362      -0.642\n",
       "Client_Category_Infrastructure           -0.2594      0.234     -1.106      0.269      -0.719       0.200\n",
       "Client_Category_Insurance                -1.1251      0.277     -4.055      0.000      -1.669      -0.581\n",
       "Client_Category_Internal                  0.1714      0.129      1.331      0.183      -0.081       0.424\n",
       "Client_Category_International Bank       -0.8451      0.183     -4.611      0.000      -1.204      -0.486\n",
       "Client_Category_Others                   -0.9596      0.100     -9.621      0.000      -1.155      -0.764\n",
       "Client_Category_Power ind                -0.7807      0.198     -3.944      0.000      -1.169      -0.393\n",
       "Client_Category_Retail_market            -2.0495      0.312     -6.578      0.000      -2.660      -1.439\n",
       "Client_Category_Services_based           -1.1743      0.124     -9.457      0.000      -1.418      -0.931\n",
       "Client_Category_Tech                     -1.1599      0.137     -8.483      0.000      -1.428      -0.892\n",
       "Client_Category_Telecom                  -0.5326      0.216     -2.471      0.013      -0.955      -0.110\n",
       "Solution_Type_Solution 10                -0.4783      0.113     -4.237      0.000      -0.700      -0.257\n",
       "Solution_Type_Solution 12                -1.0474      0.156     -6.719      0.000      -1.353      -0.742\n",
       "Solution_Type_Solution 13                -1.0065      0.170     -5.930      0.000      -1.339      -0.674\n",
       "Solution_Type_Solution 28                -0.9858      0.225     -4.373      0.000      -1.428      -0.544\n",
       "Solution_Type_Solution 29                -0.3671      0.165     -2.227      0.026      -0.690      -0.044\n",
       "Solution_Type_Solution 31                -1.0231      0.185     -5.540      0.000      -1.385      -0.661\n",
       "Solution_Type_Solution 32                 0.4889      0.110      4.464      0.000       0.274       0.704\n",
       "Solution_Type_Solution 37                -0.5021      0.135     -3.715      0.000      -0.767      -0.237\n",
       "Solution_Type_Solution 39                -0.1267      0.124     -1.022      0.307      -0.370       0.116\n",
       "Solution_Type_Solution 4                  0.2615      0.168      1.559      0.119      -0.067       0.590\n",
       "Solution_Type_Solution 59                -1.1549      0.142     -8.141      0.000      -1.433      -0.877\n",
       "Solution_Type_Solution 6                 -0.6445      0.160     -4.030      0.000      -0.958      -0.331\n",
       "Solution_Type_Solution 67                -0.7787      0.151     -5.164      0.000      -1.074      -0.483\n",
       "Solution_Type_Solution 8                 -0.0934      0.152     -0.615      0.539      -0.391       0.204\n",
       "Solution_Type_Solution 9                 -0.8407      0.097     -8.693      0.000      -1.030      -0.651\n",
       "Sector_Sector 1                          -0.6147      0.193     -3.190      0.001      -0.992      -0.237\n",
       "Sector_Sector 12                         -0.1587      0.154     -1.032      0.302      -0.460       0.143\n",
       "Sector_Sector 13                         -1.1623      0.274     -4.245      0.000      -1.699      -0.626\n",
       "Sector_Sector 15                          0.2706      0.153      1.770      0.077      -0.029       0.570\n",
       "Sector_Sector 16                         -0.0449      0.206     -0.217      0.828      -0.449       0.360\n",
       "Sector_Sector 17                          0.3208      0.150      2.144      0.032       0.028       0.614\n",
       "Sector_Sector 18                         -0.1652      0.189     -0.875      0.382      -0.535       0.205\n",
       "Sector_Sector 19                          0.4118      0.236      1.745      0.081      -0.051       0.874\n",
       "Sector_Sector 2                          -0.0024      0.122     -0.020      0.984      -0.241       0.236\n",
       "Sector_Sector 20                          0.2731      0.148      1.846      0.065      -0.017       0.563\n",
       "Sector_Sector 22                          0.0733      0.249      0.294      0.769      -0.415       0.562\n",
       "Sector_Sector 23                          0.0117      0.103      0.114      0.909      -0.190       0.214\n",
       "Sector_Sector 24                         -0.3616      0.168     -2.146      0.032      -0.692      -0.031\n",
       "Sector_Sector 25                         -0.0773      0.182     -0.424      0.671      -0.434       0.280\n",
       "Sector_Sector 9                           0.2365      0.167      1.417      0.156      -0.091       0.564\n",
       "Location_L10                             -0.5507      0.085     -6.511      0.000      -0.716      -0.385\n",
       "Location_L11                             -0.6198      0.175     -3.545      0.000      -0.963      -0.277\n",
       "Location_L12                             -1.1343      0.194     -5.852      0.000      -1.514      -0.754\n",
       "Location_L3                              -0.6064      0.148     -4.104      0.000      -0.896      -0.317\n",
       "Location_L5                              -0.1771      0.090     -1.965      0.049      -0.354      -0.000\n",
       "Location_L9                              -1.2531      0.235     -5.325      0.000      -1.714      -0.792\n",
       "Location_Others                          -0.6205      0.114     -5.430      0.000      -0.844      -0.397\n",
       "=========================================================================================================\n",
       "\"\"\""
      ]
     },
     "execution_count": 134,
     "metadata": {},
     "output_type": "execute_result"
    }
   ],
   "source": [
    "ovr_lr1 = buildmodel(Xtrain3, ytrain3)\n",
    "ovr_lr1.summary()"
   ]
  },
  {
   "cell_type": "code",
   "execution_count": 135,
   "id": "25240f76",
   "metadata": {},
   "outputs": [
    {
     "name": "stdout",
     "output_type": "stream",
     "text": [
      "predicted     0     1   All\n",
      "actual                     \n",
      "0          1210   731  1941\n",
      "1           471  1372  1843\n",
      "All        1681  2103  3784\n",
      "              precision    recall  f1-score   support\n",
      "\n",
      "           0       0.72      0.62      0.67      1941\n",
      "           1       0.65      0.74      0.70      1843\n",
      "\n",
      "    accuracy                           0.68      3784\n",
      "   macro avg       0.69      0.68      0.68      3784\n",
      "weighted avg       0.69      0.68      0.68      3784\n",
      "\n"
     ]
    },
    {
     "data": {
      "image/png": "[encoded data removed]",
      "text/plain": [
       "<Figure size 432x288 with 1 Axes>"
      ]
     },
     "metadata": {
      "needs_background": "light"
     },
     "output_type": "display_data"
    }
   ],
   "source": [
    "p3 = ovr_lr1.predict(Xtest3)\n",
    "p3= predToClass(p3, 0.4)\n",
    "cm_auc(ytest3,p3)\n"
   ]
  },
  {
   "cell_type": "code",
   "execution_count": 136,
   "id": "48fdde36",
   "metadata": {},
   "outputs": [
    {
     "name": "stdout",
     "output_type": "stream",
     "text": [
      "      Algorithm ModelName  0%  1%  acc %    AUC\n",
      "0     Log Reg 1     lr_m1  65  62     64  63.18\n",
      "1  Linear Reg 2     lr_m2  62  62     62  62.10\n",
      "2  LR_ovrSample   ovr_lr1  62  74     69  68.39\n"
     ]
    }
   ],
   "source": [
    "#model summary\n",
    "Model_dict = {'Algorithm':'LR_ovrSample','ModelName':'ovr_lr1','0%':62,'1%':74,'acc %':69,'AUC':68.39}\n",
    "model_summary= model_summary.append(Model_dict,ignore_index=True)\n",
    "print(model_summary)"
   ]
  },
  {
   "cell_type": "markdown",
   "id": "3f16a111",
   "metadata": {},
   "source": [
    "## Decision Tree"
   ]
  },
  {
   "cell_type": "markdown",
   "id": "7dcf9ead",
   "metadata": {},
   "source": [
    "### keeping only top managers and VP based on the count and converting rest value to Others: required  for label encoding"
   ]
  },
  {
   "cell_type": "code",
   "execution_count": 137,
   "id": "940b6ad9",
   "metadata": {},
   "outputs": [],
   "source": [
    "bottom_man = [x for x in df1['Manager_Name'].value_counts().sort_values(ascending=False).tail(278-15).index]\n",
    "\n",
    "len(bottom_man)\n",
    "\n",
    "for label in bottom_man:\n",
    "    df1['Manager_Name'] = df1['Manager_Name'].replace(label,'Others')\n",
    "   "
   ]
  },
  {
   "cell_type": "code",
   "execution_count": 138,
   "id": "f1cbbe9e",
   "metadata": {},
   "outputs": [],
   "source": [
    "bottom_vp = [x for x in df1['VP_Name'].value_counts().sort_values(ascending=False).tail(43-15).index ]\n",
    " \n",
    "for vp in bottom_vp:\n",
    "    df1['VP_Name'] = df1['VP_Name'].replace(vp,'Others')\n"
   ]
  },
  {
   "cell_type": "code",
   "execution_count": 141,
   "id": "b0e9fbef",
   "metadata": {},
   "outputs": [
    {
     "data": {
      "text/plain": [
       "Others               7757\n",
       "Molly Eakes           323\n",
       "Rudraksh Sharma       270\n",
       "Desmond Krout         230\n",
       "Gayle Molter          186\n",
       "Manpreet Singh        181\n",
       "Rosana Yokum          180\n",
       "Rayford Durgan        170\n",
       "Manish Saundriyal     160\n",
       "Jewell Tunstall       159\n",
       "Hardeep Suksma        151\n",
       "ram kumar             149\n",
       "Rahul Kocher          145\n",
       "Name: Manager_Name, dtype: int64"
      ]
     },
     "execution_count": 141,
     "metadata": {},
     "output_type": "execute_result"
    }
   ],
   "source": [
    "df1['Manager_Name'].value_counts()"
   ]
  },
  {
   "cell_type": "code",
   "execution_count": 145,
   "id": "d30e20d7",
   "metadata": {},
   "outputs": [
    {
     "data": {
      "image/png": "[encoded data removed]",
      "text/plain": [
       "<Figure size 1224x648 with 1 Axes>"
      ]
     },
     "metadata": {
      "needs_background": "light"
     },
     "output_type": "display_data"
    }
   ],
   "source": [
    "cs_manager1 = vs_dealstatus(data=df1,x='Manager_Name')"
   ]
  },
  {
   "cell_type": "code",
   "execution_count": 142,
   "id": "3eb30bfb",
   "metadata": {},
   "outputs": [
    {
     "data": {
      "text/plain": [
       "Others              2197\n",
       "Mervin Harwood      1166\n",
       "Ankita Aggarwal     1143\n",
       "Sargar Deep Rao      956\n",
       "Long Bergstrom       921\n",
       "Mangesh K. Singh     812\n",
       "Rosanna Maynez       662\n",
       "Ekta Zutshi          550\n",
       "Rahul Bajpai         523\n",
       "neeraj kumar         471\n",
       "Son Mcconnaughy      232\n",
       "som dutt             220\n",
       "Hardeep Suksma       208\n",
       "Name: VP_Name, dtype: int64"
      ]
     },
     "execution_count": 142,
     "metadata": {},
     "output_type": "execute_result"
    }
   ],
   "source": [
    "df1['VP_Name'].value_counts()"
   ]
  },
  {
   "cell_type": "code",
   "execution_count": 146,
   "id": "99e0fe1c",
   "metadata": {},
   "outputs": [
    {
     "data": {
      "image/png": "[encoded data removed]",
      "text/plain": [
       "<Figure size 1224x648 with 1 Axes>"
      ]
     },
     "metadata": {
      "needs_background": "light"
     },
     "output_type": "display_data"
    }
   ],
   "source": [
    "cs_vp1 = vs_dealstatus(data=df1,x='VP_Name')"
   ]
  },
  {
   "cell_type": "code",
   "execution_count": 147,
   "id": "653f56fd",
   "metadata": {},
   "outputs": [],
   "source": [
    "fc = df1.select_dtypes(include= 'object').columns.values"
   ]
  },
  {
   "cell_type": "markdown",
   "id": "42939027",
   "metadata": {},
   "source": [
    "#### Label encoding"
   ]
  },
  {
   "cell_type": "code",
   "execution_count": 148,
   "id": "521e3ead",
   "metadata": {},
   "outputs": [],
   "source": [
    "for feature in fc:\n",
    "    df1[feature] =  label_ecoder.fit_transform(df1[feature])\n"
   ]
  },
  {
   "cell_type": "markdown",
   "id": "42429626",
   "metadata": {},
   "source": [
    "## Model 4"
   ]
  },
  {
   "cell_type": "code",
   "execution_count": 149,
   "id": "f83169d9",
   "metadata": {},
   "outputs": [],
   "source": [
    "Xtrain5,Xtest5,ytrain5,ytest5 = splitdata(df1,'Deal_Status_Code',tst_size=0.2)"
   ]
  },
  {
   "cell_type": "code",
   "execution_count": 150,
   "id": "1b0d1297",
   "metadata": {},
   "outputs": [
    {
     "name": "stdout",
     "output_type": "stream",
     "text": [
      "predicted     0    1   All\n",
      "actual                    \n",
      "0          1157   95  1252\n",
      "1           306  455   761\n",
      "All        1463  550  2013\n",
      "              precision    recall  f1-score   support\n",
      "\n",
      "           0       0.79      0.92      0.85      1252\n",
      "           1       0.83      0.60      0.69       761\n",
      "\n",
      "    accuracy                           0.80      2013\n",
      "   macro avg       0.81      0.76      0.77      2013\n",
      "weighted avg       0.80      0.80      0.79      2013\n",
      "\n"
     ]
    },
    {
     "data": {
      "image/png": "[encoded data removed]",
      "text/plain": [
       "<Figure size 432x288 with 1 Axes>"
      ]
     },
     "metadata": {
      "needs_background": "light"
     },
     "output_type": "display_data"
    }
   ],
   "source": [
    "dt_m1 = DecisionTreeClassifier(criterion ='gini').fit(Xtrain5,ytrain5)\n",
    "p5 = dt_m1.predict(Xtest5)\n",
    "cm_auc(ytest5,p5)"
   ]
  },
  {
   "cell_type": "code",
   "execution_count": 151,
   "id": "8edf6f62",
   "metadata": {},
   "outputs": [
    {
     "name": "stdout",
     "output_type": "stream",
     "text": [
      "      Algorithm ModelName  0%  1%  acc %    AUC\n",
      "0     Log Reg 1     lr_m1  65  62     64  63.18\n",
      "1  Linear Reg 2     lr_m2  62  62     62  62.10\n",
      "2  LR_ovrSample   ovr_lr1  62  74     69  68.39\n",
      "3       DT gini     dt_m1  92  60     80  76.10\n"
     ]
    }
   ],
   "source": [
    "#model summary\n",
    "Model_dict = {'Algorithm':'DT gini','ModelName':'dt_m1','0%':92,'1%':60,\n",
    "              'acc %':80,'AUC':76.10}\n",
    "model_summary= model_summary.append(Model_dict,ignore_index=True)\n",
    "print(model_summary)"
   ]
  },
  {
   "cell_type": "markdown",
   "id": "5b494bf2",
   "metadata": {},
   "source": [
    "### Tree prune"
   ]
  },
  {
   "cell_type": "code",
   "execution_count": 155,
   "id": "d5bc86ea",
   "metadata": {},
   "outputs": [
    {
     "data": {
      "text/plain": [
       "<matplotlib.legend.Legend at 0x16b3928f2e0>"
      ]
     },
     "execution_count": 155,
     "metadata": {},
     "output_type": "execute_result"
    },
    {
     "data": {
      "image/png": "[encoded data removed]",
      "text/plain": [
       "<Figure size 432x288 with 1 Axes>"
      ]
     },
     "metadata": {
      "needs_background": "light"
     },
     "output_type": "display_data"
    }
   ],
   "source": [
    "\n",
    "#Tree prune\n",
    "path = dt_m1.cost_complexity_pruning_path(Xtrain5, ytrain5)\n",
    "alphas , impurity = path.ccp_alphas,path.impurities\n",
    "\n",
    "clfs=[]\n",
    "\n",
    "alphas\n",
    "for a in alphas:\n",
    "    model = DecisionTreeClassifier(ccp_alpha=a).fit(Xtrain5, ytrain5)\n",
    "    clfs.append(model)\n",
    "\n",
    "trainscore = [clf.score(Xtrain5,ytrain5)for clf in clfs]\n",
    "testscore = [clf.score(Xtest5,ytest5)for clf in clfs]  \n",
    "\n",
    "\n",
    "fig,ax=plt.subplots()\n",
    "ax.plot(alphas,trainscore,marker='x',label='train',drawstyle=\"steps-post\")\n",
    "ax.plot(alphas,testscore,marker='x',label='test',drawstyle=\"steps-post\")\n",
    "ax.set_xlabel(\"Alphas\")\n",
    "ax.set_ylabel(\"accuracy\")\n",
    "ax.legend()\n"
   ]
  },
  {
   "cell_type": "markdown",
   "id": "f07a4c0f",
   "metadata": {},
   "source": [
    "#### selecting a range 0.0001 to 0.004 for ccp_alpa"
   ]
  },
  {
   "cell_type": "markdown",
   "id": "a4895a3e",
   "metadata": {},
   "source": [
    "### Hyper parameter"
   ]
  },
  {
   "cell_type": "code",
   "execution_count": 153,
   "id": "ce219bcd",
   "metadata": {},
   "outputs": [],
   "source": [
    "params = {'criterion':['gini','entropy'],\n",
    "          'max_depth':np.arange(17,50),\n",
    "          'min_samples_leaf':np.arange(1,10),\n",
    "          'max_features':np.arange(1,9),\n",
    "          'ccp_alpha':np.arange(0.0001,0.004)}\n",
    "\n",
    "#create a decision tree\n",
    "dtclf = DecisionTreeClassifier()"
   ]
  },
  {
   "cell_type": "code",
   "execution_count": 154,
   "id": "bcc0e8db",
   "metadata": {},
   "outputs": [],
   "source": [
    "grid = GridSearchCV(dtclf,param_grid=params,\n",
    "                    scoring='accuracy',cv=10,n_jobs=-1).fit(Xtrain5,ytrain5)\n"
   ]
  },
  {
   "cell_type": "code",
   "execution_count": 156,
   "id": "4b8cd5fd",
   "metadata": {},
   "outputs": [
    {
     "data": {
      "text/plain": [
       "0.791255214610179"
      ]
     },
     "execution_count": 156,
     "metadata": {},
     "output_type": "execute_result"
    }
   ],
   "source": [
    "bp = grid.best_params_\n",
    "grid.best_score_"
   ]
  },
  {
   "cell_type": "code",
   "execution_count": 157,
   "id": "fcc71dc9",
   "metadata": {},
   "outputs": [],
   "source": [
    "dt_m2 = DecisionTreeClassifier(criterion = bp['criterion'],max_depth=bp['max_depth'],\n",
    "                               min_samples_leaf=bp['min_samples_leaf'],\n",
    "                               max_features=bp['max_features'],ccp_alpha=bp['ccp_alpha']).fit(Xtrain5,ytrain5)\n"
   ]
  },
  {
   "cell_type": "code",
   "execution_count": 158,
   "id": "3ec1d490",
   "metadata": {},
   "outputs": [
    {
     "name": "stdout",
     "output_type": "stream",
     "text": [
      "predicted     0    1   All\n",
      "actual                    \n",
      "0          1126  126  1252\n",
      "1           288  473   761\n",
      "All        1414  599  2013\n",
      "              precision    recall  f1-score   support\n",
      "\n",
      "           0       0.80      0.90      0.84      1252\n",
      "           1       0.79      0.62      0.70       761\n",
      "\n",
      "    accuracy                           0.79      2013\n",
      "   macro avg       0.79      0.76      0.77      2013\n",
      "weighted avg       0.79      0.79      0.79      2013\n",
      "\n"
     ]
    },
    {
     "data": {
      "image/png": "[encoded data removed]",
      "text/plain": [
       "<Figure size 432x288 with 1 Axes>"
      ]
     },
     "metadata": {
      "needs_background": "light"
     },
     "output_type": "display_data"
    }
   ],
   "source": [
    "p6 = dt_m2.predict(Xtest5)\n",
    "cm_auc(ytest5,p6)"
   ]
  },
  {
   "cell_type": "code",
   "execution_count": 159,
   "id": "090a5296",
   "metadata": {},
   "outputs": [
    {
     "name": "stdout",
     "output_type": "stream",
     "text": [
      "      Algorithm ModelName  0%  1%  acc %    AUC\n",
      "0     Log Reg 1     lr_m1  65  62     64  63.18\n",
      "1  Linear Reg 2     lr_m2  62  62     62  62.10\n",
      "2  LR_ovrSample   ovr_lr1  62  74     69  68.39\n",
      "3       DT gini     dt_m1  92  60     80  76.10\n",
      "4        DT_hyp     dt_m2  90  62     79  76.04\n"
     ]
    }
   ],
   "source": [
    "#model summary\n",
    "Model_dict = {'Algorithm':'DT_hyp','ModelName':'dt_m2','0%':90,'1%':62,\n",
    "              'acc %':79,'AUC':76.04}\n",
    "model_summary= model_summary.append(Model_dict,ignore_index=True)\n",
    "print(model_summary)"
   ]
  },
  {
   "cell_type": "markdown",
   "id": "dfc1d126",
   "metadata": {},
   "source": [
    "## Random Forest"
   ]
  },
  {
   "cell_type": "code",
   "execution_count": 163,
   "id": "1fd4ee4c",
   "metadata": {},
   "outputs": [
    {
     "name": "stdout",
     "output_type": "stream",
     "text": [
      "predicted     0    1   All\n",
      "actual                    \n",
      "0          1190   62  1252\n",
      "1           328  433   761\n",
      "All        1518  495  2013\n",
      "              precision    recall  f1-score   support\n",
      "\n",
      "           0       0.78      0.95      0.86      1252\n",
      "           1       0.87      0.57      0.69       761\n",
      "\n",
      "    accuracy                           0.81      2013\n",
      "   macro avg       0.83      0.76      0.77      2013\n",
      "weighted avg       0.82      0.81      0.80      2013\n",
      "\n"
     ]
    },
    {
     "data": {
      "image/png": "[encoded data removed]",
      "text/plain": [
       "<Figure size 432x288 with 1 Axes>"
      ]
     },
     "metadata": {
      "needs_background": "light"
     },
     "output_type": "display_data"
    }
   ],
   "source": [
    "rf_m1 = RandomForestClassifier().fit(Xtrain5,ytrain5)\n",
    "p7 = rf_m1.predict(Xtest5)\n",
    "cm_auc(ytest5,p7)"
   ]
  },
  {
   "cell_type": "code",
   "execution_count": 164,
   "id": "15d0a8a4",
   "metadata": {},
   "outputs": [
    {
     "name": "stdout",
     "output_type": "stream",
     "text": [
      "      Algorithm ModelName  0%  1%  acc %    AUC\n",
      "0     Log Reg 1     lr_m1  65  62     64  63.18\n",
      "1  Linear Reg 2     lr_m2  62  62     62  62.10\n",
      "2  LR_ovrSample   ovr_lr1  62  74     69  68.39\n",
      "3       DT gini     dt_m1  92  60     80  76.10\n",
      "4        DT_hyp     dt_m2  90  62     79  76.04\n",
      "5  RandomForest     rf_m1  95  57     81  75.97\n"
     ]
    }
   ],
   "source": [
    "Model_dict = {'Algorithm':'RandomForest','ModelName':'rf_m1','0%':95,'1%':57,\n",
    "              'acc %':81,'AUC':75.97}\n",
    "model_summary= model_summary.append(Model_dict,ignore_index=True)\n",
    "print(model_summary)"
   ]
  },
  {
   "cell_type": "markdown",
   "id": "6cc32a55",
   "metadata": {},
   "source": [
    "## Random forests hyper paramter"
   ]
  },
  {
   "cell_type": "code",
   "execution_count": 176,
   "id": "f021e464",
   "metadata": {},
   "outputs": [],
   "source": [
    "params_rf= {'criterion':['gini','entropy'],\n",
    "          'n_estimators':np.arange(98,120)}\n",
    "\n",
    "rfclf = RandomForestClassifier()\n",
    "\n",
    "#import sklearn\n",
    "#sorted(sklearn.metrics.SCORERS.keys())\n",
    "\n",
    "grid = GridSearchCV(rfclf,param_grid=params_rf,scoring='balanced_accuracy',cv=10,n_jobs=-1).fit(Xtrain5,ytrain5)"
   ]
  },
  {
   "cell_type": "code",
   "execution_count": 177,
   "id": "80e6beaa",
   "metadata": {},
   "outputs": [
    {
     "data": {
      "text/plain": [
       "0.7542770415837571"
      ]
     },
     "execution_count": 177,
     "metadata": {},
     "output_type": "execute_result"
    }
   ],
   "source": [
    "bp = grid.best_params_\n",
    "grid.best_score_"
   ]
  },
  {
   "cell_type": "code",
   "execution_count": 178,
   "id": "827587df",
   "metadata": {},
   "outputs": [
    {
     "name": "stdout",
     "output_type": "stream",
     "text": [
      "predicted     0    1   All\n",
      "actual                    \n",
      "0          1183   69  1252\n",
      "1           323  438   761\n",
      "All        1506  507  2013\n",
      "              precision    recall  f1-score   support\n",
      "\n",
      "           0       0.79      0.94      0.86      1252\n",
      "           1       0.86      0.58      0.69       761\n",
      "\n",
      "    accuracy                           0.81      2013\n",
      "   macro avg       0.82      0.76      0.77      2013\n",
      "weighted avg       0.82      0.81      0.79      2013\n",
      "\n"
     ]
    },
    {
     "data": {
      "image/png": "[encoded data removed]",
      "text/plain": [
       "<Figure size 432x288 with 1 Axes>"
      ]
     },
     "metadata": {
      "needs_background": "light"
     },
     "output_type": "display_data"
    }
   ],
   "source": [
    "rf_m2 = RandomForestClassifier(criterion=bp['criterion'],n_estimators=bp['n_estimators']).fit(Xtrain5,ytrain5)\n",
    "p_rf = rf_m2.predict(Xtest5)\n",
    "cm_auc(ytest5,p_rf)\n"
   ]
  },
  {
   "cell_type": "code",
   "execution_count": 179,
   "id": "505ee537",
   "metadata": {},
   "outputs": [
    {
     "name": "stdout",
     "output_type": "stream",
     "text": [
      "      Algorithm ModelName  0%  1%  acc %    AUC\n",
      "0     Log Reg 1     lr_m1  65  62     64  63.18\n",
      "1  Linear Reg 2     lr_m2  62  62     62  62.10\n",
      "2  LR_ovrSample   ovr_lr1  62  74     69  68.39\n",
      "3       DT gini     dt_m1  92  60     80  76.10\n",
      "4        DT_hyp     dt_m2  90  62     79  76.04\n",
      "5  RandomForest     rf_m1  95  57     81  75.97\n",
      "6        RF_hyp     rf_m2  94  58     81  76.02\n"
     ]
    }
   ],
   "source": [
    "Model_dict = {'Algorithm':'RF_hyp','ModelName':'rf_m2','0%':94,'1%':58,\n",
    "              'acc %':81,'AUC':76.02}\n",
    "model_summary= model_summary.append(Model_dict,ignore_index=True)\n",
    "print(model_summary)"
   ]
  },
  {
   "cell_type": "code",
   "execution_count": 180,
   "id": "cae93389",
   "metadata": {},
   "outputs": [],
   "source": [
    "df2= df1.copy()"
   ]
  },
  {
   "cell_type": "markdown",
   "id": "b373e51c",
   "metadata": {},
   "source": [
    "### Perform oversampling and check balanced accuracy"
   ]
  },
  {
   "cell_type": "code",
   "execution_count": 181,
   "id": "9b76e8d3",
   "metadata": {},
   "outputs": [],
   "source": [
    "from imblearn.over_sampling import SMOTE\n",
    "sm1 = SMOTE()"
   ]
  },
  {
   "cell_type": "code",
   "execution_count": 182,
   "id": "42b385f3",
   "metadata": {},
   "outputs": [
    {
     "data": {
      "text/plain": [
       "(12612, 9)"
      ]
     },
     "execution_count": 182,
     "metadata": {},
     "output_type": "execute_result"
    }
   ],
   "source": [
    "chx1,chy1 = sm1.fit_resample(df1.drop('Deal_Status_Code',1),df1.Deal_Status_Code)\n",
    "\n",
    "# dataset for model 2\n",
    "df_ovr1 = chx1.join(chy1)\n",
    "df_ovr1.shape"
   ]
  },
  {
   "cell_type": "code",
   "execution_count": 183,
   "id": "d5aab68a",
   "metadata": {},
   "outputs": [],
   "source": [
    "#split data\n",
    "Xtrain6,Xtest6,ytrain6,ytest6 = splitdata(df_ovr1,'Deal_Status_Code',0.2)\n",
    "\n",
    "Xtrain6.shape,Xtest6.shape\n",
    "\n",
    "params_rf= {'criterion':['gini','entropy'],\n",
    "          'n_estimators':np.arange(98,120)}\n",
    "\n",
    "rfclf = RandomForestClassifier()"
   ]
  },
  {
   "cell_type": "code",
   "execution_count": 184,
   "id": "2cad1b13",
   "metadata": {},
   "outputs": [
    {
     "data": {
      "text/plain": [
       "{'criterion': 'entropy', 'n_estimators': 111}"
      ]
     },
     "execution_count": 184,
     "metadata": {},
     "output_type": "execute_result"
    }
   ],
   "source": [
    "grid = GridSearchCV(rfclf,param_grid=params_rf,scoring='balanced_accuracy',cv=10,n_jobs=-1).fit(Xtrain6,ytrain6)\n",
    "\n",
    "grid.best_score_\n",
    "grid.best_params_"
   ]
  },
  {
   "cell_type": "code",
   "execution_count": 185,
   "id": "02ca6a5f",
   "metadata": {},
   "outputs": [
    {
     "name": "stdout",
     "output_type": "stream",
     "text": [
      "predicted     0     1   All\n",
      "actual                     \n",
      "0          1180   106  1286\n",
      "1           229  1008  1237\n",
      "All        1409  1114  2523\n",
      "              precision    recall  f1-score   support\n",
      "\n",
      "           0       0.84      0.92      0.88      1286\n",
      "           1       0.90      0.81      0.86      1237\n",
      "\n",
      "    accuracy                           0.87      2523\n",
      "   macro avg       0.87      0.87      0.87      2523\n",
      "weighted avg       0.87      0.87      0.87      2523\n",
      "\n"
     ]
    },
    {
     "data": {
      "image/png": "[encoded data removed]",
      "text/plain": [
       "<Figure size 432x288 with 1 Axes>"
      ]
     },
     "metadata": {
      "needs_background": "light"
     },
     "output_type": "display_data"
    }
   ],
   "source": [
    "rm_ovr = rf_m2 = RandomForestClassifier(criterion='entropy',n_estimators=99).fit(Xtrain6,ytrain6)\n",
    "p8 = rm_ovr.predict(Xtest6)\n",
    "cm_auc(ytest6,p8)"
   ]
  },
  {
   "cell_type": "code",
   "execution_count": 186,
   "id": "578e6141",
   "metadata": {},
   "outputs": [
    {
     "name": "stdout",
     "output_type": "stream",
     "text": [
      "       Algorithm ModelName  0%  1%  acc %     AUC\n",
      "0      Log Reg 1     lr_m1  65  62     64  63.180\n",
      "1   Linear Reg 2     lr_m2  62  62     62  62.100\n",
      "2   LR_ovrSample   ovr_lr1  62  74     69  68.390\n",
      "3        DT gini     dt_m1  92  60     80  76.100\n",
      "4         DT_hyp     dt_m2  90  62     79  76.040\n",
      "5   RandomForest     rf_m1  95  57     81  75.970\n",
      "6         RF_hyp     rf_m2  94  58     81  76.020\n",
      "7  RF_ovr sample    rf_ovr  92  81     87  86.622\n"
     ]
    }
   ],
   "source": [
    "Model_dict = {'Algorithm':'RF_ovr sample','ModelName':'rf_ovr','0%':92,'1%':81,\n",
    "              'acc %':87,'AUC':86.622}\n",
    "model_summary= model_summary.append(Model_dict,ignore_index=True)\n",
    "print(model_summary)"
   ]
  },
  {
   "cell_type": "markdown",
   "id": "fa83a4f8",
   "metadata": {},
   "source": [
    "## Decision Tree oversample"
   ]
  },
  {
   "cell_type": "code",
   "execution_count": 187,
   "id": "e7ce8e11",
   "metadata": {},
   "outputs": [
    {
     "name": "stdout",
     "output_type": "stream",
     "text": [
      "predicted     0     1   All\n",
      "actual                     \n",
      "0          1136   150  1286\n",
      "1           276   961  1237\n",
      "All        1412  1111  2523\n",
      "              precision    recall  f1-score   support\n",
      "\n",
      "           0       0.80      0.88      0.84      1286\n",
      "           1       0.86      0.78      0.82      1237\n",
      "\n",
      "    accuracy                           0.83      2523\n",
      "   macro avg       0.83      0.83      0.83      2523\n",
      "weighted avg       0.83      0.83      0.83      2523\n",
      "\n"
     ]
    },
    {
     "data": {
      "image/png": "[encoded data removed]",
      "text/plain": [
       "<Figure size 432x288 with 1 Axes>"
      ]
     },
     "metadata": {
      "needs_background": "light"
     },
     "output_type": "display_data"
    }
   ],
   "source": [
    "dt_ovr = dt_m2 = DecisionTreeClassifier().fit(Xtrain6,ytrain6)\n",
    "p9 = dt_ovr.predict(Xtest6)\n",
    "cm_auc(ytest6,p9)"
   ]
  },
  {
   "cell_type": "code",
   "execution_count": 188,
   "id": "c8415dcc",
   "metadata": {},
   "outputs": [
    {
     "name": "stdout",
     "output_type": "stream",
     "text": [
      "       Algorithm ModelName  0%  1%  acc %     AUC\n",
      "0      Log Reg 1     lr_m1  65  62     64  63.180\n",
      "1   Linear Reg 2     lr_m2  62  62     62  62.100\n",
      "2   LR_ovrSample   ovr_lr1  62  74     69  68.390\n",
      "3        DT gini     dt_m1  92  60     80  76.100\n",
      "4         DT_hyp     dt_m2  90  62     79  76.040\n",
      "5   RandomForest     rf_m1  95  57     81  75.970\n",
      "6         RF_hyp     rf_m2  94  58     81  76.020\n",
      "7  RF_ovr sample    rf_ovr  92  81     87  86.622\n",
      "8  DT_ovr sample    dt_ovr  88  78     83  83.012\n"
     ]
    }
   ],
   "source": [
    "Model_dict = {'Algorithm':'DT_ovr sample','ModelName':'dt_ovr','0%':88,'1%':78,\n",
    "              'acc %':83,'AUC':83.012}\n",
    "model_summary= model_summary.append(Model_dict,ignore_index=True)\n",
    "print(model_summary)"
   ]
  },
  {
   "cell_type": "markdown",
   "id": "bebe48c8",
   "metadata": {},
   "source": [
    "       Algorithm ModelName  0%  1%  acc %     AUC\n",
    "0      Log Reg 1     lr_m1  65  62     64  63.180\n",
    "1   Linear Reg 2     lr_m2  62  62     62  62.100\n",
    "2   LR_ovrSample   ovr_lr1  62  74     69  68.390\n",
    "3        DT gini     dt_m1  92  60     80  76.100\n",
    "4         DT_hyp     dt_m2  90  62     79  76.040\n",
    "5   RandomForest     rf_m1  95  57     81  75.970\n",
    "6         RF_hyp     rf_m2  94  58     81  76.020\n",
    "7  RF_ovr sample    rf_ovr  92  81     87  86.622\n",
    "8  DT_ovr sample    dt_ovr  88  78     83  83.012"
   ]
  },
  {
   "cell_type": "code",
   "execution_count": null,
   "id": "c4b41f96",
   "metadata": {},
   "outputs": [],
   "source": []
  }
 ],
 "metadata": {
  "kernelspec": {
   "display_name": "Python 3",
   "language": "python",
   "name": "python3"
  },
  "language_info": {
   "codemirror_mode": {
    "name": "ipython",
    "version": 3
   },
   "file_extension": ".py",
   "mimetype": "text/x-python",
   "name": "python",
   "nbconvert_exporter": "python",
   "pygments_lexer": "ipython3",
   "version": "3.8.8"
  }
 },
 "nbformat": 4,
 "nbformat_minor": 5
}
